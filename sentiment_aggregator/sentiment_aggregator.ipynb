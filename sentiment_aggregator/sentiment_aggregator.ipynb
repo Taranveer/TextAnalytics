{
 "cells": [
  {
   "cell_type": "code",
   "execution_count": 5,
   "metadata": {
    "collapsed": true
   },
   "outputs": [],
   "source": [
    "import pandas as pd\n",
    "import spacy \n",
    "nlp = spacy.load('en')\n",
    "import numpy as np\n",
    "from sklearn.feature_extraction.text import CountVectorizer\n",
    "from collections import Counter \n",
    "from bs4 import BeautifulSoup \n",
    "import nltk\n",
    "from nltk.corpus import sentiwordnet as swn\n",
    "import re\n",
    "from nltk.tokenize import word_tokenize\n",
    "from nltk.util import ngrams\n",
    "from nltk.corpus import stopwords \n",
    "from nltk.stem import WordNetLemmatizer\n",
    "wordnet_lemmatizer = WordNetLemmatizer()\n",
    "from nltk.stem import SnowballStemmer\n",
    "snowball_stemmer = SnowballStemmer(\"english\")\n",
    "stop = set(stopwords.words('english'))\n",
    "\n",
    "import pickle\n",
    "\n",
    "def dump(obj,filename):\n",
    "    filehandler = open(filename,\"wb\")\n",
    "    pickle.dump(obj,filehandler)\n",
    "    filehandler.close()\n",
    "\n",
    "def load(filename):\n",
    "    file = open(filename,'rb')\n",
    "    obj = pickle.load(file)\n",
    "    file.close()\n",
    "    return obj"
   ]
  },
  {
   "cell_type": "code",
   "execution_count": 2,
   "metadata": {
    "collapsed": true
   },
   "outputs": [],
   "source": [
    "# CLEANS TEXT BY REPLACING CHARACTERS\n",
    "def getCleanText(text, lower = True):\n",
    "    text = str(text)\n",
    "    parse_text = BeautifulSoup(text).get_text()\n",
    "    letters_only = re.sub(r'http[s]?:\\/\\/(?:[a-zA-Z]|[0-9]|[$-_@.&+]|[!*\\(\\),]|(?:%[0-9a-fA-F][0-9a-fA-F]))+', ' url ', \n",
    "                          parse_text, flags=re.MULTILINE)\n",
    "    letters_only = re.sub('^(1?[0-9]|2[0-3]):[0-5][0-9]$','time',letters_only)\n",
    "    letters_only = re.sub('(name|NAME)\\d{1,}','username',letters_only)\n",
    "    letters_only = re.sub(\"[^a-zA-Z0-9\\.:']\",  \n",
    "                      \" \",                   \n",
    "                      letters_only)\n",
    "    letters_only = letters_only.replace('\\n',\" \")\n",
    "    letters_only = letters_only.replace('\\r',\" \")\n",
    "    letters_only = re.sub('[.]{2,}', '. ', letters_only)\n",
    "    if lower:\n",
    "        letters_only = letters_only.lower()\n",
    "    #words = word_tokenize(lower)\n",
    "    words = CountVectorizer(stop_words='english').build_tokenizer()(letters_only)\n",
    "    meaningful_words = [ w for w in words if len(w)> 0 and len(w)<20]\n",
    "    #meaningful_words = [w if (w not in countries) and (w not in cities) else u\"country\" for w in meaningful_words]\n",
    "    #lem_words = [wordnet_lemmatizer.lemmatize(w) for w in  meaningful_words]\n",
    "    #stem_words = [snowball_stemmer.stem(w) for w in lem_words]\n",
    "    clean_text = \" \".join(meaningful_words)\n",
    "    return clean_text"
   ]
  },
  {
   "cell_type": "code",
   "execution_count": 3,
   "metadata": {
    "collapsed": true
   },
   "outputs": [],
   "source": [
    "def scoring(doc):\n",
    "    stokens = [nltk.word_tokenize(doc)]\n",
    "    taggedlist=[]\n",
    "    for stoken in stokens:        \n",
    "        taggedlist.append(nltk.pos_tag(stoken))\n",
    "    wnl = nltk.WordNetLemmatizer()\n",
    "    score_list=[]\n",
    "    for idx,taggedsent in enumerate(taggedlist):\n",
    "        score_list.append([])\n",
    "        for idx2,t in enumerate(taggedsent):\n",
    "            # creates new tags for the words using swn format\n",
    "            newtag=''\n",
    "            lemmatized=wnl.lemmatize(t[0])\n",
    "            if t[1].startswith('NN'):\n",
    "                newtag='n'\n",
    "            elif t[1].startswith('JJ'):\n",
    "                newtag='a'\n",
    "            elif t[1].startswith('V'):\n",
    "                newtag='v'\n",
    "            elif t[1].startswith('R'):\n",
    "                newtag='r'\n",
    "            else:\n",
    "                newtag=''       \n",
    "            # based on tag it gives the word a score\n",
    "            if(newtag!=''):    \n",
    "                synsets = list(swn.senti_synsets(lemmatized, newtag)) # object containing words and the positive, negative and objective values\n",
    "                score=0\n",
    "                if(len(synsets)>0):\n",
    "                    for syn in synsets:\n",
    "                        score+=syn.pos_score()-syn.neg_score()\n",
    "                    #score_list[idx].append(score) # sends average score per word\n",
    "                    score_list[idx].append(score/len(synsets)) # sends average score per word\n",
    "    sentence_sentiment=[]\n",
    "    # get the average score of sentence for the doc passed\n",
    "    for score_sent in score_list:\n",
    "        if len(score_sent) > 0: # if to prevent zero division \n",
    "            #sentence_sentiment.append(sum([word_score for word_score in score_sent]))\n",
    "            sentence_sentiment.append(sum([word_score for word_score in score_sent])/len(score_sent))\n",
    "        else:\n",
    "            sentence_sentiment.append(0)\n",
    "            continue\n",
    "    return sentence_sentiment # Returns the average sentiment per word per sentence"
   ]
  },
  {
   "cell_type": "code",
   "execution_count": 31,
   "metadata": {},
   "outputs": [
    {
     "name": "stdout",
     "output_type": "stream",
     "text": [
      "<class 'pandas.core.frame.DataFrame'>\n",
      "(18340, 17)\n",
      "['Mobile & Apps FILE - In this July 9, 2015, file photo, Pepsi bottles are on display for sale at a supermarket in Haverhill, Mass. PepsiCo Inc. reports earnings, Wednesday, Oct. 4, 2017. Elise Amendola, File AP Photo FILE - In this July 9, 2015, file photo, Pepsi bottles are on display for sale at a supermarket in Haverhill, Mass. PepsiCo Inc. reports earnings, Wednesday, Oct. 4, 2017. Elise Amendola, File AP Photo PepsiCo beats 3Q profit forecasts The Associated Press October 04, 2017 3:19 AM PURCHASE, N.Y. PepsiCo Inc. is reporting third-quarter earnings of $2.14 billion.', 'Mobile & Apps FILE - In this July 9, 2015, file photo, Pepsi bottles are on display for sale at a supermarket in Haverhill, Mass. PepsiCo Inc. reports earnings, Wednesday, Oct. 4, 2017. Elise Amendola, File AP Photo FILE - In this July 9, 2015, file photo, Pepsi bottles are on display for sale at a supermarket in Haverhill, Mass. PepsiCo Inc. reports earnings, Wednesday, Oct. 4, 2017. Elise Amendola, File AP Photo PepsiCo beats 3Q profit forecasts The Associated Press October 04, 2017 3:19 AM PURCHASE, N.Y. PepsiCo Inc. is reporting third-quarter earnings of $2.14 billion. The Purchase, New York, company said Wednesday that net income was $1.49 per share.', '\"When Patricia projects a vision of things to come for Stellar Scholars,\" opines co-founder Frank Dattilo, \"she sets the bar high and never seems to miss the mark. With the rampant planet-wide success of sister satellite websites Stellar Romance and Saints and Scholars with their celebrity endorsements and legions avid daily readers from all fifty States, the District of Columbia and 32 foreign countries from Israel to Iceland, from Dublin to Sydney, from Paris to Portland, she is well aware that our free gift-link offerings are not the stuff of ethereal substance but of a strong commercial base.\" Executive Creative Director Ashley Sword seconds the statement: \"When you assess the body of Stellar Scholars work, you immediately see that our projects may be non-profit in mission but have always been commercial in their creation and execution, from our line of classy Stellar Novellas to our films for Chrysler, as well as our television and radio spots for McDonald\\'s and Coca-Cola.\" Continues Ashley: \"The important aspect of Patricia\\'s recommended selections for conversions to film and television is that Roundtable chief Dattilo\\'s scenario-writing experience makes even the shortest of short stories read like film treatments.\" As part and parcel of Stellar Scholars lofty ambitions, it welcomes representation of the titles ventured forth by Patricia to large literary agencies for ancillary film and television rights.', 'From simply clicking the share buttons of positive posts around your brand or goods and services, you can spark more customer engagement. Perfect. Example 1 : Coca-Cola share posts positively promoting the use of the product and those that include the specific hashtag ‘#ShareACoke’. Example 2 : Walkers Crisps use football star Reggie Yates’ promotional video to post on their channel to encourage football fans into buying Walkers. This targets a large audience through clever use of publishing follower/influencer content.', 'But don’t go hashtag mad! Too many hashtags can be more damaging to your social media feed and brand reputation than you think! Coca-Cola made great use of the #ShareACoke hashtag across multiple social media channels including Instagram. Each post that contained this hashtag can be easily found by performing a simple search with the hashtag in the Instagram search bar. This is great for connecting with each user who has used your specific hashtag which opens to door to engagement worldwide, in an easy way.']\n"
     ]
    }
   ],
   "source": [
    "#LOAD LIST FROM DATA\n",
    "# IF WE HAVE TIME ANALYZE DATA USING THE DATAFRAME\n",
    "conversations = load(\"../dumps/df_sel_entities.pkl\")\n",
    "print(type(conversations))\n",
    "print(conversations.shape)\n",
    "conversations = list(conversations['Sound Bite Text'])\n",
    "print(conversations[:5])"
   ]
  },
  {
   "cell_type": "code",
   "execution_count": 7,
   "metadata": {
    "collapsed": true
   },
   "outputs": [],
   "source": [
    "# standarize text for tagging and sentiment scoring\n",
    "clean_conversations = map(getCleanText, conversations)"
   ]
  },
  {
   "cell_type": "code",
   "execution_count": 8,
   "metadata": {},
   "outputs": [
    {
     "name": "stderr",
     "output_type": "stream",
     "text": [
      "/home/k/anaconda3/lib/python3.6/site-packages/bs4/__init__.py:181: UserWarning: No parser was explicitly specified, so I'm using the best available HTML parser for this system (\"lxml\"). This usually isn't a problem, but if you run this code on another system, or in a different virtual environment, it may use a different parser and behave differently.\n",
      "\n",
      "The code that caused this warning is on line 193 of the file /home/k/anaconda3/lib/python3.6/runpy.py. To get rid of this warning, change code that looks like this:\n",
      "\n",
      " BeautifulSoup(YOUR_MARKUP})\n",
      "\n",
      "to this:\n",
      "\n",
      " BeautifulSoup(YOUR_MARKUP, \"lxml\")\n",
      "\n",
      "  markup_type=markup_type))\n"
     ]
    }
   ],
   "source": [
    "# tagging and scoring\n",
    "sentiment_scores = map(scoring, clean_conversations)\n",
    "sentence_sentiment = list(sentiment_scores)"
   ]
  },
  {
   "cell_type": "code",
   "execution_count": 9,
   "metadata": {},
   "outputs": [
    {
     "name": "stdout",
     "output_type": "stream",
     "text": [
      "18340\n"
     ]
    }
   ],
   "source": [
    "# Just to give format\n",
    "z=[]\n",
    "for i in sentence_sentiment:\n",
    "    if not i:\n",
    "        z.append(0)\n",
    "    for v in i:\n",
    "        if not v:\n",
    "            z.append(0)\n",
    "        else:\n",
    "            z.append(v)\n",
    "print(len(z))\n",
    "sentence_sentiment = z"
   ]
  },
  {
   "cell_type": "code",
   "execution_count": 10,
   "metadata": {
    "collapsed": true
   },
   "outputs": [],
   "source": [
    "# JUST USE THIS SCALAR FOR AVERAGE SENTIMENT PER WORD PER SENTENCE | OTHERWISE THE HISTOGRAM WILL NOT WORK\n",
    "sentence_sentiment = [x * 10 for x in sentence_sentiment]"
   ]
  },
  {
   "cell_type": "code",
   "execution_count": 15,
   "metadata": {},
   "outputs": [
    {
     "data": {
      "image/png": "[encoded data removed]",
      "text/plain": [
       "<matplotlib.figure.Figure at 0x7f7e94749cc0>"
      ]
     },
     "metadata": {},
     "output_type": "display_data"
    },
    {
     "name": "stdout",
     "output_type": "stream",
     "text": [
      "max: 5.9375\n",
      "min: -5.83333333333\n"
     ]
    }
   ],
   "source": [
    "import numpy as np\n",
    "import random\n",
    "import math\n",
    "from matplotlib import pyplot as plt\n",
    "\n",
    "data = pd.Series(sentence_sentiment)\n",
    "bins = np.linspace(math.ceil(min(data)), \n",
    "                   math.floor(max(data)),\n",
    "                   80) # fixed number of bins\n",
    "plt.figure(1, figsize=(14, 6))\n",
    "plt.xlim(-2, 2)\n",
    "#plt.xlim([min(data), max(data)])\n",
    "plt.hist(data, bins=bins, alpha=1)\n",
    "plt.title('Sentiment score (average per word and sentence)')\n",
    "plt.xlabel('Score (80 evenly spaced bins)')\n",
    "plt.ylabel('Count')\n",
    "plt.show()\n",
    "print(\"max: \" + str(max(data)))\n",
    "print(\"min: \" + str(min(data)))"
   ]
  },
  {
   "cell_type": "code",
   "execution_count": 25,
   "metadata": {
    "collapsed": true
   },
   "outputs": [],
   "source": [
    "# Dumps results\n",
    "dump(sentence_sentiment, \"../dumps/sentiment_per_sentence.pkl\")"
   ]
  },
  {
   "cell_type": "markdown",
   "metadata": {},
   "source": [
    "#### Prepare data for merge"
   ]
  },
  {
   "cell_type": "code",
   "execution_count": 32,
   "metadata": {},
   "outputs": [
    {
     "name": "stdout",
     "output_type": "stream",
     "text": [
      "<class 'pandas.core.frame.DataFrame'>\n",
      "(18340, 17)\n"
     ]
    },
    {
     "data": {
      "text/html": [
       "<div>\n",
       "<style>\n",
       "    .dataframe thead tr:only-child th {\n",
       "        text-align: right;\n",
       "    }\n",
       "\n",
       "    .dataframe thead th {\n",
       "        text-align: left;\n",
       "    }\n",
       "\n",
       "    .dataframe tbody tr th {\n",
       "        vertical-align: top;\n",
       "    }\n",
       "</style>\n",
       "<table border=\"1\" class=\"dataframe\">\n",
       "  <thead>\n",
       "    <tr style=\"text-align: right;\">\n",
       "      <th></th>\n",
       "      <th>Unnamed: 0</th>\n",
       "      <th>index</th>\n",
       "      <th>Sound Bite Text</th>\n",
       "      <th>Title</th>\n",
       "      <th>Post Type</th>\n",
       "      <th>Media Type</th>\n",
       "      <th>Source Type</th>\n",
       "      <th>Domain</th>\n",
       "      <th>Richness</th>\n",
       "      <th>Interests</th>\n",
       "      <th>Positive Objects</th>\n",
       "      <th>Negative Objects</th>\n",
       "      <th>Topic_top</th>\n",
       "      <th>Topic_id</th>\n",
       "      <th>Topic_raw</th>\n",
       "      <th>Topic_name</th>\n",
       "      <th>entities</th>\n",
       "    </tr>\n",
       "  </thead>\n",
       "  <tbody>\n",
       "    <tr>\n",
       "      <th>0</th>\n",
       "      <td>0</td>\n",
       "      <td>0</td>\n",
       "      <td>Mobile &amp; Apps FILE - In this July 9, 2015, fil...</td>\n",
       "      <td>PepsiCo beats 3Q profit forecasts</td>\n",
       "      <td>Original</td>\n",
       "      <td>No Media</td>\n",
       "      <td>Blogs</td>\n",
       "      <td>mercedsunstar.com</td>\n",
       "      <td>1.0</td>\n",
       "      <td>NaN</td>\n",
       "      <td>NaN</td>\n",
       "      <td>NaN</td>\n",
       "      <td>6</td>\n",
       "      <td>6</td>\n",
       "      <td>6:0.987499999969</td>\n",
       "      <td>terms14.png</td>\n",
       "      <td>elise amendola_file ap_the associated press_mo...</td>\n",
       "    </tr>\n",
       "    <tr>\n",
       "      <th>1</th>\n",
       "      <td>1</td>\n",
       "      <td>1</td>\n",
       "      <td>Mobile &amp; Apps FILE - In this July 9, 2015, fil...</td>\n",
       "      <td>PepsiCo beats 3Q profit forecasts</td>\n",
       "      <td>Original</td>\n",
       "      <td>No Media</td>\n",
       "      <td>Blogs</td>\n",
       "      <td>mercedsunstar.com</td>\n",
       "      <td>1.0</td>\n",
       "      <td>NaN</td>\n",
       "      <td>NaN</td>\n",
       "      <td>NaN</td>\n",
       "      <td>6</td>\n",
       "      <td>6</td>\n",
       "      <td>6:0.98908045974</td>\n",
       "      <td>terms14.png</td>\n",
       "      <td>elise amendola_file ap_the associated press_mo...</td>\n",
       "    </tr>\n",
       "  </tbody>\n",
       "</table>\n",
       "</div>"
      ],
      "text/plain": [
       "   Unnamed: 0  index                                    Sound Bite Text  \\\n",
       "0           0      0  Mobile & Apps FILE - In this July 9, 2015, fil...   \n",
       "1           1      1  Mobile & Apps FILE - In this July 9, 2015, fil...   \n",
       "\n",
       "                               Title Post Type Media Type Source Type  \\\n",
       "0  PepsiCo beats 3Q profit forecasts  Original   No Media       Blogs   \n",
       "1  PepsiCo beats 3Q profit forecasts  Original   No Media       Blogs   \n",
       "\n",
       "              Domain  Richness Interests Positive Objects Negative Objects  \\\n",
       "0  mercedsunstar.com       1.0       NaN              NaN              NaN   \n",
       "1  mercedsunstar.com       1.0       NaN              NaN              NaN   \n",
       "\n",
       "   Topic_top Topic_id         Topic_raw   Topic_name  \\\n",
       "0          6        6  6:0.987499999969  terms14.png   \n",
       "1          6        6   6:0.98908045974  terms14.png   \n",
       "\n",
       "                                            entities  \n",
       "0  elise amendola_file ap_the associated press_mo...  \n",
       "1  elise amendola_file ap_the associated press_mo...  "
      ]
     },
     "execution_count": 32,
     "metadata": {},
     "output_type": "execute_result"
    }
   ],
   "source": [
    "# loads DF with entities\n",
    "df = load('../dumps/df_sel_entities.pkl')\n",
    "print(type(df))\n",
    "print(df.shape)\n",
    "df.head(2)"
   ]
  },
  {
   "cell_type": "code",
   "execution_count": 28,
   "metadata": {},
   "outputs": [
    {
     "name": "stdout",
     "output_type": "stream",
     "text": [
      "<class 'list'>\n",
      "18340\n",
      "[0.14724323583019233, 0.1373463151559952, 0.3155255039713011, 0.5319999294184077, 0.22614322150128127]\n"
     ]
    }
   ],
   "source": [
    "# loads sentiments scores created\n",
    "sentiment_score=load('../dumps/sentiment_per_sentence.pkl')\n",
    "print(type(sentiment_score))\n",
    "print(len(sentiment_score))\n",
    "print(sentiment_score[:5])"
   ]
  },
  {
   "cell_type": "markdown",
   "metadata": {},
   "source": [
    "#### Merge new information"
   ]
  },
  {
   "cell_type": "code",
   "execution_count": 29,
   "metadata": {},
   "outputs": [
    {
     "name": "stdout",
     "output_type": "stream",
     "text": [
      "(18340, 18)\n"
     ]
    },
    {
     "data": {
      "text/html": [
       "<div>\n",
       "<style>\n",
       "    .dataframe thead tr:only-child th {\n",
       "        text-align: right;\n",
       "    }\n",
       "\n",
       "    .dataframe thead th {\n",
       "        text-align: left;\n",
       "    }\n",
       "\n",
       "    .dataframe tbody tr th {\n",
       "        vertical-align: top;\n",
       "    }\n",
       "</style>\n",
       "<table border=\"1\" class=\"dataframe\">\n",
       "  <thead>\n",
       "    <tr style=\"text-align: right;\">\n",
       "      <th></th>\n",
       "      <th>Unnamed: 0</th>\n",
       "      <th>index</th>\n",
       "      <th>Sound Bite Text</th>\n",
       "      <th>Title</th>\n",
       "      <th>Post Type</th>\n",
       "      <th>Media Type</th>\n",
       "      <th>Source Type</th>\n",
       "      <th>Domain</th>\n",
       "      <th>Richness</th>\n",
       "      <th>Interests</th>\n",
       "      <th>Positive Objects</th>\n",
       "      <th>Negative Objects</th>\n",
       "      <th>Topic_top</th>\n",
       "      <th>Topic_id</th>\n",
       "      <th>Topic_raw</th>\n",
       "      <th>Topic_name</th>\n",
       "      <th>entities</th>\n",
       "      <th>Sentiment</th>\n",
       "    </tr>\n",
       "  </thead>\n",
       "  <tbody>\n",
       "    <tr>\n",
       "      <th>0</th>\n",
       "      <td>0</td>\n",
       "      <td>0</td>\n",
       "      <td>Mobile &amp; Apps FILE - In this July 9, 2015, fil...</td>\n",
       "      <td>PepsiCo beats 3Q profit forecasts</td>\n",
       "      <td>Original</td>\n",
       "      <td>No Media</td>\n",
       "      <td>Blogs</td>\n",
       "      <td>mercedsunstar.com</td>\n",
       "      <td>1.0</td>\n",
       "      <td>NaN</td>\n",
       "      <td>NaN</td>\n",
       "      <td>NaN</td>\n",
       "      <td>6</td>\n",
       "      <td>6</td>\n",
       "      <td>6:0.987499999969</td>\n",
       "      <td>terms14.png</td>\n",
       "      <td>elise amendola_file ap_the associated press_mo...</td>\n",
       "      <td>0.147243</td>\n",
       "    </tr>\n",
       "    <tr>\n",
       "      <th>1</th>\n",
       "      <td>1</td>\n",
       "      <td>1</td>\n",
       "      <td>Mobile &amp; Apps FILE - In this July 9, 2015, fil...</td>\n",
       "      <td>PepsiCo beats 3Q profit forecasts</td>\n",
       "      <td>Original</td>\n",
       "      <td>No Media</td>\n",
       "      <td>Blogs</td>\n",
       "      <td>mercedsunstar.com</td>\n",
       "      <td>1.0</td>\n",
       "      <td>NaN</td>\n",
       "      <td>NaN</td>\n",
       "      <td>NaN</td>\n",
       "      <td>6</td>\n",
       "      <td>6</td>\n",
       "      <td>6:0.98908045974</td>\n",
       "      <td>terms14.png</td>\n",
       "      <td>elise amendola_file ap_the associated press_mo...</td>\n",
       "      <td>0.137346</td>\n",
       "    </tr>\n",
       "  </tbody>\n",
       "</table>\n",
       "</div>"
      ],
      "text/plain": [
       "   Unnamed: 0  index                                    Sound Bite Text  \\\n",
       "0           0      0  Mobile & Apps FILE - In this July 9, 2015, fil...   \n",
       "1           1      1  Mobile & Apps FILE - In this July 9, 2015, fil...   \n",
       "\n",
       "                               Title Post Type Media Type Source Type  \\\n",
       "0  PepsiCo beats 3Q profit forecasts  Original   No Media       Blogs   \n",
       "1  PepsiCo beats 3Q profit forecasts  Original   No Media       Blogs   \n",
       "\n",
       "              Domain  Richness Interests Positive Objects Negative Objects  \\\n",
       "0  mercedsunstar.com       1.0       NaN              NaN              NaN   \n",
       "1  mercedsunstar.com       1.0       NaN              NaN              NaN   \n",
       "\n",
       "   Topic_top Topic_id         Topic_raw   Topic_name  \\\n",
       "0          6        6  6:0.987499999969  terms14.png   \n",
       "1          6        6   6:0.98908045974  terms14.png   \n",
       "\n",
       "                                            entities  Sentiment  \n",
       "0  elise amendola_file ap_the associated press_mo...   0.147243  \n",
       "1  elise amendola_file ap_the associated press_mo...   0.137346  "
      ]
     },
     "execution_count": 29,
     "metadata": {},
     "output_type": "execute_result"
    }
   ],
   "source": [
    "df = df.assign(Sentiment = sentiment_score)\n",
    "print(df.shape)\n",
    "df.head(2)"
   ]
  },
  {
   "cell_type": "markdown",
   "metadata": {},
   "source": [
    "#### Dumps DF merged"
   ]
  },
  {
   "cell_type": "code",
   "execution_count": 30,
   "metadata": {
    "collapsed": true
   },
   "outputs": [],
   "source": [
    "dump(df, \"../dumps/df_sel_entities_sentiment.pkl\")"
   ]
  }
 ],
 "metadata": {
  "kernelspec": {
   "display_name": "Python 3",
   "language": "python",
   "name": "python3"
  },
  "language_info": {
   "codemirror_mode": {
    "name": "ipython",
    "version": 3
   },
   "file_extension": ".py",
   "mimetype": "text/x-python",
   "name": "python",
   "nbconvert_exporter": "python",
   "pygments_lexer": "ipython3",
   "version": "3.6.2"
  }
 },
 "nbformat": 4,
 "nbformat_minor": 2
}
