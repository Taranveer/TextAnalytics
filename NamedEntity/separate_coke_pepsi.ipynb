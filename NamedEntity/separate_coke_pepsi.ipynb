{
 "cells": [
  {
   "cell_type": "code",
   "execution_count": 3,
   "metadata": {
    "collapsed": true
   },
   "outputs": [],
   "source": [
    "import pickle\n",
    "\n",
    "#helper functionsto dump/load pickle files\n",
    "def dump(obj,filename):\n",
    "    filehandler = open(filename,\"wb\")\n",
    "    pickle.dump(obj,filehandler)\n",
    "    filehandler.close()\n",
    "\n",
    "def load(filename):\n",
    "    file = open(filename,'rb')\n",
    "    obj = pickle.load(file)\n",
    "    file.close()\n",
    "    return obj"
   ]
  },
  {
   "cell_type": "code",
   "execution_count": 4,
   "metadata": {
    "collapsed": true
   },
   "outputs": [],
   "source": [
    "#helper function used from \n",
    "def getCleanText(text, lower = True):\n",
    "    text = str(text)\n",
    "    parse_text = BeautifulSoup(text).get_text()\n",
    "    \n",
    "    letters_only = re.sub(r'http[s]?:\\/\\/(?:[a-zA-Z]|[0-9]|[$-_@.&+]|[!*\\(\\),]|(?:%[0-9a-fA-F][0-9a-fA-F]))+', ' url ', \n",
    "                          parse_text, flags=re.MULTILINE)\n",
    "    letters_only = re.sub('^(1?[0-9]|2[0-3]):[0-5][0-9]$','time',letters_only)\n",
    "    letters_only = re.sub('(name|NAME)\\d{1,}','username',letters_only)   \n",
    "    letters_only = re.sub(\"[^a-zA-Z0-9\\.:']\",  \n",
    "                      \" \",                   \n",
    "                      letters_only)\n",
    "    letters_only = letters_only.replace('\\n',\" \")\n",
    "    letters_only = letters_only.replace('\\r',\" \")\n",
    "    letters_only = re.sub('[.]{2,}', '. ', letters_only) \n",
    "    if lower:\n",
    "        letters_only = letters_only.lower()\n",
    "    words = CountVectorizer(stop_words='english').build_tokenizer()(letters_only)\n",
    "    meaningful_words = [ w for w in words if len(w)> 0 and len(w)<20]\n",
    "    clean_text = \" \".join(meaningful_words)\n",
    "    return clean_text"
   ]
  },
  {
   "cell_type": "markdown",
   "metadata": {},
   "source": [
    "#### Loads data"
   ]
  },
  {
   "cell_type": "code",
   "execution_count": 6,
   "metadata": {},
   "outputs": [
    {
     "name": "stdout",
     "output_type": "stream",
     "text": [
      "[['PepsiCo Inc.', 'Elise Amendola', 'Pepsi', '3Q', 'File AP Photo', 'N.Y. PepsiCo Inc.', 'The Associated Press', 'Mobile & Apps FILE', 'File AP'], ['PepsiCo Inc.', 'Elise Amendola', 'Pepsi', '3Q', 'File AP Photo', 'N.Y. PepsiCo Inc.', 'The Associated Press', 'Mobile & Apps FILE', 'File AP'], ['the District of Columbia', 'Chrysler', 'McDonald', 'Coca-Cola', '\" Executive Creative Director Ashley Sword', 'Stellar Novellas', 'Stellar Scholars', 'Roundtable', 'Stellar Romance'], ['Crisps', 'Coca-Cola', 'Walkers'], ['Coca-Cola', 'Instagram']]\n"
     ]
    }
   ],
   "source": [
    "obj = load('../dumps/df_sel_entities_list.pkl')\n",
    "print(len(obj))\n",
    "print(obj[:5])"
   ]
  },
  {
   "cell_type": "markdown",
   "metadata": {},
   "source": [
    "#### Separates data in categories based on entities found"
   ]
  },
  {
   "cell_type": "code",
   "execution_count": 7,
   "metadata": {
    "collapsed": true
   },
   "outputs": [],
   "source": [
    "pepsiIdx=[];\n",
    "cokeIdx=[];\n",
    "bothIdx=[];\n",
    "i=0;\n",
    "for o in obj: # runs thourgh lists in list\n",
    "    if(o[0] != \"<UNK>\"):\n",
    "        foundCoke = False;\n",
    "        foundPepsi = False;\n",
    "        for ent in o:\n",
    "            ent = str(ent).lower()\n",
    "            if \"coke\" in ent or \"coca\" in ent or \"cola\" in ent:\n",
    "                foundCoke = True;\n",
    "            if \"pepsi\" in ent or \"pepsico\" in ent:\n",
    "                foundPepsi = True;\n",
    "        if foundCoke and foundPepsi:\n",
    "            bothIdx.append(i)\n",
    "        elif foundCoke:\n",
    "            cokeIdx.append(i)\n",
    "        elif foundPepsi:\n",
    "            pepsiIdx.append(i)\n",
    "    i=i+1;"
   ]
  },
  {
   "cell_type": "markdown",
   "metadata": {},
   "source": [
    "#### Validation and putting everything together"
   ]
  },
  {
   "cell_type": "code",
   "execution_count": 8,
   "metadata": {},
   "outputs": [
    {
     "name": "stdout",
     "output_type": "stream",
     "text": [
      "[0, 1, 16, 18, 19, 21, 22, 23, 36, 37]\n"
     ]
    }
   ],
   "source": [
    "print(pepsiIdx[:10])"
   ]
  },
  {
   "cell_type": "code",
   "execution_count": 9,
   "metadata": {},
   "outputs": [
    {
     "name": "stdout",
     "output_type": "stream",
     "text": [
      "[2, 3, 4, 5, 6, 7, 8, 9, 10, 11]\n"
     ]
    }
   ],
   "source": [
    "print(cokeIdx[:10])"
   ]
  },
  {
   "cell_type": "code",
   "execution_count": 10,
   "metadata": {},
   "outputs": [
    {
     "name": "stdout",
     "output_type": "stream",
     "text": [
      "[24, 25, 76, 93, 157, 158, 186, 191, 196, 211]\n"
     ]
    }
   ],
   "source": [
    "print(bothIdx[:10])"
   ]
  },
  {
   "cell_type": "code",
   "execution_count": 11,
   "metadata": {},
   "outputs": [
    {
     "name": "stdout",
     "output_type": "stream",
     "text": [
      "18340\n",
      "['Pepsi', 'Pepsi', 'Coke', 'Coke', 'Coke']\n"
     ]
    }
   ],
   "source": [
    "category = [\"None\"]*len(obj)\n",
    "len(category)\n",
    "for i in pepsiIdx:\n",
    "    category[i] = \"Pepsi\"\n",
    "for i in cokeIdx:\n",
    "    category[i] = \"Coke\"\n",
    "for i in bothIdx:\n",
    "    category[i] = \"Both\"\n",
    "print(len(category))\n",
    "print(category[:5])"
   ]
  },
  {
   "cell_type": "markdown",
   "metadata": {},
   "source": [
    "#### Merge with main DF"
   ]
  },
  {
   "cell_type": "code",
   "execution_count": 12,
   "metadata": {},
   "outputs": [
    {
     "name": "stdout",
     "output_type": "stream",
     "text": [
      "(18340, 18)\n"
     ]
    },
    {
     "data": {
      "text/html": [
       "<div>\n",
       "<style>\n",
       "    .dataframe thead tr:only-child th {\n",
       "        text-align: right;\n",
       "    }\n",
       "\n",
       "    .dataframe thead th {\n",
       "        text-align: left;\n",
       "    }\n",
       "\n",
       "    .dataframe tbody tr th {\n",
       "        vertical-align: top;\n",
       "    }\n",
       "</style>\n",
       "<table border=\"1\" class=\"dataframe\">\n",
       "  <thead>\n",
       "    <tr style=\"text-align: right;\">\n",
       "      <th></th>\n",
       "      <th>Unnamed: 0</th>\n",
       "      <th>index</th>\n",
       "      <th>Sound Bite Text</th>\n",
       "      <th>Title</th>\n",
       "      <th>Post Type</th>\n",
       "      <th>Media Type</th>\n",
       "      <th>Source Type</th>\n",
       "      <th>Domain</th>\n",
       "      <th>Richness</th>\n",
       "      <th>Interests</th>\n",
       "      <th>Positive Objects</th>\n",
       "      <th>Negative Objects</th>\n",
       "      <th>Topic_top</th>\n",
       "      <th>Topic_id</th>\n",
       "      <th>Topic_raw</th>\n",
       "      <th>Topic_name</th>\n",
       "      <th>entities</th>\n",
       "      <th>Sentiment</th>\n",
       "    </tr>\n",
       "  </thead>\n",
       "  <tbody>\n",
       "    <tr>\n",
       "      <th>0</th>\n",
       "      <td>0</td>\n",
       "      <td>0</td>\n",
       "      <td>Mobile &amp; Apps FILE - In this July 9, 2015, fil...</td>\n",
       "      <td>PepsiCo beats 3Q profit forecasts</td>\n",
       "      <td>Original</td>\n",
       "      <td>No Media</td>\n",
       "      <td>Blogs</td>\n",
       "      <td>mercedsunstar.com</td>\n",
       "      <td>1.0</td>\n",
       "      <td>NaN</td>\n",
       "      <td>NaN</td>\n",
       "      <td>NaN</td>\n",
       "      <td>6</td>\n",
       "      <td>6</td>\n",
       "      <td>6:0.987499999969</td>\n",
       "      <td>terms14.png</td>\n",
       "      <td>elise amendola_file ap_the associated press_mo...</td>\n",
       "      <td>0.147243</td>\n",
       "    </tr>\n",
       "    <tr>\n",
       "      <th>1</th>\n",
       "      <td>1</td>\n",
       "      <td>1</td>\n",
       "      <td>Mobile &amp; Apps FILE - In this July 9, 2015, fil...</td>\n",
       "      <td>PepsiCo beats 3Q profit forecasts</td>\n",
       "      <td>Original</td>\n",
       "      <td>No Media</td>\n",
       "      <td>Blogs</td>\n",
       "      <td>mercedsunstar.com</td>\n",
       "      <td>1.0</td>\n",
       "      <td>NaN</td>\n",
       "      <td>NaN</td>\n",
       "      <td>NaN</td>\n",
       "      <td>6</td>\n",
       "      <td>6</td>\n",
       "      <td>6:0.98908045974</td>\n",
       "      <td>terms14.png</td>\n",
       "      <td>elise amendola_file ap_the associated press_mo...</td>\n",
       "      <td>0.137346</td>\n",
       "    </tr>\n",
       "  </tbody>\n",
       "</table>\n",
       "</div>"
      ],
      "text/plain": [
       "   Unnamed: 0  index                                    Sound Bite Text  \\\n",
       "0           0      0  Mobile & Apps FILE - In this July 9, 2015, fil...   \n",
       "1           1      1  Mobile & Apps FILE - In this July 9, 2015, fil...   \n",
       "\n",
       "                               Title Post Type Media Type Source Type  \\\n",
       "0  PepsiCo beats 3Q profit forecasts  Original   No Media       Blogs   \n",
       "1  PepsiCo beats 3Q profit forecasts  Original   No Media       Blogs   \n",
       "\n",
       "              Domain  Richness Interests Positive Objects Negative Objects  \\\n",
       "0  mercedsunstar.com       1.0       NaN              NaN              NaN   \n",
       "1  mercedsunstar.com       1.0       NaN              NaN              NaN   \n",
       "\n",
       "   Topic_top Topic_id         Topic_raw   Topic_name  \\\n",
       "0          6        6  6:0.987499999969  terms14.png   \n",
       "1          6        6   6:0.98908045974  terms14.png   \n",
       "\n",
       "                                            entities  Sentiment  \n",
       "0  elise amendola_file ap_the associated press_mo...   0.147243  \n",
       "1  elise amendola_file ap_the associated press_mo...   0.137346  "
      ]
     },
     "execution_count": 12,
     "metadata": {},
     "output_type": "execute_result"
    }
   ],
   "source": [
    "df = load(\"../dumps/df_sel_entities_sentiment.pkl\")\n",
    "print(df.shape)\n",
    "df.head(2)"
   ]
  },
  {
   "cell_type": "code",
   "execution_count": 13,
   "metadata": {},
   "outputs": [
    {
     "name": "stdout",
     "output_type": "stream",
     "text": [
      "(18340, 19)\n"
     ]
    },
    {
     "data": {
      "text/html": [
       "<div>\n",
       "<style>\n",
       "    .dataframe thead tr:only-child th {\n",
       "        text-align: right;\n",
       "    }\n",
       "\n",
       "    .dataframe thead th {\n",
       "        text-align: left;\n",
       "    }\n",
       "\n",
       "    .dataframe tbody tr th {\n",
       "        vertical-align: top;\n",
       "    }\n",
       "</style>\n",
       "<table border=\"1\" class=\"dataframe\">\n",
       "  <thead>\n",
       "    <tr style=\"text-align: right;\">\n",
       "      <th></th>\n",
       "      <th>Unnamed: 0</th>\n",
       "      <th>index</th>\n",
       "      <th>Sound Bite Text</th>\n",
       "      <th>Title</th>\n",
       "      <th>Post Type</th>\n",
       "      <th>Media Type</th>\n",
       "      <th>Source Type</th>\n",
       "      <th>Domain</th>\n",
       "      <th>Richness</th>\n",
       "      <th>Interests</th>\n",
       "      <th>Positive Objects</th>\n",
       "      <th>Negative Objects</th>\n",
       "      <th>Topic_top</th>\n",
       "      <th>Topic_id</th>\n",
       "      <th>Topic_raw</th>\n",
       "      <th>Topic_name</th>\n",
       "      <th>entities</th>\n",
       "      <th>Sentiment</th>\n",
       "      <th>Category</th>\n",
       "    </tr>\n",
       "  </thead>\n",
       "  <tbody>\n",
       "    <tr>\n",
       "      <th>0</th>\n",
       "      <td>0</td>\n",
       "      <td>0</td>\n",
       "      <td>Mobile &amp; Apps FILE - In this July 9, 2015, fil...</td>\n",
       "      <td>PepsiCo beats 3Q profit forecasts</td>\n",
       "      <td>Original</td>\n",
       "      <td>No Media</td>\n",
       "      <td>Blogs</td>\n",
       "      <td>mercedsunstar.com</td>\n",
       "      <td>1.0</td>\n",
       "      <td>NaN</td>\n",
       "      <td>NaN</td>\n",
       "      <td>NaN</td>\n",
       "      <td>6</td>\n",
       "      <td>6</td>\n",
       "      <td>6:0.987499999969</td>\n",
       "      <td>terms14.png</td>\n",
       "      <td>elise amendola_file ap_the associated press_mo...</td>\n",
       "      <td>0.147243</td>\n",
       "      <td>Pepsi</td>\n",
       "    </tr>\n",
       "    <tr>\n",
       "      <th>1</th>\n",
       "      <td>1</td>\n",
       "      <td>1</td>\n",
       "      <td>Mobile &amp; Apps FILE - In this July 9, 2015, fil...</td>\n",
       "      <td>PepsiCo beats 3Q profit forecasts</td>\n",
       "      <td>Original</td>\n",
       "      <td>No Media</td>\n",
       "      <td>Blogs</td>\n",
       "      <td>mercedsunstar.com</td>\n",
       "      <td>1.0</td>\n",
       "      <td>NaN</td>\n",
       "      <td>NaN</td>\n",
       "      <td>NaN</td>\n",
       "      <td>6</td>\n",
       "      <td>6</td>\n",
       "      <td>6:0.98908045974</td>\n",
       "      <td>terms14.png</td>\n",
       "      <td>elise amendola_file ap_the associated press_mo...</td>\n",
       "      <td>0.137346</td>\n",
       "      <td>Pepsi</td>\n",
       "    </tr>\n",
       "  </tbody>\n",
       "</table>\n",
       "</div>"
      ],
      "text/plain": [
       "   Unnamed: 0  index                                    Sound Bite Text  \\\n",
       "0           0      0  Mobile & Apps FILE - In this July 9, 2015, fil...   \n",
       "1           1      1  Mobile & Apps FILE - In this July 9, 2015, fil...   \n",
       "\n",
       "                               Title Post Type Media Type Source Type  \\\n",
       "0  PepsiCo beats 3Q profit forecasts  Original   No Media       Blogs   \n",
       "1  PepsiCo beats 3Q profit forecasts  Original   No Media       Blogs   \n",
       "\n",
       "              Domain  Richness Interests Positive Objects Negative Objects  \\\n",
       "0  mercedsunstar.com       1.0       NaN              NaN              NaN   \n",
       "1  mercedsunstar.com       1.0       NaN              NaN              NaN   \n",
       "\n",
       "   Topic_top Topic_id         Topic_raw   Topic_name  \\\n",
       "0          6        6  6:0.987499999969  terms14.png   \n",
       "1          6        6   6:0.98908045974  terms14.png   \n",
       "\n",
       "                                            entities  Sentiment Category  \n",
       "0  elise amendola_file ap_the associated press_mo...   0.147243    Pepsi  \n",
       "1  elise amendola_file ap_the associated press_mo...   0.137346    Pepsi  "
      ]
     },
     "execution_count": 13,
     "metadata": {},
     "output_type": "execute_result"
    }
   ],
   "source": [
    "df = df.assign(Category = category)\n",
    "print(df.shape)\n",
    "df.head(2)"
   ]
  },
  {
   "cell_type": "markdown",
   "metadata": {},
   "source": [
    "#### Dumps Data"
   ]
  },
  {
   "cell_type": "code",
   "execution_count": 14,
   "metadata": {
    "collapsed": true
   },
   "outputs": [],
   "source": [
    "dump(df, \"../dumps/df_sel_entities_sentiment_category.pkl\")"
   ]
  }
 ],
 "metadata": {
  "kernelspec": {
   "display_name": "Python 3",
   "language": "python",
   "name": "python3"
  },
  "language_info": {
   "codemirror_mode": {
    "name": "ipython",
    "version": 3
   },
   "file_extension": ".py",
   "mimetype": "text/x-python",
   "name": "python",
   "nbconvert_exporter": "python",
   "pygments_lexer": "ipython3",
   "version": "3.6.2"
  }
 },
 "nbformat": 4,
 "nbformat_minor": 2
}
