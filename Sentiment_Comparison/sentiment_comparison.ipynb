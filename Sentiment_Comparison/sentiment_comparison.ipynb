{
 "cells": [
  {
   "cell_type": "code",
   "execution_count": 2,
   "metadata": {
    "collapsed": true
   },
   "outputs": [],
   "source": [
    "import pandas as pd\n",
    "from collections import Counter\n",
    "import pprint\n",
    "import pickle\n",
    "\n",
    "def dump(obj,filename):\n",
    "    filehandler = open(filename,\"wb\")\n",
    "    pickle.dump(obj,filehandler)\n",
    "    filehandler.close()\n",
    "\n",
    "def load(filename):\n",
    "    file = open(filename,'rb')\n",
    "    obj = pickle.load(file)\n",
    "    file.close()\n",
    "    return obj"
   ]
  },
  {
   "cell_type": "code",
   "execution_count": 4,
   "metadata": {
    "collapsed": true
   },
   "outputs": [],
   "source": [
    "from collections import Counter\n",
    "def get_most_common(df, colname):\n",
    "    count_dict = Counter(df[colname])\n",
    "    return count_dict.most_common(100)"
   ]
  },
  {
   "cell_type": "markdown",
   "metadata": {},
   "source": [
    "#### Load data"
   ]
  },
  {
   "cell_type": "code",
   "execution_count": 3,
   "metadata": {},
   "outputs": [
    {
     "name": "stdout",
     "output_type": "stream",
     "text": [
      "(18340, 19)\n",
      "<class 'pandas.core.frame.DataFrame'>\n"
     ]
    }
   ],
   "source": [
    "df = load('../dumps/df_sel_entities_sentiment_category.pkl')\n",
    "print(df.shape)\n",
    "print(type(df))"
   ]
  },
  {
   "cell_type": "markdown",
   "metadata": {},
   "source": [
    "#### Comparison between entities\n",
    "#### 1) extract entities\n",
    "#### 2) Identify common entities\n",
    "#### 3) map from common entities to indexes"
   ]
  },
  {
   "cell_type": "code",
   "execution_count": 5,
   "metadata": {},
   "outputs": [
    {
     "name": "stdout",
     "output_type": "stream",
     "text": [
      "['', 'the international congress of nutrition', 'dr pepper snapple', 'united nation', 'anheuser busch', 'baskin robbins', 'lucky', 'senate', 'huge', 'the associated press', 'microsoft', 'verizon', 'procter gamble', 'bank of america', 'toyota', 'aha', 'ddb', 'chobani', 'hp', 'treasury', 'tm', 'kendall jenner', 'week', 'leeds', 'email', 'latest news', 'gatorade', 'ups', 'nature', 'walmart', 'bridgestone', 'fda', 'new york times', 'hq', 'gap', 'britvic', 'guardian', 'monarch airlines', 'uae', 'nascar', 'hiv', 'read', 'png', 'run the jewels', 'target', 'the new york', 'instagram', 'nbc', 'isis', 'white', 'insider', 'the trump administration', 'philips', 'google alerts', 'super bowl', 'hotel', 'nsrgy', 'glaxosmithkline', 'the national football league', 'mtv', 'costco', 'playboy', 'facebook', 'mcdonalds', 'daily mail', 'quaker oats', 'pinterest opens', 'imo', 'fmcg', 'cbs', 'boeing', 'interpublic group', 'usa technologies inc', 'malone', 'bloomberg news', 'wells fargo', 'nfl', 'state', 'tiffany', 'lockheed martin', 'marvel', 'major league soccer', 'kellogg', 'dr pepper', 'ooh', 'instant pot', 'usa', 'siemens', 'nra', 'whole foods', 'dover', 'ceo', 'ps4', 'daily express', 'kraft foods', 'llc', 'ebay', 'business insider', 'blockbuster', 'academic essay', 'chrysler', 'nasdaq', 'apple', 'wwe', 'sheraton', 'sunkist', 'chips', 'espn', 'the united nations', 'taste', 'gm', 'digital', 'reebok', 'reuters', 'quaker', 'live', 'pentagon', 'general motors', 'financial times', 'mc donalds', 'the denver post', 'congress', 'cpg', 'fortune', 'vegas', 'converse', 'ea', 'morgan stanley', 'chevron', 'bbc news', 'nintendo', 'motorola', 'nyse', 'qr code link', 'nba', 'cvs', 'gillette', 'the air force', 'netflix', 'yahoo', 'susquehanna', 'monster energy', 'united', 'utc', 'red bull', 'hfcs', 'dow', 'general mills', 'ge', 'alphabet', 'bellanaija', 'squirt', 'tate lyle', 'diageo', 'echo', 'uk', 'disney', 'coors', 'the hollywood reporter', 'the financial times', 'cadbury', 'the european union', 'marriott', 'spotify', 'mattel', 'wendy', 'ice cream', 'getty', 'kfc', 'gop', 'nike', 'morningstar', 'getty images', 'white house', 'or al', 'first lady', 'lockheed', 'pet', 'fox', 'merck', 'sugar', 'bbc', 'americas', 'monarch', 'the white house', 'procter', 'alm', 'inc', 'canon', 'corporate counsel', 'tesla', 'dow jones', 'diet dr pepper', 'time', 'paris fashion week', 'tesco', 'pep', 'cnn', 'publix', 'obama', 'monsanto', 'ikea', 'fox sports', 'ca', 'johnson johnson', 'mb', 'lego', 'black', 'ap photo', 'twitter', 'diet', 'visa', 'harley', 'beyonc', 'proctor gamble', 'prof', 'sprint', 'best buy', 'url', 'adidas', 'cmo', 'cosmopolitan', 'fedex', 'caterpillar', 'trademarks', 'forbes', 'associated press', 'warc', 'the conservative party conference', 'exxon mobil', 'volkswagen', 'heinz', 'dc', 'aol', 'yellow', 'exxonmobil', 'westpac', 'the wood', 'starbucks', 'google', 'company', 'pizza hut', 'copa', 'the detroit red wings', 'sony', 'wall street journal', 'now', 'itc', 'heineken', 'unilever', 'abc', 'the las vegas', 'bmw', 'alpha', 'the 20th international congress of nutrition', 'dps', 'campbell soup', 'budweiser', 'brigham young university', 'samsung', 'un', 'hyundai', 'google news', 'journal', 'post', 'caribbean', 'gif', 'amazon', 'giant', 'eps', 'schweppes', 'wild', 'hbo', 'united airlines', 'food city weekly', 'paradise beverages', 'sec', 'the company', 'ap', 'campbell', 'the world trade center', 'mcdonald', 'the times', 'nestle', 'the national law journal', 'pcb', 'twins', 'site selectors guild', 'smiths', 'place', 'mountain dew', 'cnbc', 'vintage', 'shell', 'nspcc', 'legaltech news', 'miller brewing', 'chanel', 'galaxy', 'file', 'ford']\n"
     ]
    }
   ],
   "source": [
    "df_pepsi = df[df['Category']=='Pepsi']\n",
    "df_coke = df[df['Category']=='Coke']\n",
    "cokeEntitySet = set([]);\n",
    "pepsiEntitySet = set([]);\n",
    "\n",
    "for entry in df_coke.loc[:,'entities']:\n",
    "    temp = entry.split(\"_\")\n",
    "    for t in temp:\n",
    "        cokeEntitySet.add(str(t))\n",
    "for entry in df_pepsi.loc[:,'entities']:\n",
    "    temp = entry.split(\"_\")\n",
    "    for t in temp:\n",
    "        pepsiEntitySet.add(str(t))\n",
    "\n",
    "commonEntitySet = list(cokeEntitySet.intersection(pepsiEntitySet))\n",
    "print(commonEntitySet)"
   ]
  },
  {
   "cell_type": "code",
   "execution_count": 6,
   "metadata": {},
   "outputs": [
    {
     "name": "stdout",
     "output_type": "stream",
     "text": [
      "['elise amendola_file ap_the associated press_mobile apps file_pepsi_3q_pepsico inc_file ap photo_pepsico inc', 'elise amendola_file ap_the associated press_mobile apps file_pepsi_3q_pepsico inc_file ap photo_pepsico inc', 'stellar novellas_coca cola_executive creative director ashley sword_chrysler_stellar scholars_stellar romance_roundtable_the district of columbia_mcdonald', 'crisps_coca cola_walkers', 'coca cola_instagram']\n"
     ]
    }
   ],
   "source": [
    "df2 = df.loc[:,'entities']\n",
    "df2.head()\n",
    "list2 = list(df2)\n",
    "print(list2[:5])"
   ]
  },
  {
   "cell_type": "code",
   "execution_count": 7,
   "metadata": {
    "collapsed": true
   },
   "outputs": [],
   "source": [
    "container = []\n",
    "for i in list2:\n",
    "    i = i.split(\"_\")\n",
    "    container.extend(i)"
   ]
  },
  {
   "cell_type": "code",
   "execution_count": 8,
   "metadata": {},
   "outputs": [
    {
     "name": "stdout",
     "output_type": "stream",
     "text": [
      "{'': 2223, 'the international congress of nutrition': 3, 'dr pepper snapple': 10, 'united nation': 6, 'anheuser busch': 19, 'baskin robbins': 5, 'lucky': 4, 'senate': 34, 'huge': 4, 'the associated press': 49, 'microsoft': 81, 'verizon': 21, 'procter gamble': 62, 'bank of america': 14, 'toyota': 47, 'aha': 4, 'ddb': 11, 'chobani': 6, 'hp': 12, 'treasury': 6, 'tm': 2, 'kendall jenner': 44, 'week': 14, 'leeds': 12, 'email': 17, 'latest news': 4, 'gatorade': 82, 'ups': 18, 'nature': 19, 'walmart': 52, 'bridgestone': 20, 'fda': 8, 'new york times': 5, 'hq': 13, 'gap': 3, 'britvic': 4, 'guardian': 42, 'monarch airlines': 9, 'uae': 12, 'nascar': 118, 'hiv': 126, 'read': 3, 'png': 4, 'run the jewels': 5, 'target': 129, 'the new york': 8, 'instagram': 25, 'nbc': 66, 'isis': 7, 'white': 3, 'insider': 3, 'the trump administration': 9, 'philips': 4, 'google alerts': 7, 'super bowl': 32, 'hotel': 5, 'nsrgy': 6, 'glaxosmithkline': 2, 'the national football league': 7, 'mtv': 7, 'costco': 77, 'playboy': 46, 'facebook': 34, 'mcdonalds': 59, 'daily mail': 5, 'quaker oats': 16, 'pinterest opens': 4, 'imo': 8, 'fmcg': 19, 'cbs': 13, 'boeing': 24, 'interpublic group': 3, 'usa technologies inc': 7, 'malone': 3, 'bloomberg news': 5, 'wells fargo': 114, 'nfl': 187, 'state': 18, 'tiffany': 2, 'lockheed martin': 7, 'marvel': 96, 'major league soccer': 3, 'kellogg': 41, 'dr pepper': 15, 'ooh': 7, 'instant pot': 4, 'usa': 6, 'siemens': 4, 'nra': 7, 'whole foods': 31, 'dover': 15, 'ceo': 93, 'ps4': 4, 'daily express': 8, 'kraft foods': 12, 'llc': 20, 'ebay': 13, 'business insider': 32, 'blockbuster': 3, 'academic essay': 3, 'chrysler': 9, 'nasdaq': 90, 'apple': 131, 'wwe': 80, 'sheraton': 3, 'sunkist': 3, 'chips': 4, 'espn': 6, 'the united nations': 4, 'taste': 8, 'gm': 9, 'digital': 8, 'reebok': 63, 'reuters': 37, 'quaker': 41, 'live': 69, 'pentagon': 3, 'general motors': 9, 'financial times': 2, 'mc donalds': 3, 'the denver post': 20, 'congress': 14, 'cpg': 9, 'fortune': 142, 'vegas': 12, 'converse': 182, 'ea': 4, 'morgan stanley': 38, 'chevron': 12, 'bbc news': 3, 'nintendo': 16, 'motorola': 2, 'nyse': 162, 'qr code link': 5, 'nba': 84, 'cvs': 5, 'gillette': 15, 'the air force': 7, 'netflix': 20, 'yahoo': 2, 'susquehanna': 13, 'monster energy': 7, 'united': 242, 'utc': 8, 'red bull': 37, 'hfcs': 16, 'dow': 10, 'general mills': 22, 'ge': 20, 'alphabet': 9, 'bellanaija': 7, 'squirt': 9, 'tate lyle': 17, 'diageo': 9, 'echo': 13, 'uk': 6, 'disney': 42, 'coors': 9, 'the hollywood reporter': 48, 'the financial times': 3, 'cadbury': 22, 'the european union': 7, 'marriott': 14, 'spotify': 5, 'mattel': 9, 'wendy': 6, 'ice cream': 5, 'getty': 89, 'kfc': 140, 'gop': 3, 'nike': 122, 'morningstar': 13, 'getty images': 45, 'white house': 7, 'or al': 6, 'first lady': 4, 'lockheed': 8, 'pet': 57, 'fox': 16, 'merck': 2, 'sugar': 58, 'bbc': 18, 'americas': 4, 'monarch': 9, 'the white house': 12, 'procter': 3, 'alm': 9, 'inc': 34, 'canon': 3, 'corporate counsel': 9, 'tesla': 5, 'dow jones': 5, 'diet dr pepper': 14, 'time': 11, 'paris fashion week': 12, 'tesco': 69, 'pep': 117, 'cnn': 11, 'publix': 7, 'obama': 3, 'monsanto': 46, 'ikea': 14, 'fox sports': 4, 'ca': 3, 'johnson johnson': 2, 'mb': 3, 'lego': 7, 'black': 9, 'ap photo': 124, 'twitter': 33, 'diet': 116, 'visa': 33, 'harley': 13, 'beyonc': 2, 'proctor gamble': 5, 'prof': 2, 'sprint': 5, 'best buy': 8, 'url': 8, 'adidas': 25, 'cmo': 8, 'cosmopolitan': 10, 'fedex': 4, 'caterpillar': 17, 'trademarks': 5, 'forbes': 17, 'associated press': 12, 'warc': 3, 'the conservative party conference': 3, 'exxon mobil': 5, 'volkswagen': 11, 'heinz': 3, 'dc': 97, 'aol': 10, 'yellow': 3, 'exxonmobil': 2, 'westpac': 3, 'the wood': 2, 'starbucks': 25, 'google': 72, 'company': 76, 'pizza hut': 21, 'copa': 22, 'the detroit red wings': 2, 'sony': 24, 'wall street journal': 6, 'now': 5, 'itc': 11, 'heineken': 18, 'unilever': 46, 'abc': 24, 'the las vegas': 30, 'bmw': 18, 'alpha': 3, 'the 20th international congress of nutrition': 3, 'dps': 8, 'campbell soup': 5, 'budweiser': 9, 'brigham young university': 3, 'samsung': 27, 'un': 21, 'hyundai': 9, 'google news': 2, 'journal': 4, 'post': 22, 'caribbean': 3, 'gif': 19, 'amazon': 36, 'giant': 4, 'eps': 15, 'schweppes': 34, 'wild': 27, 'hbo': 17, 'united airlines': 2, 'food city weekly': 4, 'paradise beverages': 2, 'sec': 29, 'the company': 56, 'ap': 174, 'campbell': 7, 'the world trade center': 9, 'mcdonald': 247, 'the times': 3, 'nestle': 191, 'the national law journal': 8, 'pcb': 6, 'twins': 5, 'site selectors guild': 6, 'smiths': 7, 'place': 7, 'mountain dew': 123, 'cnbc': 4, 'vintage': 5, 'shell': 10, 'nspcc': 10, 'legaltech news': 9, 'miller brewing': 5, 'chanel': 6, 'galaxy': 5, 'file': 20, 'ford': 77}\n"
     ]
    }
   ],
   "source": [
    "from collections import Counter\n",
    "def get_most_common(lista):\n",
    "    count_dict = Counter(lista)\n",
    "    return count_dict\n",
    "\n",
    "countDict = get_most_common(container)\n",
    "commonEntityDict = {};\n",
    "\n",
    "for entity in commonEntitySet:\n",
    "    commonEntityDict[entity]=countDict[entity]\n",
    "print(commonEntityDict)"
   ]
  },
  {
   "cell_type": "code",
   "execution_count": 9,
   "metadata": {},
   "outputs": [
    {
     "name": "stdout",
     "output_type": "stream",
     "text": [
      "[('mcdonald', 247), ('united', 242), ('nestle', 191), ('nfl', 187), ('converse', 182), ('ap', 174), ('nyse', 162), ('fortune', 142), ('kfc', 140), ('apple', 131), ('target', 129), ('hiv', 126), ('ap photo', 124), ('mountain dew', 123), ('nike', 122), ('nascar', 118), ('pep', 117), ('diet', 116), ('wells fargo', 114), ('dc', 97)]\n",
      "['mcdonald', 'united', 'nestle', 'nfl', 'converse', 'ap', 'nyse', 'fortune', 'kfc', 'apple', 'target', 'hiv', 'ap photo', 'mountain dew', 'nike', 'nascar', 'pep', 'diet', 'wells fargo', 'dc']\n"
     ]
    }
   ],
   "source": [
    "commonEntityDict['']=0\n",
    "mostCommonEntities = Counter(commonEntityDict).most_common(20)\n",
    "entList = [];\n",
    "for ent, count in mostCommonEntities:\n",
    "    entList.append(ent)\n",
    "print(mostCommonEntities)\n",
    "print(entList)"
   ]
  },
  {
   "cell_type": "code",
   "execution_count": 10,
   "metadata": {},
   "outputs": [
    {
     "name": "stdout",
     "output_type": "stream",
     "text": [
      "[['mcdonald', {'Pepsi': 0.031808092352437804, 'Coke': 0}], ['united', {'Pepsi': -0.15664136360734623, 'Coke': 0}], ['nestle', {'Pepsi': 0.008261780886148151, 'Coke': 0}], ['nfl', {'Pepsi': -0.03815534700706887, 'Coke': 0}], ['converse', {'Pepsi': -0.006211951108817243, 'Coke': 0}], ['ap', {'Pepsi': 0.20272885273072055, 'Coke': 0}], ['nyse', {'Pepsi': 0.15874048692945655, 'Coke': 0}], ['fortune', {'Pepsi': -0.6052242690421319, 'Coke': 0}], ['kfc', {'Pepsi': -0.00352277615807601, 'Coke': 0}], ['apple', {'Pepsi': 0.1399248359313378, 'Coke': 0}], ['target', {'Pepsi': -0.005153109743862468, 'Coke': 0}], ['hiv', {'Pepsi': -0.006211951108817243, 'Coke': 0}], ['ap photo', {'Pepsi': 0.23594945580907292, 'Coke': 0}], ['mountain dew', {'Pepsi': 0.13884394871220332, 'Coke': 0}], ['nike', {'Pepsi': 0.014274008981658317, 'Coke': 0}], ['nascar', {'Pepsi': 0.10557087478798001, 'Coke': 0}], ['pep', {'Pepsi': 0.1325424854277911, 'Coke': 0}], ['diet', {'Pepsi': 0.055044777110252144, 'Coke': 0}], ['wells fargo', {'Pepsi': 0.006633206929096482, 'Coke': 0}], ['dc', {'Pepsi': 0.014910638669268256, 'Coke': 0}]]\n"
     ]
    }
   ],
   "source": [
    "#just for mcdonald\n",
    "\n",
    "#pepsi rows: df_pepsi\n",
    "aveSentList = [];\n",
    "for targetEnt in entList:\n",
    "    i=0;\n",
    "    sentSum=0;\n",
    "    for index, row in df_pepsi.iterrows():\n",
    "        ent = row['entities'].split(\"_\")\n",
    "        for e in ent:\n",
    "            #break if any of the entities match the popular entity list\n",
    "            if e == targetEnt:\n",
    "                sentSum = sentSum+ row['Sentiment']\n",
    "                i = i+1\n",
    "                break\n",
    "    aveSentList.append([targetEnt,{'Pepsi': sentSum/i, 'Coke': 0}])\n",
    "print(aveSentList)\n",
    "#coke rows: df_coke"
   ]
  },
  {
   "cell_type": "code",
   "execution_count": 11,
   "metadata": {},
   "outputs": [
    {
     "name": "stdout",
     "output_type": "stream",
     "text": [
      "[['mcdonald', {'Pepsi': 0.031808092352437804, 'Coke': 0.12915549480362135}], ['united', {'Pepsi': -0.15664136360734623, 'Coke': 0.31013945056375586}], ['nestle', {'Pepsi': 0.008261780886148151, 'Coke': 0.19462679701615768}], ['nfl', {'Pepsi': -0.03815534700706887, 'Coke': 0.0739626595276451}], ['converse', {'Pepsi': -0.006211951108817243, 'Coke': -0.10705785088683253}], ['ap', {'Pepsi': 0.20272885273072055, 'Coke': 0.19317312258217856}], ['nyse', {'Pepsi': 0.15874048692945655, 'Coke': 0.16239140284462986}], ['fortune', {'Pepsi': -0.6052242690421319, 'Coke': 0.08133439484348032}], ['kfc', {'Pepsi': -0.00352277615807601, 'Coke': 0.2971728989142875}], ['apple', {'Pepsi': 0.1399248359313378, 'Coke': 0.2704280091519825}], ['target', {'Pepsi': -0.005153109743862468, 'Coke': 0.3694420812267417}], ['hiv', {'Pepsi': -0.006211951108817243, 'Coke': 0.08603403962249301}], ['ap photo', {'Pepsi': 0.23594945580907292, 'Coke': 0.11902978094970079}], ['mountain dew', {'Pepsi': 0.13884394871220332, 'Coke': 0.11925938644688648}], ['nike', {'Pepsi': 0.014274008981658317, 'Coke': 0.27222807652936587}], ['nascar', {'Pepsi': 0.10557087478798001, 'Coke': 0.18529648791770714}], ['pep', {'Pepsi': 0.1325424854277911, 'Coke': 0.48704728653435964}], ['diet', {'Pepsi': 0.055044777110252144, 'Coke': 0.0698790618884599}], ['wells fargo', {'Pepsi': 0.006633206929096482, 'Coke': 0.14190846112537178}], ['dc', {'Pepsi': 0.014910638669268256, 'Coke': 0.08585911494672657}]]\n"
     ]
    }
   ],
   "source": [
    "for targetEnt in entList:\n",
    "    i=0;\n",
    "    sentSum=0;\n",
    "    for index, row in df_coke.iterrows():\n",
    "        ent = row['entities'].split(\"_\")\n",
    "        for e in ent:\n",
    "            #break if any of the entities match the popular entity list\n",
    "            if e == targetEnt:\n",
    "                sentSum = sentSum+ row['Sentiment']\n",
    "                i = i+1\n",
    "                break\n",
    "    aveSentList[entList.index(targetEnt)][1]['Coke'] = sentSum/i\n",
    "print(aveSentList)"
   ]
  },
  {
   "cell_type": "code",
   "execution_count": 17,
   "metadata": {},
   "outputs": [
    {
     "data": {
      "image/png": "[encoded data removed]",
      "text/plain": [
       "<matplotlib.figure.Figure at 0x7f617ff3e780>"
      ]
     },
     "metadata": {},
     "output_type": "display_data"
    }
   ],
   "source": [
    "import numpy as np\n",
    "import matplotlib.pyplot as plt\n",
    "pepsi=[];\n",
    "coke=[];\n",
    "for i in range(0,20):\n",
    "    pepsi.append(aveSentList[i][1]['Pepsi'])\n",
    "    coke.append(aveSentList[i][1]['Coke'])\n",
    "\n",
    "index = np.arange(20)\n",
    "bar_width = 0.35\n",
    "opacity = 0.8\n",
    "\n",
    "plt.figure(1, figsize=(14, 8))\n",
    "rect1= plt.barh(index,pepsi,bar_width,alpha=opacity,color='b',label='Pepsi')\n",
    "rect2 = plt.barh(index+bar_width,coke,bar_width,alpha=opacity,color='g',label='Coke')\n",
    "plt.xlim([-0.75,0.75])\n",
    "plt.yticks(index+bar_width,entList)\n",
    "plt.ylabel('Entities')\n",
    "plt.xlabel('Average Sentiment')\n",
    "plt.title('Average Sentiment per Most Common Shared Entities')\n",
    "plt.legend()\n",
    "plt.show()"
   ]
  },
  {
   "cell_type": "code",
   "execution_count": null,
   "metadata": {
    "collapsed": true
   },
   "outputs": [],
   "source": []
  }
 ],
 "metadata": {
  "kernelspec": {
   "display_name": "Python 3",
   "language": "python",
   "name": "python3"
  },
  "language_info": {
   "codemirror_mode": {
    "name": "ipython",
    "version": 3
   },
   "file_extension": ".py",
   "mimetype": "text/x-python",
   "name": "python",
   "nbconvert_exporter": "python",
   "pygments_lexer": "ipython3",
   "version": "3.6.2"
  }
 },
 "nbformat": 4,
 "nbformat_minor": 2
}
