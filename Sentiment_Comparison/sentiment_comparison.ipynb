{
 "cells": [
  {
   "cell_type": "code",
   "execution_count": 38,
   "metadata": {},
   "outputs": [],
   "source": [
    "import pandas as pd\n",
    "from collections import Counter\n",
    "import pprint\n",
    "import pickle\n",
    "\n",
    "def dump(obj,filename):\n",
    "    filehandler = open(filename,\"wb\")\n",
    "    pickle.dump(obj,filehandler,protocol=2)\n",
    "    filehandler.close()\n",
    "\n",
    "def load(filename):\n",
    "    file = open(filename,'rb')\n",
    "    obj = pickle.load(file)\n",
    "    file.close()\n",
    "    return obj"
   ]
  },
  {
   "cell_type": "markdown",
   "metadata": {},
   "source": [
    "#### Load data"
   ]
  },
  {
   "cell_type": "code",
   "execution_count": 39,
   "metadata": {},
   "outputs": [
    {
     "name": "stdout",
     "output_type": "stream",
     "text": [
      "(18340, 19)\n",
      "<class 'pandas.core.frame.DataFrame'>\n"
     ]
    }
   ],
   "source": [
    "df = load('../dumps/df_sel_entities_sentiment_category.pkl')\n",
    "print(df.shape)\n",
    "print(type(df))"
   ]
  },
  {
   "cell_type": "markdown",
   "metadata": {},
   "source": [
    "#### Comparison between entities\n",
    "#### 1) extract all entities and search in the data frame\n",
    "#### 2) go line by line looking for entities\n",
    "#### I will try 1"
   ]
  },
  {
   "cell_type": "code",
   "execution_count": null,
   "metadata": {
    "collapsed": true
   },
   "outputs": [],
   "source": [
    "from collections import Counter\n",
    "def get_most_common(df, colname):\n",
    "    count_dict = Counter(df[colname])\n",
    "    return count_dict.most_common(100)"
   ]
  },
  {
   "cell_type": "code",
   "execution_count": 33,
   "metadata": {},
   "outputs": [
    {
     "name": "stdout",
     "output_type": "stream",
     "text": [
      "['elise amendola_file ap_the associated press_mobile apps file_pepsi_3q_pepsico inc_file ap photo_pepsico inc', 'elise amendola_file ap_the associated press_mobile apps file_pepsi_3q_pepsico inc_file ap photo_pepsico inc', 'stellar novellas_coca cola_executive creative director ashley sword_chrysler_stellar scholars_stellar romance_roundtable_the district of columbia_mcdonald', 'crisps_coca cola_walkers', 'coca cola_instagram']\n"
     ]
    }
   ],
   "source": [
    "df2 = df.loc[:,'entities']\n",
    "df2.head()\n",
    "list2 = list(df2)\n",
    "print(list2[:5])"
   ]
  },
  {
   "cell_type": "code",
   "execution_count": 34,
   "metadata": {},
   "outputs": [],
   "source": [
    "container = []\n",
    "for i in list2:\n",
    "    i = i.split(\"_\")\n",
    "    container.extend(i)"
   ]
  },
  {
   "cell_type": "code",
   "execution_count": 36,
   "metadata": {},
   "outputs": [
    {
     "data": {
      "text/plain": [
       "[('coca cola', 6733),\n",
       " ('pepsi', 5423),\n",
       " ('coke', 2976),\n",
       " ('', 2223),\n",
       " ('pepsico', 619),\n",
       " ('coca cola company', 397),\n",
       " ('coca', 311),\n",
       " ('the coca cola company', 297),\n",
       " ('pepsico inc', 267),\n",
       " ('coca cola co', 260),\n",
       " ('mcdonald', 247),\n",
       " ('united', 242),\n",
       " ('frito lay', 227),\n",
       " ('coca cola united', 200),\n",
       " ('nestle', 191),\n",
       " ('nfl', 187),\n",
       " ('converse', 182),\n",
       " ('arca continental', 180),\n",
       " ('coca cola hbc', 177),\n",
       " ('ap', 174),\n",
       " ('coca cola european partners', 167),\n",
       " ('coca cola bottling company', 163),\n",
       " ('nyse', 162),\n",
       " ('elise amendola', 153),\n",
       " ('fortune', 142),\n",
       " ('pepsi center', 140),\n",
       " ('kfc', 140),\n",
       " ('apple', 131),\n",
       " ('target', 129),\n",
       " ('hiv', 126),\n",
       " ('the coca cola co', 126),\n",
       " ('ap photo', 124),\n",
       " ('coke zero sugar', 123),\n",
       " ('mountain dew', 123),\n",
       " ('nike', 122),\n",
       " ('kuwtk', 121),\n",
       " ('nascar', 118),\n",
       " ('pep', 117),\n",
       " ('topo chico', 116),\n",
       " ('diet', 116),\n",
       " ('pepsi cola', 114),\n",
       " ('wells fargo', 114),\n",
       " ('coca cola north america', 109),\n",
       " ('cheetos', 98),\n",
       " ('the georgia bulldogs', 98),\n",
       " ('venturing emerging brands', 98),\n",
       " ('dc', 97),\n",
       " ('marvel', 96),\n",
       " ('second equifax', 94),\n",
       " ('ceo', 93),\n",
       " ('the kardashians', 91),\n",
       " ('delta state', 90),\n",
       " ('nasdaq', 90),\n",
       " ('getty', 89),\n",
       " ('coke zero', 89),\n",
       " ('coca cola bottling co', 88),\n",
       " ('coca cola femsa', 88),\n",
       " ('wfaa', 85),\n",
       " ('nba', 84),\n",
       " ('ocean springs', 83),\n",
       " ('gatorade', 82),\n",
       " ('advan', 81),\n",
       " ('the advertisers association of', 81),\n",
       " ('first equifax', 81),\n",
       " ('colorado avalanche', 81),\n",
       " ('microsoft', 81),\n",
       " ('pepsi ceo indra', 81),\n",
       " ('wwe', 80),\n",
       " ('coca cola bottling company united', 78),\n",
       " ('costco', 77),\n",
       " ('ford', 77),\n",
       " ('company', 76),\n",
       " ('topo chico mineral water', 75),\n",
       " ('google', 72),\n",
       " ('3q', 70),\n",
       " ('veb', 70),\n",
       " ('live', 69),\n",
       " ('tesco', 69),\n",
       " ('usa today sports', 68),\n",
       " ('tccc', 67),\n",
       " ('cell', 66),\n",
       " ('nbc', 66),\n",
       " ('diet pepsi', 65),\n",
       " ('honest tea', 63),\n",
       " ('reebok', 63),\n",
       " ('procter gamble', 62),\n",
       " ('pepsi of spandex', 61),\n",
       " ('the milwaukee brewers', 60),\n",
       " ('major league baseball', 60),\n",
       " ('food network', 60),\n",
       " ('los angeles lakers', 60),\n",
       " ('the american beef industry council', 60),\n",
       " ('fcc', 59),\n",
       " ('mcdonalds', 59),\n",
       " ('compucom', 59),\n",
       " ('sugar', 58),\n",
       " ('diet coke', 57),\n",
       " ('pet', 57),\n",
       " ('third equifax', 56),\n",
       " ('the company', 56)]"
      ]
     },
     "execution_count": 36,
     "metadata": {},
     "output_type": "execute_result"
    }
   ],
   "source": [
    "from collections import Counter\n",
    "def get_most_common(lista):\n",
    "    count_dict = Counter(lista)\n",
    "    return count_dict.most_common(100)\n",
    "get_most_common(container)"
   ]
  }
 ],
 "metadata": {
  "kernelspec": {
   "display_name": "Python 3",
   "language": "python",
   "name": "python3"
  },
  "language_info": {
   "codemirror_mode": {
    "name": "ipython",
    "version": 3
   },
   "file_extension": ".py",
   "mimetype": "text/x-python",
   "name": "python",
   "nbconvert_exporter": "python",
   "pygments_lexer": "ipython3",
   "version": "3.6.2"
  }
 },
 "nbformat": 4,
 "nbformat_minor": 2
}
