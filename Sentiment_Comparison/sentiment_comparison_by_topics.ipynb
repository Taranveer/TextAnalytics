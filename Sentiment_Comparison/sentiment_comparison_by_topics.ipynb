{
 "cells": [
  {
   "cell_type": "code",
   "execution_count": 2,
   "metadata": {
    "collapsed": true
   },
   "outputs": [],
   "source": [
    "import pandas as pd\n",
    "from collections import Counter\n",
    "import pprint\n",
    "import pickle\n",
    "\n",
    "def dump(obj,filename):\n",
    "    filehandler = open(filename,\"wb\")\n",
    "    pickle.dump(obj,filehandler)\n",
    "    filehandler.close()\n",
    "\n",
    "def load(filename):\n",
    "    file = open(filename,'rb')\n",
    "    obj = pickle.load(file)\n",
    "    file.close()\n",
    "    return obj"
   ]
  },
  {
   "cell_type": "code",
   "execution_count": 3,
   "metadata": {
    "collapsed": true
   },
   "outputs": [],
   "source": [
    "from collections import Counter\n",
    "def get_most_common(df, colname):\n",
    "    count_dict = Counter(df[colname])\n",
    "    return count_dict.most_common(100)"
   ]
  },
  {
   "cell_type": "markdown",
   "metadata": {},
   "source": [
    "#### load data and merge"
   ]
  },
  {
   "cell_type": "code",
   "execution_count": 29,
   "metadata": {},
   "outputs": [
    {
     "name": "stdout",
     "output_type": "stream",
     "text": [
      "(18340, 19)\n",
      "<class 'pandas.core.frame.DataFrame'>\n",
      "Index(['Unnamed: 0', 'index', 'Sound Bite Text', 'Title', 'Post Type',\n",
      "       'Media Type', 'Source Type', 'Domain', 'Richness', 'Interests',\n",
      "       'Positive Objects', 'Negative Objects', 'Topic_top', 'Topic_id',\n",
      "       'Topic_raw', 'Topic_name', 'entities', 'Sentiment', 'Category'],\n",
      "      dtype='object')\n"
     ]
    }
   ],
   "source": [
    "df_r = load('../dumps/df_sel_entities_sentiment_category.pkl')\n",
    "print(df.shape)\n",
    "print(type(df))\n",
    "print(df.columns)"
   ]
  },
  {
   "cell_type": "code",
   "execution_count": 34,
   "metadata": {},
   "outputs": [
    {
     "name": "stdout",
     "output_type": "stream",
     "text": [
      "(18340, 16)\n",
      "<class 'pandas.core.frame.DataFrame'>\n",
      "Index(['Unnamed: 0', 'index', 'Sound Bite Text', 'Title', 'Post Type',\n",
      "       'Media Type', 'Source Type', 'Domain', 'Richness', 'Interests',\n",
      "       'Positive Objects', 'Negative Objects', 'Topic_top', 'Topic_id',\n",
      "       'Topic_raw', 'Topic_name'],\n",
      "      dtype='object')\n"
     ]
    }
   ],
   "source": [
    "df = pd.read_csv('../dumps/conversation_tagged_names.csv')\n",
    "print(df.shape)\n",
    "print(type(df))\n",
    "print(df.columns)"
   ]
  },
  {
   "cell_type": "code",
   "execution_count": 35,
   "metadata": {},
   "outputs": [
    {
     "data": {
      "text/html": [
       "<div>\n",
       "<style>\n",
       "    .dataframe thead tr:only-child th {\n",
       "        text-align: right;\n",
       "    }\n",
       "\n",
       "    .dataframe thead th {\n",
       "        text-align: left;\n",
       "    }\n",
       "\n",
       "    .dataframe tbody tr th {\n",
       "        vertical-align: top;\n",
       "    }\n",
       "</style>\n",
       "<table border=\"1\" class=\"dataframe\">\n",
       "  <thead>\n",
       "    <tr style=\"text-align: right;\">\n",
       "      <th></th>\n",
       "      <th>Unnamed: 0</th>\n",
       "      <th>index</th>\n",
       "      <th>Sound Bite Text</th>\n",
       "      <th>Title</th>\n",
       "      <th>Post Type</th>\n",
       "      <th>Media Type</th>\n",
       "      <th>Source Type</th>\n",
       "      <th>Domain</th>\n",
       "      <th>Richness</th>\n",
       "      <th>Interests</th>\n",
       "      <th>Positive Objects</th>\n",
       "      <th>Negative Objects</th>\n",
       "      <th>Topic_top</th>\n",
       "      <th>Topic_id</th>\n",
       "      <th>Topic_raw</th>\n",
       "      <th>Topic_name</th>\n",
       "      <th>entities</th>\n",
       "      <th>Sentiment</th>\n",
       "      <th>Category</th>\n",
       "    </tr>\n",
       "  </thead>\n",
       "  <tbody>\n",
       "    <tr>\n",
       "      <th>0</th>\n",
       "      <td>0</td>\n",
       "      <td>0</td>\n",
       "      <td>Mobile &amp; Apps FILE - In this July 9, 2015, fil...</td>\n",
       "      <td>PepsiCo beats 3Q profit forecasts</td>\n",
       "      <td>Original</td>\n",
       "      <td>No Media</td>\n",
       "      <td>Blogs</td>\n",
       "      <td>mercedsunstar.com</td>\n",
       "      <td>1.0</td>\n",
       "      <td>NaN</td>\n",
       "      <td>NaN</td>\n",
       "      <td>NaN</td>\n",
       "      <td>14_french_ban_dinner.png</td>\n",
       "      <td>6</td>\n",
       "      <td>6:0.987499999972</td>\n",
       "      <td>14_french_ban_dinner.png</td>\n",
       "      <td>elise amendola_file ap_the associated press_mo...</td>\n",
       "      <td>0.147243</td>\n",
       "      <td>Pepsi</td>\n",
       "    </tr>\n",
       "    <tr>\n",
       "      <th>1</th>\n",
       "      <td>1</td>\n",
       "      <td>1</td>\n",
       "      <td>Mobile &amp; Apps FILE - In this July 9, 2015, fil...</td>\n",
       "      <td>PepsiCo beats 3Q profit forecasts</td>\n",
       "      <td>Original</td>\n",
       "      <td>No Media</td>\n",
       "      <td>Blogs</td>\n",
       "      <td>mercedsunstar.com</td>\n",
       "      <td>1.0</td>\n",
       "      <td>NaN</td>\n",
       "      <td>NaN</td>\n",
       "      <td>NaN</td>\n",
       "      <td>14_french_ban_dinner.png</td>\n",
       "      <td>6</td>\n",
       "      <td>6:0.989080459742</td>\n",
       "      <td>14_french_ban_dinner.png</td>\n",
       "      <td>elise amendola_file ap_the associated press_mo...</td>\n",
       "      <td>0.137346</td>\n",
       "      <td>Pepsi</td>\n",
       "    </tr>\n",
       "  </tbody>\n",
       "</table>\n",
       "</div>"
      ],
      "text/plain": [
       "   Unnamed: 0  index                                    Sound Bite Text  \\\n",
       "0           0      0  Mobile & Apps FILE - In this July 9, 2015, fil...   \n",
       "1           1      1  Mobile & Apps FILE - In this July 9, 2015, fil...   \n",
       "\n",
       "                               Title Post Type Media Type Source Type  \\\n",
       "0  PepsiCo beats 3Q profit forecasts  Original   No Media       Blogs   \n",
       "1  PepsiCo beats 3Q profit forecasts  Original   No Media       Blogs   \n",
       "\n",
       "              Domain  Richness Interests Positive Objects Negative Objects  \\\n",
       "0  mercedsunstar.com       1.0       NaN              NaN              NaN   \n",
       "1  mercedsunstar.com       1.0       NaN              NaN              NaN   \n",
       "\n",
       "                  Topic_top Topic_id         Topic_raw  \\\n",
       "0  14_french_ban_dinner.png        6  6:0.987499999972   \n",
       "1  14_french_ban_dinner.png        6  6:0.989080459742   \n",
       "\n",
       "                 Topic_name  \\\n",
       "0  14_french_ban_dinner.png   \n",
       "1  14_french_ban_dinner.png   \n",
       "\n",
       "                                            entities  Sentiment Category  \n",
       "0  elise amendola_file ap_the associated press_mo...   0.147243    Pepsi  \n",
       "1  elise amendola_file ap_the associated press_mo...   0.137346    Pepsi  "
      ]
     },
     "execution_count": 35,
     "metadata": {},
     "output_type": "execute_result"
    }
   ],
   "source": [
    "df = pd.concat([df,df_r.loc[:,'entities']],axis=1)\n",
    "df = pd.concat([df,df_r.loc[:,'Sentiment']],axis=1)\n",
    "df = pd.concat([df,df_r.loc[:,'Category']],axis=1)\n",
    "df.head(2)"
   ]
  },
  {
   "cell_type": "markdown",
   "metadata": {},
   "source": [
    "#### For topics the split should be done with \" \" instead of \"_\""
   ]
  },
  {
   "cell_type": "code",
   "execution_count": 36,
   "metadata": {},
   "outputs": [
    {
     "data": {
      "text/plain": [
       "0                             14_french_ban_dinner.png\n",
       "1                             14_french_ban_dinner.png\n",
       "2    7_sports.png 4_people_opinions_random.png 11_c...\n",
       "3    11_colege_random.png 7_sports.png coke_executi...\n",
       "4    11_colege_random.png 13_media_brand_advertisem...\n",
       "5    15_share_sales.png 12_customers_opinion_coke_p...\n",
       "Name: Topic_name, dtype: object"
      ]
     },
     "execution_count": 36,
     "metadata": {},
     "output_type": "execute_result"
    }
   ],
   "source": [
    "df.loc[:5,'Topic_name']"
   ]
  },
  {
   "cell_type": "code",
   "execution_count": 38,
   "metadata": {},
   "outputs": [
    {
     "name": "stdout",
     "output_type": "stream",
     "text": [
      "['0_Business.png', 'coke_executive.png', '5_endorsements.png', '12_customers_opinion_coke_pepsi.png', '6_earnings_profit.png', '11_colege_random.png', '13_media_brand_advertisements.png', '8_coke_bottle.png', '15_share_sales.png', '19_random_blogs.png', '2_Vegas_politics_controversy.png', '16_pepsi_endorsements_johnson.png', '7_sports.png', '.DS_Store', '4_people_opinions_random.png', '9_cocola_water_sparling_topo_chico.png', '3_branding_business.png', '1_Ad_controversy_pepsi.png', '10_Pepsi_center_wwe.png', '14_french_ban_dinner.png']\n"
     ]
    }
   ],
   "source": [
    "df_pepsi = df[df['Category']=='Pepsi']\n",
    "df_coke = df[df['Category']=='Coke']\n",
    "cokeEntitySet = set([]);\n",
    "pepsiEntitySet = set([]);\n",
    "\n",
    "for entry in df_coke.loc[:,'Topic_name']:\n",
    "    temp = entry.split(\" \")\n",
    "    for t in temp:\n",
    "        cokeEntitySet.add(str(t))\n",
    "for entry in df_pepsi.loc[:,'Topic_name']:\n",
    "    temp = entry.split(\" \")\n",
    "    for t in temp:\n",
    "        pepsiEntitySet.add(str(t))\n",
    "\n",
    "commonEntitySet = list(cokeEntitySet.intersection(pepsiEntitySet))\n",
    "print(commonEntitySet)"
   ]
  },
  {
   "cell_type": "code",
   "execution_count": 40,
   "metadata": {},
   "outputs": [
    {
     "name": "stdout",
     "output_type": "stream",
     "text": [
      "['14_french_ban_dinner.png', '14_french_ban_dinner.png', '7_sports.png 4_people_opinions_random.png 11_colege_random.png 8_coke_bottle.png', '11_colege_random.png 7_sports.png coke_executive.png 8_coke_bottle.png', '11_colege_random.png 13_media_brand_advertisements.png 4_people_opinions_random.png']\n"
     ]
    }
   ],
   "source": [
    "df2 = df.loc[:,'Topic_name']\n",
    "df2.head()\n",
    "list2 = list(df2)\n",
    "print(list2[:5])"
   ]
  },
  {
   "cell_type": "code",
   "execution_count": 41,
   "metadata": {
    "collapsed": true
   },
   "outputs": [],
   "source": [
    "container = []\n",
    "for i in list2:\n",
    "    i = i.split(\" \")\n",
    "    container.extend(i)"
   ]
  },
  {
   "cell_type": "code",
   "execution_count": 42,
   "metadata": {},
   "outputs": [
    {
     "name": "stdout",
     "output_type": "stream",
     "text": [
      "{'0_Business.png': 4422, 'coke_executive.png': 3058, '5_endorsements.png': 3973, '12_customers_opinion_coke_pepsi.png': 7319, '6_earnings_profit.png': 5737, '11_colege_random.png': 7062, '13_media_brand_advertisements.png': 6258, '8_coke_bottle.png': 3995, '15_share_sales.png': 5348, '19_random_blogs.png': 4859, '2_Vegas_politics_controversy.png': 5200, '16_pepsi_endorsements_johnson.png': 4590, '7_sports.png': 4393, '.DS_Store': 5737, '4_people_opinions_random.png': 5398, '9_cocola_water_sparling_topo_chico.png': 7901, '3_branding_business.png': 4836, '1_Ad_controversy_pepsi.png': 5416, '10_Pepsi_center_wwe.png': 4821, '14_french_ban_dinner.png': 4206}\n"
     ]
    }
   ],
   "source": [
    "from collections import Counter\n",
    "def get_most_common(lista):\n",
    "    count_dict = Counter(lista)\n",
    "    return count_dict\n",
    "\n",
    "countDict = get_most_common(container)\n",
    "commonEntityDict = {};\n",
    "\n",
    "for entity in commonEntitySet:\n",
    "    commonEntityDict[entity]=countDict[entity]\n",
    "print(commonEntityDict)"
   ]
  },
  {
   "cell_type": "code",
   "execution_count": 43,
   "metadata": {},
   "outputs": [
    {
     "name": "stdout",
     "output_type": "stream",
     "text": [
      "[('9_cocola_water_sparling_topo_chico.png', 7901), ('12_customers_opinion_coke_pepsi.png', 7319), ('11_colege_random.png', 7062), ('13_media_brand_advertisements.png', 6258), ('6_earnings_profit.png', 5737), ('.DS_Store', 5737), ('1_Ad_controversy_pepsi.png', 5416), ('4_people_opinions_random.png', 5398), ('15_share_sales.png', 5348), ('2_Vegas_politics_controversy.png', 5200), ('19_random_blogs.png', 4859), ('3_branding_business.png', 4836), ('10_Pepsi_center_wwe.png', 4821), ('16_pepsi_endorsements_johnson.png', 4590), ('0_Business.png', 4422), ('7_sports.png', 4393), ('14_french_ban_dinner.png', 4206), ('8_coke_bottle.png', 3995), ('5_endorsements.png', 3973), ('coke_executive.png', 3058)]\n",
      "['9_cocola_water_sparling_topo_chico.png', '12_customers_opinion_coke_pepsi.png', '11_colege_random.png', '13_media_brand_advertisements.png', '6_earnings_profit.png', '.DS_Store', '1_Ad_controversy_pepsi.png', '4_people_opinions_random.png', '15_share_sales.png', '2_Vegas_politics_controversy.png', '19_random_blogs.png', '3_branding_business.png', '10_Pepsi_center_wwe.png', '16_pepsi_endorsements_johnson.png', '0_Business.png', '7_sports.png', '14_french_ban_dinner.png', '8_coke_bottle.png', '5_endorsements.png', 'coke_executive.png']\n"
     ]
    }
   ],
   "source": [
    "commonEntityDict['']=0\n",
    "mostCommonEntities = Counter(commonEntityDict).most_common(20)\n",
    "entList = [];\n",
    "for ent, count in mostCommonEntities:\n",
    "    entList.append(ent)\n",
    "print(mostCommonEntities)\n",
    "print(entList)"
   ]
  },
  {
   "cell_type": "code",
   "execution_count": 44,
   "metadata": {},
   "outputs": [
    {
     "name": "stdout",
     "output_type": "stream",
     "text": [
      "[['9_cocola_water_sparling_topo_chico.png', {'Pepsi': 0.0813658976662094, 'Coke': 0}], ['12_customers_opinion_coke_pepsi.png', {'Pepsi': 0.05751745908587329, 'Coke': 0}], ['11_colege_random.png', {'Pepsi': 0.0797634200441319, 'Coke': 0}], ['13_media_brand_advertisements.png', {'Pepsi': 0.048411883558503385, 'Coke': 0}], ['6_earnings_profit.png', {'Pepsi': 0.10652159525320644, 'Coke': 0}], ['.DS_Store', {'Pepsi': 0.06204431453948529, 'Coke': 0}], ['1_Ad_controversy_pepsi.png', {'Pepsi': 0.05419710869539481, 'Coke': 0}], ['4_people_opinions_random.png', {'Pepsi': 0.05329321211162141, 'Coke': 0}], ['15_share_sales.png', {'Pepsi': 0.07292851312029935, 'Coke': 0}], ['2_Vegas_politics_controversy.png', {'Pepsi': 0.05559943226692916, 'Coke': 0}], ['19_random_blogs.png', {'Pepsi': 0.08889991447898626, 'Coke': 0}], ['3_branding_business.png', {'Pepsi': 0.06720408591089755, 'Coke': 0}], ['10_Pepsi_center_wwe.png', {'Pepsi': -0.03173812586851365, 'Coke': 0}], ['16_pepsi_endorsements_johnson.png', {'Pepsi': 0.02916026196686041, 'Coke': 0}], ['0_Business.png', {'Pepsi': -0.07616008302737251, 'Coke': 0}], ['7_sports.png', {'Pepsi': 0.05590806707117471, 'Coke': 0}], ['14_french_ban_dinner.png', {'Pepsi': 0.07631678755163199, 'Coke': 0}], ['8_coke_bottle.png', {'Pepsi': 0.009736813135629987, 'Coke': 0}], ['5_endorsements.png', {'Pepsi': 0.046054511153179115, 'Coke': 0}], ['coke_executive.png', {'Pepsi': 0.03195346689771076, 'Coke': 0}]]\n"
     ]
    }
   ],
   "source": [
    "aveSentList = [];\n",
    "for targetEnt in entList:\n",
    "    i=0;\n",
    "    sentSum=0;\n",
    "    for index, row in df_pepsi.iterrows():\n",
    "        ent = row['Topic_name'].split(\" \")\n",
    "        for e in ent:\n",
    "            #break if any of the entities match the popular entity list\n",
    "            if e == targetEnt:\n",
    "                sentSum = sentSum+ row['Sentiment']\n",
    "                i = i+1\n",
    "                break\n",
    "    aveSentList.append([targetEnt,{'Pepsi': sentSum/i, 'Coke': 0}])\n",
    "print(aveSentList)\n",
    "#coke rows: df_coke"
   ]
  },
  {
   "cell_type": "code",
   "execution_count": 45,
   "metadata": {},
   "outputs": [
    {
     "name": "stdout",
     "output_type": "stream",
     "text": [
      "[['9_cocola_water_sparling_topo_chico.png', {'Pepsi': 0.0813658976662094, 'Coke': 0.13707989855742736}], ['12_customers_opinion_coke_pepsi.png', {'Pepsi': 0.05751745908587329, 'Coke': 0.1224677558131042}], ['11_colege_random.png', {'Pepsi': 0.0797634200441319, 'Coke': 0.16104602592061493}], ['13_media_brand_advertisements.png', {'Pepsi': 0.048411883558503385, 'Coke': 0.14168210378214868}], ['6_earnings_profit.png', {'Pepsi': 0.10652159525320644, 'Coke': 0.1482274968056574}], ['.DS_Store', {'Pepsi': 0.06204431453948529, 'Coke': 0.1524013695453991}], ['1_Ad_controversy_pepsi.png', {'Pepsi': 0.05419710869539481, 'Coke': 0.13725868239393865}], ['4_people_opinions_random.png', {'Pepsi': 0.05329321211162141, 'Coke': 0.14502929029450706}], ['15_share_sales.png', {'Pepsi': 0.07292851312029935, 'Coke': 0.16660468677492785}], ['2_Vegas_politics_controversy.png', {'Pepsi': 0.05559943226692916, 'Coke': 0.149948360663177}], ['19_random_blogs.png', {'Pepsi': 0.08889991447898626, 'Coke': 0.1757519302581662}], ['3_branding_business.png', {'Pepsi': 0.06720408591089755, 'Coke': 0.11985875407973971}], ['10_Pepsi_center_wwe.png', {'Pepsi': -0.03173812586851365, 'Coke': 0.1144647239134851}], ['16_pepsi_endorsements_johnson.png', {'Pepsi': 0.02916026196686041, 'Coke': 0.12733004198904144}], ['0_Business.png', {'Pepsi': -0.07616008302737251, 'Coke': 0.11073440517331805}], ['7_sports.png', {'Pepsi': 0.05590806707117471, 'Coke': 0.12492369905542103}], ['14_french_ban_dinner.png', {'Pepsi': 0.07631678755163199, 'Coke': 0.13257395268669014}], ['8_coke_bottle.png', {'Pepsi': 0.009736813135629987, 'Coke': 0.15424267623380553}], ['5_endorsements.png', {'Pepsi': 0.046054511153179115, 'Coke': 0.12021996791938792}], ['coke_executive.png', {'Pepsi': 0.03195346689771076, 'Coke': 0.1328258469626014}]]\n"
     ]
    }
   ],
   "source": [
    "for targetEnt in entList:\n",
    "    i=0;\n",
    "    sentSum=0;\n",
    "    for index, row in df_coke.iterrows():\n",
    "        ent = row['Topic_name'].split(\" \")\n",
    "        for e in ent:\n",
    "            #break if any of the entities match the popular entity list\n",
    "            if e == targetEnt:\n",
    "                sentSum = sentSum+ row['Sentiment']\n",
    "                i = i+1\n",
    "                break\n",
    "    aveSentList[entList.index(targetEnt)][1]['Coke'] = sentSum/i\n",
    "print(aveSentList)"
   ]
  },
  {
   "cell_type": "code",
   "execution_count": 46,
   "metadata": {},
   "outputs": [
    {
     "data": {
      "image/png": "[encoded data removed]",
      "text/plain": [
       "<matplotlib.figure.Figure at 0x7f4afa5235c0>"
      ]
     },
     "metadata": {},
     "output_type": "display_data"
    }
   ],
   "source": [
    "import numpy as np\n",
    "import matplotlib.pyplot as plt\n",
    "pepsi=[];\n",
    "coke=[];\n",
    "for i in range(0,20):\n",
    "    pepsi.append(aveSentList[i][1]['Pepsi'])\n",
    "    coke.append(aveSentList[i][1]['Coke'])\n",
    "\n",
    "index = np.arange(20)\n",
    "bar_width = 0.35\n",
    "opacity = 0.8\n",
    "\n",
    "plt.figure(1, figsize=(14, 8))\n",
    "rect1= plt.barh(index,pepsi,bar_width,alpha=opacity,color='b',label='Pepsi')\n",
    "rect2 = plt.barh(index+bar_width,coke,bar_width,alpha=opacity,color='g',label='Coke')\n",
    "plt.xlim([-0.75,0.75])\n",
    "plt.yticks(index+bar_width,entList)\n",
    "plt.ylabel('Topics')\n",
    "plt.xlabel('Average Sentiment')\n",
    "plt.title('Average Sentiment per Topic')\n",
    "plt.legend()\n",
    "plt.show()"
   ]
  }
 ],
 "metadata": {
  "kernelspec": {
   "display_name": "Python 3",
   "language": "python",
   "name": "python3"
  },
  "language_info": {
   "codemirror_mode": {
    "name": "ipython",
    "version": 3
   },
   "file_extension": ".py",
   "mimetype": "text/x-python",
   "name": "python",
   "nbconvert_exporter": "python",
   "pygments_lexer": "ipython3",
   "version": "3.6.2"
  }
 },
 "nbformat": 4,
 "nbformat_minor": 2
}
