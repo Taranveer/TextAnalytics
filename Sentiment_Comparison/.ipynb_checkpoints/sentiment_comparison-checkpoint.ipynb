{
 "cells": [
  {
   "cell_type": "code",
   "execution_count": 1,
   "metadata": {
    "collapsed": true
   },
   "outputs": [],
   "source": [
    "import pandas as pd\n",
    "from collections import Counter\n",
    "import pprint\n",
    "import pickle\n",
    "\n",
    "def dump(obj,filename):\n",
    "    filehandler = open(filename,\"wb\")\n",
    "    pickle.dump(obj,filehandler,protocol=2)\n",
    "    filehandler.close()\n",
    "\n",
    "def load(filename):\n",
    "    file = open(filename,'rb')\n",
    "    obj = pickle.load(file)\n",
    "    file.close()\n",
    "    return obj"
   ]
  },
  {
   "cell_type": "markdown",
   "metadata": {},
   "source": [
    "#### Load data"
   ]
  },
  {
   "cell_type": "code",
   "execution_count": 2,
   "metadata": {},
   "outputs": [
    {
     "name": "stdout",
     "output_type": "stream",
     "text": [
      "(18340, 19)\n",
      "<class 'pandas.core.frame.DataFrame'>\n"
     ]
    }
   ],
   "source": [
    "df = load('df_sel_entities_sentiment_category_p2.pkl')\n",
    "print(df.shape)\n",
    "print(type(df))"
   ]
  },
  {
   "cell_type": "markdown",
   "metadata": {},
   "source": [
    "#### Comparison between entities\n",
    "#### 1) extract all entities and search in the data frame\n",
    "#### 2) go line by line looking for entities\n",
    "#### I will try 1"
   ]
  },
  {
   "cell_type": "code",
   "execution_count": 3,
   "metadata": {
    "collapsed": true
   },
   "outputs": [],
   "source": [
    "from collections import Counter\n",
    "def get_most_common(df, colname):\n",
    "    count_dict = Counter(df[colname])\n",
    "    return count_dict.most_common(100)"
   ]
  },
  {
   "cell_type": "code",
   "execution_count": 13,
   "metadata": {},
   "outputs": [
    {
     "name": "stdout",
     "output_type": "stream",
     "text": [
      "['', 'general mills', 'alm', 'pep', 'hp', 'itc', 'yellow', 'nasdaq', 'johnson johnson', 'the denver post', 'bellanaija', 'kraft foods', 'sony', 'llc', 'mcdonalds', 'ps4', 'associated press', 'sunkist', 'spotify', 'giant', 'ebay', 'pizza hut', 'susquehanna', 'mcdonald', 'ddb', 'costco', 'the 20th international congress of nutrition', 'imo', 'sugar', 'the associated press', 'tm', 'black', 'gatorade', 'treasury', 'pcb', 'monarch airlines', 'the world trade center', 'nyse', 'morgan stanley', 'hiv', 'utc', 'read', 'bloomberg news', 'paradise beverages', 'dc', 'nsrgy', 'amazon', 'vegas', 'facebook', 'starbucks', 'prof', 'miller brewing', 'galaxy', 'now', 'hfcs', 'chanel', 'cmo', 'united nation', 'fortune', 'hotel', 'mb', 'toyota', 'ge', 'dr pepper snapple', 'google alerts', 'malone', 'interpublic group', 'monsanto', 'paris fashion week', 'latest news', 'coors', 'ups', 'fox sports', 'mountain dew', 'monster energy', 'heinz', 'exxon mobil', 'academic essay', 'espn', 'sheraton', 'super bowl', 'tiffany', 'ea', 'quaker', 'baskin robbins', 'wwe', 'campbell', 'motorola', 'sec', 'food city weekly', 'nbc', 'nba', 'mattel', 'general motors', 'the white house', 'ice cream', 'britvic', 'hq', 'abc', 'caribbean', 'westpac', 'publix', 'nestle', 'pet', 'wells fargo', 'senate', 'the financial times', 'fox', 'fedex', 'chips', 'kendall jenner', 'state', 'un', 'twins', 'instant pot', 'wendy', 'new york times', 'cnn', 'exxonmobil', 'squirt', 'the national football league', 'gop', 'disney', 'the new york', 'aol', 'vintage', 'nature', 'guardian', 'journal', 'the united nations', 'hyundai', 'smiths', 'volkswagen', 'gm', 'leeds', 'trademarks', 'wall street journal', 'post', 'lockheed', 'hbo', 'major league soccer', 'gillette', 'netflix', 'bank of america', 'ap photo', 'forbes', 'the hollywood reporter', 'place', 'brigham young university', 'chrysler', 'the european union', 'url', 'tate lyle', 'marriott', 'cadbury', 'gif', 'united airlines', 'the times', 'aha', 'dr pepper', 'apple', 'adidas', 'budweiser', 'ca', 'blockbuster', 'echo', 'email', 'unilever', 'google', 'kfc', 'chevron', 'the detroit red wings', 'pentagon', 'ikea', 'instagram', 'usa', 'lego', 'quaker oats', 'chobani', 'bbc', 'nfl', 'run the jewels', 'insider', 'live', 'reuters', 'corporate counsel', 'white', 'twitter', 'getty images', 'playboy', 'first lady', 'philips', 'verizon', 'business insider', 'company', 'converse', 'yahoo', 'ford', 'the company', 'getty', 'bmw', 'fmcg', 'schweppes', 'qr code link', 'warc', 'png', 'obama', 'fda', 'usa technologies inc', 'morningstar', 'isis', 'target', 'mc donalds', 'heineken', 'reebok', 'samsung', 'mtv', 'cvs', 'the conservative party conference', 'whole foods', 'procter gamble', 'taste', 'merck', 'uk', 'wild', 'glaxosmithkline', 'the air force', 'white house', 'cnbc', 'best buy', 'tesla', 'or al', 'canon', 'nascar', 'diageo', 'ap', 'diet dr pepper', 'copa', 'kellogg', 'file', 'the las vegas', 'cosmopolitan', 'cpg', 'uae', 'sprint', 'visa', 'americas', 'huge', 'financial times', 'united', 'anheuser busch', 'nike', 'alphabet', 'the wood', 'tesco', 'nspcc', 'ceo', 'caterpillar', 'digital', 'monarch', 'shell', 'proctor gamble', 'bbc news', 'nra', 'week', 'google news', 'pinterest opens', 'the international congress of nutrition', 'congress', 'the national law journal', 'dow jones', 'dow', 'dps', 'daily express', 'diet', 'ooh', 'the trump administration', 'walmart', 'nintendo', 'alpha', 'legaltech news', 'gap', 'bridgestone', 'red bull', 'beyonc', 'lockheed martin', 'boeing', 'procter', 'siemens', 'campbell soup', 'cbs', 'eps', 'lucky', 'harley', 'site selectors guild', 'time', 'marvel', 'inc', 'microsoft', 'daily mail', 'dover']\n"
     ]
    }
   ],
   "source": [
    "df_pepsi = df[df['Category']=='Pepsi']\n",
    "df_coke = df[df['Category']=='Coke']\n",
    "cokeEntitySet = set([]);\n",
    "pepsiEntitySet = set([]);\n",
    "\n",
    "for entry in df_coke.loc[:,'entities']:\n",
    "    temp = entry.split(\"_\")\n",
    "    for t in temp:\n",
    "        cokeEntitySet.add(str(t))\n",
    "for entry in df_pepsi.loc[:,'entities']:\n",
    "    temp = entry.split(\"_\")\n",
    "    for t in temp:\n",
    "        pepsiEntitySet.add(str(t))\n",
    "\n",
    "commonEntitySet = list(cokeEntitySet.intersection(pepsiEntitySet))\n",
    "print(commonEntitySet)"
   ]
  },
  {
   "cell_type": "code",
   "execution_count": 5,
   "metadata": {},
   "outputs": [
    {
     "name": "stdout",
     "output_type": "stream",
     "text": [
      "[u'elise amendola_file ap_the associated press_mobile apps file_pepsi_3q_pepsico inc_file ap photo_pepsico inc', u'elise amendola_file ap_the associated press_mobile apps file_pepsi_3q_pepsico inc_file ap photo_pepsico inc', u'stellar novellas_coca cola_executive creative director ashley sword_chrysler_stellar scholars_stellar romance_roundtable_the district of columbia_mcdonald', u'crisps_coca cola_walkers', u'coca cola_instagram']\n"
     ]
    }
   ],
   "source": [
    "df2 = df.loc[:,'entities']\n",
    "df2.head()\n",
    "list2 = list(df2)\n",
    "print(list2[:5])"
   ]
  },
  {
   "cell_type": "code",
   "execution_count": 6,
   "metadata": {
    "collapsed": true
   },
   "outputs": [],
   "source": [
    "container = []\n",
    "for i in list2:\n",
    "    i = i.split(\"_\")\n",
    "    container.extend(i)"
   ]
  },
  {
   "cell_type": "code",
   "execution_count": 11,
   "metadata": {},
   "outputs": [
    {
     "name": "stdout",
     "output_type": "stream",
     "text": [
      "{'': 2223, 'alm': 9, 'fox': 16, 'converse': 182, 'itc': 11, 'yellow': 3, 'lockheed martin': 7, 'nasdaq': 90, 'aha': 4, 'the denver post': 20, 'bellanaija': 7, 'kraft foods': 12, 'sony': 24, 'llc': 20, 'mcdonalds': 59, 'ps4': 4, 'associated press': 12, 'sunkist': 3, 'spotify': 5, 'giant': 4, 'schweppes': 34, 'pizza hut': 21, 'susquehanna': 13, 'mcdonald': 247, 'chips': 4, 'imo': 8, 'sugar': 58, 'the associated press': 49, 'the conservative party conference': 3, 'tm': 2, 'black': 9, 'gatorade': 82, 'treasury': 6, 'pcb': 6, 'monarch airlines': 9, 'the world trade center': 9, 'instant pot': 4, 'morgan stanley': 38, 'hiv': 126, 'usa technologies inc': 7, 'read': 3, 'bloomberg news': 5, 'digital': 8, 'harley': 13, 'dc': 97, 'siemens': 4, 'cnn': 11, 'amazon': 36, 'vegas': 12, 'facebook': 34, 'starbucks': 25, 'prof': 2, 'miller brewing': 5, 'now': 5, 'hfcs': 16, 'chanel': 6, 'cmo': 8, 'motorola': 2, 'fortune': 142, 'nfl': 187, 'toyota': 47, 'baskin robbins': 5, 'dr pepper snapple': 10, 'google alerts': 7, 'malone': 3, 'interpublic group': 3, 'monsanto': 46, 'latest news': 4, 'coors': 9, 'mc donalds': 3, 'ups': 18, 'fox sports': 4, 'kfc': 140, 'monster energy': 7, 'heinz': 3, 'exxon mobil': 5, 'chevron': 12, 'espn': 6, 'sheraton': 3, 'super bowl': 32, 'tiffany': 2, 'ea': 4, 'quaker': 41, 'microsoft': 81, 'wwe': 80, 'campbell': 7, 'sec': 29, 'food city weekly': 4, 'nbc': 66, 'nba': 84, 'mattel': 9, 'general mills': 22, 'the white house': 12, 'ice cream': 5, 'britvic': 4, 'abc': 24, 'caribbean': 3, 'bridgestone': 20, 'publix': 7, 'procter gamble': 62, 'pet': 57, 'wells fargo': 114, 'pep': 117, 'fedex': 4, 'the national football league': 7, 'kendall jenner': 44, 'state': 18, 'merck': 2, 'twins': 5, 'galaxy': 5, 'wendy': 6, 'new york times': 5, 'nsrgy': 6, 'ddb': 11, 'squirt': 9, 'united nation': 6, 'gop': 3, 'disney': 42, 'the new york': 8, 'nature': 19, 'guardian': 42, 'journal': 4, 'the united nations': 4, 'hyundai': 9, 'smiths': 7, 'volkswagen': 11, 'reuters': 37, 'gm': 9, 'leeds': 12, 'trademarks': 5, 'wall street journal': 6, 'post': 22, 'lockheed': 8, 'reebok': 63, 'hbo': 17, 'major league soccer': 3, 'usa': 6, 'netflix': 20, 'bank of america': 14, 'lego': 7, 'united': 242, 'ap photo': 124, 'the hollywood reporter': 48, 'place': 7, 'chrysler': 9, 'the european union': 7, 'url': 8, 'tate lyle': 17, 'marriott': 14, 'cadbury': 22, 'beyonc': 2, 'tesla': 5, 'united airlines': 2, 'the times': 3, 'johnson johnson': 2, 'paris fashion week': 12, 'adidas': 25, 'budweiser': 9, 'ca': 3, 'echo': 13, 'email': 17, 'unilever': 46, 'google': 72, 'mountain dew': 123, 'academic essay': 3, 'apple': 131, 'the detroit red wings': 2, 'pentagon': 3, 'legaltech news': 9, 'nyse': 162, 'instagram': 25, 'gillette': 15, 'gif': 19, 'quaker oats': 16, 'insider': 3, 'chobani': 6, 'bbc': 18, 'run the jewels': 5, 'senate': 34, 'live': 69, 'forbes': 17, 'time': 11, 'corporate counsel': 9, 'white': 3, 'twitter': 33, 'getty images': 45, 'playboy': 46, 'first lady': 4, 'verizon': 21, 'business insider': 32, 'hp': 12, 'hotel': 5, 'yahoo': 2, 'ford': 77, 'the company': 56, 'getty': 89, 'bmw': 18, 'the financial times': 3, 'costco': 77, 'qr code link': 5, 'warc': 3, 'png': 4, 'obama': 3, 'fda': 8, 'utc': 8, 'morningstar': 13, 'isis': 7, 'target': 129, 'mb': 3, 'heineken': 18, 'brigham young university': 3, 'mtv': 7, 'cvs': 5, 'walmart': 52, 'ebay': 13, 'whole foods': 31, 'nestle': 191, 'un': 21, 'uk': 6, 'wild': 27, 'glaxosmithkline': 2, 'campbell soup': 5, 'the air force': 7, 'white house': 7, 'alphabet': 9, 'cnbc': 4, 'file': 20, 'taste': 8, 'or al': 6, 'canon': 3, 'nascar': 118, 'diageo': 9, 'ap': 174, 'diet dr pepper': 14, 'copa': 22, 'the wood': 2, 'best buy': 8, 'the las vegas': 30, 'cosmopolitan': 10, 'blockbuster': 3, 'uae': 12, 'sprint': 5, 'americas': 4, 'huge': 4, 'financial times': 2, 'dr pepper': 15, 'the 20th international congress of nutrition': 3, 'nike': 122, 'general motors': 9, 'tesco': 69, 'nspcc': 10, 'ceo': 93, 'caterpillar': 17, 'paradise beverages': 2, 'monarch': 9, 'shell': 10, 'proctor gamble': 5, 'bbc news': 3, 'company': 76, 'week': 14, 'google news': 2, 'pinterest opens': 4, 'hq': 13, 'red bull': 37, 'congress': 14, 'alpha': 3, 'the national law journal': 8, 'exxonmobil': 2, 'dow jones': 5, 'aol': 10, 'daily express': 8, 'diet': 116, 'ooh': 7, 'the trump administration': 9, 'nra': 7, 'visa': 33, 'eps': 15, 'nintendo': 16, 'anheuser busch': 19, 'ikea': 14, 'gap': 3, 'fmcg': 19, 'philips': 4, 'ge': 20, 'dps': 8, 'boeing': 24, 'procter': 3, 'samsung': 27, 'westpac': 3, 'cbs': 13, 'kellogg': 41, 'lucky': 4, 'cpg': 9, 'site selectors guild': 6, 'vintage': 5, 'the international congress of nutrition': 3, 'dover': 15, 'inc': 34, 'dow': 10, 'daily mail': 5, 'marvel': 96}\n"
     ]
    }
   ],
   "source": [
    "from collections import Counter\n",
    "def get_most_common(lista):\n",
    "    count_dict = Counter(lista)\n",
    "    return count_dict\n",
    "\n",
    "countDict = get_most_common(container)\n",
    "commonEntityDict = {};\n",
    "\n",
    "for entity in commonEntitySet:\n",
    "    commonEntityDict[entity]=countDict[entity]\n",
    "print(commonEntityDict)"
   ]
  },
  {
   "cell_type": "code",
   "execution_count": 54,
   "metadata": {},
   "outputs": [
    {
     "name": "stdout",
     "output_type": "stream",
     "text": [
      "[('mcdonald', 247), ('united', 242), ('nestle', 191), ('nfl', 187), ('converse', 182), ('ap', 174), ('nyse', 162), ('fortune', 142), ('kfc', 140), ('apple', 131), ('target', 129), ('hiv', 126), ('ap photo', 124), ('mountain dew', 123), ('nike', 122), ('nascar', 118), ('pep', 117), ('diet', 116), ('wells fargo', 114), ('dc', 97)]\n",
      "['mcdonald', 'united', 'nestle', 'nfl', 'converse', 'ap', 'nyse', 'fortune', 'kfc', 'apple', 'target', 'hiv', 'ap photo', 'mountain dew', 'nike', 'nascar', 'pep', 'diet', 'wells fargo', 'dc']\n"
     ]
    }
   ],
   "source": [
    "commonEntityDict['']=0\n",
    "mostCommonEntities = Counter(commonEntityDict).most_common(20)\n",
    "entList = [];\n",
    "for ent, count in mostCommonEntities:\n",
    "    entList.append(ent)\n",
    "print(mostCommonEntities)\n",
    "print(entList)"
   ]
  },
  {
   "cell_type": "code",
   "execution_count": 62,
   "metadata": {},
   "outputs": [
    {
     "name": "stdout",
     "output_type": "stream",
     "text": [
      "[['mcdonald', {'Coke': 0, 'Pepsi': 0.003001709785029578}], ['united', {'Coke': 0, 'Pepsi': -0.015011121122952012}], ['nestle', {'Coke': 0, 'Pepsi': -0.002238212586948256}], ['nfl', {'Coke': 0, 'Pepsi': -0.005114038233826566}], ['converse', {'Coke': 0, 'Pepsi': -0.003996181163635438}], ['ap', {'Coke': 0, 'Pepsi': 0.02403044324929192}], ['nyse', {'Coke': 0, 'Pepsi': 0.015152511913104386}], ['fortune', {'Coke': 0, 'Pepsi': -0.05616697547141587}], ['kfc', {'Coke': 0, 'Pepsi': -0.0035420139065234146}], ['apple', {'Coke': 0, 'Pepsi': 0.015255174671084362}], ['target', {'Coke': 0, 'Pepsi': -0.0038624045804229873}], ['hiv', {'Coke': 0, 'Pepsi': -0.003996181163635438}], ['ap photo', {'Coke': 0, 'Pepsi': 0.02953297839583832}], ['mountain dew', {'Coke': 0, 'Pepsi': 0.01620849312483437}], ['nike', {'Coke': 0, 'Pepsi': -0.0006187187941604285}], ['nascar', {'Coke': 0, 'Pepsi': 0.010460402515951712}], ['pep', {'Coke': 0, 'Pepsi': 0.015256128617089987}], ['diet', {'Coke': 0, 'Pepsi': 0.0035664868486053923}], ['wells fargo', {'Coke': 0, 'Pepsi': -0.008154559049633432}], ['dc', {'Coke': 0, 'Pepsi': 0.0003851117291383283}]]\n"
     ]
    }
   ],
   "source": [
    "#just for mcdonald\n",
    "\n",
    "#pepsi rows: df_pepsi\n",
    "aveSentList = [];\n",
    "for targetEnt in entList:\n",
    "    i=0;\n",
    "    sentSum=0;\n",
    "    for index, row in df_pepsi.iterrows():\n",
    "        ent = row['entities'].split(\"_\")\n",
    "        for e in ent:\n",
    "            #break if any of the entities match the popular entity list\n",
    "            if e == targetEnt:\n",
    "                sentSum = sentSum+ row['Sentiment']\n",
    "                i = i+1\n",
    "                break\n",
    "    aveSentList.append([targetEnt,{'Pepsi': sentSum/i, 'Coke': 0}])\n",
    "print(aveSentList)\n",
    "#coke rows: df_coke"
   ]
  },
  {
   "cell_type": "code",
   "execution_count": 67,
   "metadata": {},
   "outputs": [
    {
     "name": "stdout",
     "output_type": "stream",
     "text": [
      "[['mcdonald', {'Coke': 0.012901469549500798, 'Pepsi': 0.003001709785029578}], ['united', {'Coke': 0.030626586611266295, 'Pepsi': -0.015011121122952012}], ['nestle', {'Coke': 0.01851107819061325, 'Pepsi': -0.002238212586948256}], ['nfl', {'Coke': 0.005951599808616443, 'Pepsi': -0.005114038233826566}], ['converse', {'Coke': -0.009576199967468741, 'Pepsi': -0.003996181163635438}], ['ap', {'Coke': 0.017251761334522133, 'Pepsi': 0.02403044324929192}], ['nyse', {'Coke': 0.019194001626003623, 'Pepsi': 0.015152511913104386}], ['fortune', {'Coke': 0.004177801199192516, 'Pepsi': -0.05616697547141587}], ['kfc', {'Coke': 0.029497080369691692, 'Pepsi': -0.0035420139065234146}], ['apple', {'Coke': 0.02666302065517296, 'Pepsi': 0.015255174671084362}], ['target', {'Coke': 0.038775473348682164, 'Pepsi': -0.0038624045804229873}], ['hiv', {'Coke': 0.008856685785308713, 'Pepsi': -0.003996181163635438}], ['ap photo', {'Coke': 0.011202932347021046, 'Pepsi': 0.02953297839583832}], ['mountain dew', {'Coke': 0.011925938644688648, 'Pepsi': 0.01620849312483437}], ['nike', {'Coke': 0.027408812551366745, 'Pepsi': -0.0006187187941604285}], ['nascar', {'Coke': 0.019393248719827554, 'Pepsi': 0.010460402515951712}], ['pep', {'Coke': 0.04347924810287097, 'Pepsi': 0.015256128617089987}], ['diet', {'Coke': 0.007482220709999885, 'Pepsi': 0.0035664868486053923}], ['wells fargo', {'Coke': 0.011717982303970913, 'Pepsi': -0.008154559049633432}], ['dc', {'Coke': 0.008410688811107908, 'Pepsi': 0.0003851117291383283}]]\n"
     ]
    }
   ],
   "source": [
    "for targetEnt in entList:\n",
    "    i=0;\n",
    "    sentSum=0;\n",
    "    for index, row in df_coke.iterrows():\n",
    "        ent = row['entities'].split(\"_\")\n",
    "        for e in ent:\n",
    "            #break if any of the entities match the popular entity list\n",
    "            if e == targetEnt:\n",
    "                sentSum = sentSum+ row['Sentiment']\n",
    "                i = i+1\n",
    "                break\n",
    "    aveSentList[entList.index(targetEnt)][1]['Coke'] = sentSum/i\n",
    "print(aveSentList)"
   ]
  },
  {
   "cell_type": "code",
   "execution_count": 125,
   "metadata": {},
   "outputs": [
    {
     "data": {
      "image/png": "[encoded data removed]",
      "text/plain": [
       "<matplotlib.figure.Figure at 0x1190550d0>"
      ]
     },
     "metadata": {},
     "output_type": "display_data"
    }
   ],
   "source": [
    "import numpy as np\n",
    "import matplotlib.pyplot as plt\n",
    "pepsi=[];\n",
    "coke=[];\n",
    "for i in range(0,20):\n",
    "    pepsi.append(aveSentList[i][1]['Pepsi'])\n",
    "    coke.append(aveSentList[i][1]['Coke'])\n",
    "\n",
    "index = np.arange(20)\n",
    "bar_width = 0.35\n",
    "opacity = 0.8\n",
    "\n",
    "rect1= plt.barh(index,pepsi,bar_width,alpha=opacity,color='b',label='Pepsi')\n",
    "rect2 = plt.barh(index+bar_width,coke,bar_width,alpha=opacity,color='g',label='Coke')\n",
    "plt.xlim([-0.06,0.06])\n",
    "plt.yticks(index+bar_width,entList)\n",
    "plt.ylabel('Entities')\n",
    "plt.xlabel('Average Sentiment')\n",
    "plt.title('Average Sentiment per Most Common Shared Entities')\n",
    "plt.legend()\n",
    "plt.show()"
   ]
  },
  {
   "cell_type": "code",
   "execution_count": null,
   "metadata": {
    "collapsed": true
   },
   "outputs": [],
   "source": []
  }
 ],
 "metadata": {
  "kernelspec": {
   "display_name": "Python 2",
   "language": "python",
   "name": "python2"
  },
  "language_info": {
   "codemirror_mode": {
    "name": "ipython",
    "version": 2
   },
   "file_extension": ".py",
   "mimetype": "text/x-python",
   "name": "python",
   "nbconvert_exporter": "python",
   "pygments_lexer": "ipython2",
   "version": "2.7.14"
  }
 },
 "nbformat": 4,
 "nbformat_minor": 2
}
