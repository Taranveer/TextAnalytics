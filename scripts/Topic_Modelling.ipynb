{
 "cells": [
  {
   "cell_type": "code",
   "execution_count": 9,
   "metadata": {
    "collapsed": false
   },
   "outputs": [],
   "source": [
    "import pandas as pd\n",
    "import numpy as np\n",
    "import ast\n",
    "import seaborn\n",
    "from collections import Counter\n",
    "import pickle\n",
    "from sklearn.feature_extraction.text import CountVectorizer\n",
    "from nltk.stem import WordNetLemmatizer\n",
    "wordnet_lemmatizer = WordNetLemmatizer()\n",
    "from nltk.stem import SnowballStemmer\n",
    "snowball_stemmer = SnowballStemmer(\"english\")\n",
    "from bs4 import BeautifulSoup\n",
    "import logging, gensim, bz2"
   ]
  },
  {
   "cell_type": "code",
   "execution_count": 10,
   "metadata": {
    "collapsed": true
   },
   "outputs": [],
   "source": [
    "import json\n",
    "import urlparse\n",
    "from itertools import chain\n",
    "flatten = chain.from_iterable\n",
    "from nltk import word_tokenize"
   ]
  },
  {
   "cell_type": "code",
   "execution_count": 22,
   "metadata": {
    "collapsed": true
   },
   "outputs": [],
   "source": [
    "import matplotlib.pyplot as plt"
   ]
  },
  {
   "cell_type": "code",
   "execution_count": 11,
   "metadata": {
    "collapsed": true
   },
   "outputs": [],
   "source": [
    "def load(filename):\n",
    "    file = open(filename,'rb')\n",
    "    obj = pickle.load(file)\n",
    "    file.close()\n",
    "    return obj\n",
    "\n",
    "def dump(obj,filename):\n",
    "    filehandler = open(filename,\"wb\")\n",
    "    pickle.dump(obj,filehandler)\n",
    "    filehandler.close()"
   ]
  },
  {
   "cell_type": "markdown",
   "metadata": {},
   "source": [
    "### Load Pickled Data"
   ]
  },
  {
   "cell_type": "code",
   "execution_count": null,
   "metadata": {
    "collapsed": false
   },
   "outputs": [],
   "source": [
    "#pitt_review = load(\"../../corpus/cor\")"
   ]
  },
  {
   "cell_type": "code",
   "execution_count": 14,
   "metadata": {
    "collapsed": false
   },
   "outputs": [
    {
     "name": "stdout",
     "output_type": "stream",
     "text": [
      "ke\n"
     ]
    }
   ],
   "source": [
    "print \"ke\""
   ]
  },
  {
   "cell_type": "code",
   "execution_count": 15,
   "metadata": {
    "collapsed": false
   },
   "outputs": [
    {
     "data": {
      "text/plain": [
       "<gensim.models.ldamodel.LdaModel at 0x11bccdbd0>"
      ]
     },
     "execution_count": 15,
     "metadata": {},
     "output_type": "execute_result"
    }
   ],
   "source": [
    "ldamodel"
   ]
  },
  {
   "cell_type": "code",
   "execution_count": 12,
   "metadata": {
    "collapsed": false
   },
   "outputs": [],
   "source": [
    "corpus = load(\"../../corpus/corpus.pkl\")\n",
    "dictionary = load(\"../../corpus/dictionary.pkl\")"
   ]
  },
  {
   "cell_type": "markdown",
   "metadata": {},
   "source": [
    "### Start LDA`"
   ]
  },
  {
   "cell_type": "code",
   "execution_count": 40,
   "metadata": {
    "collapsed": false
   },
   "outputs": [],
   "source": [
    "ldamodel = gensim.models.ldamodel.LdaModel(corpus, num_topics=20, id2word = dictionary, passes=100)\n",
    "#print(ldamodel.print_topics(topics=50, topn=10))"
   ]
  },
  {
   "cell_type": "code",
   "execution_count": 41,
   "metadata": {
    "collapsed": true
   },
   "outputs": [],
   "source": [
    "ldamodel.save(\"../../corpus/lda.model_20\")"
   ]
  },
  {
   "cell_type": "code",
   "execution_count": 42,
   "metadata": {
    "collapsed": true
   },
   "outputs": [],
   "source": [
    "ldamodel2 = gensim.models.ldamodel.LdaModel(corpus, num_topics=10, id2word = dictionary, passes=150)"
   ]
  },
  {
   "cell_type": "code",
   "execution_count": 43,
   "metadata": {
    "collapsed": true
   },
   "outputs": [],
   "source": [
    "ldamodel2.save(\"../../corpus/lda.model_10\")"
   ]
  },
  {
   "cell_type": "code",
   "execution_count": 17,
   "metadata": {
    "collapsed": false
   },
   "outputs": [],
   "source": [
    "model =  gensim.models.LdaModel.load(\"../../corpus/lda.model\")"
   ]
  },
  {
   "cell_type": "code",
   "execution_count": 19,
   "metadata": {
    "collapsed": false,
    "scrolled": true
   },
   "outputs": [
    {
     "data": {
      "text/plain": [
       "[(0,\n",
       "  u'0.115*\"coke\" + 0.057*\"diet\" + 0.032*\"pepsi\" + 0.021*\"like\" + 0.021*\"drink\" + 0.017*\"cherry\" + 0.014*\"sugar\" + 0.013*\"soda\" + 0.011*\"one\" + 0.011*\"day\" + 0.010*\"taste\" + 0.010*\"zero\" + 0.009*\"much\" + 0.009*\"would\" + 0.008*\"better\" + 0.007*\"something\" + 0.006*\"good\" + 0.006*\"drinks\" + 0.006*\"go\" + 0.006*\"thing\" + 0.006*\"regular\" + 0.006*\"product\" + 0.006*\"fusion\" + 0.005*\"got\" + 0.005*\"bit\" + 0.005*\"calories\" + 0.005*\"get\" + 0.005*\"full\" + 0.005*\"feel\" + 0.005*\"even\"'),\n",
       " (1,\n",
       "  u'0.023*\"brands\" + 0.021*\"new\" + 0.014*\"pepsi\" + 0.013*\"brand\" + 0.012*\"marketing\" + 0.011*\"space\" + 0.011*\"nooyi\" + 0.010*\"time\" + 0.009*\"biggest\" + 0.008*\"shelf\" + 0.008*\"cola\" + 0.007*\"twitter\" + 0.007*\"transformation\" + 0.007*\"plans\" + 0.007*\"possible\" + 0.007*\"learn\" + 0.007*\"project\" + 0.006*\"digital\" + 0.006*\"market\" + 0.006*\"company\" + 0.006*\"online\" + 0.006*\"indra\" + 0.006*\"general\" + 0.005*\"history\" + 0.005*\"experience\" + 0.005*\"change\" + 0.005*\"coca\" + 0.005*\"since\" + 0.005*\"product\" + 0.005*\"working\"'),\n",
       " (2,\n",
       "  u'0.032*\"cola\" + 0.032*\"coca\" + 0.026*\"territories\" + 0.026*\"ceo\" + 0.025*\"chief\" + 0.021*\"hbc\" + 0.021*\"executive\" + 0.018*\"company\" + 0.017*\"said\" + 0.015*\"lois\" + 0.013*\"dimitris\" + 0.011*\"president\" + 0.009*\"death\" + 0.009*\"continue\" + 0.008*\"officer\" + 0.008*\"approximately\" + 0.007*\"away\" + 0.007*\"bottlers\" + 0.007*\"business\" + 0.007*\"role\" + 0.007*\"customers\" + 0.006*\"firm\" + 0.006*\"years\" + 0.006*\"news\" + 0.006*\"announced\" + 0.006*\"would\" + 0.006*\"due\" + 0.006*\"align\" + 0.006*\"leave\" + 0.006*\"medical\"'),\n",
       " (3,\n",
       "  u'0.014*\"throughout\" + 0.014*\"seven\" + 0.012*\"facilities\" + 0.012*\"georgia\" + 0.011*\"coverage\" + 0.011*\"system\" + 0.010*\"league\" + 0.010*\"statement\" + 0.010*\"years\" + 0.010*\"communities\" + 0.009*\"century\" + 0.009*\"women\" + 0.009*\"heritage\" + 0.008*\"support\" + 0.008*\"fleet\" + 0.008*\"also\" + 0.008*\"addition\" + 0.008*\"cola\" + 0.008*\"coca\" + 0.007*\"expansion\" + 0.007*\"birmingham\" + 0.007*\"model\" + 0.007*\"21st\" + 0.007*\"corinth\" + 0.006*\"growth\" + 0.006*\"team\" + 0.006*\"engagement\" + 0.006*\"nine\" + 0.006*\"additional\" + 0.006*\"focused\"'),\n",
       " (4,\n",
       "  u'0.026*\"people\" + 0.019*\"color\" + 0.018*\"blue\" + 0.016*\"around\" + 0.013*\"pepsi\" + 0.012*\"see\" + 0.011*\"right\" + 0.010*\"branding\" + 0.010*\"friends\" + 0.010*\"ran\" + 0.009*\"good\" + 0.008*\"said\" + 0.008*\"real\" + 0.008*\"world\" + 0.008*\"got\" + 0.007*\"went\" + 0.007*\"supposed\" + 0.007*\"saw\" + 0.007*\"towards\" + 0.006*\"getting\" + 0.006*\"daughter\" + 0.006*\"man\" + 0.006*\"lives\" + 0.006*\"show\" + 0.006*\"definitely\" + 0.006*\"looking\" + 0.006*\"tagline\" + 0.006*\"crowd\" + 0.005*\"rcha\" + 0.005*\"shot\"'),\n",
       " (5,\n",
       "  u'0.027*\"yates\" + 0.022*\"file\" + 0.021*\"robert\" + 0.021*\"owner\" + 0.020*\"entry\" + 0.020*\"photo\" + 0.019*\"nascar\" + 0.015*\"left\" + 0.013*\"son\" + 0.012*\"2006\" + 0.011*\"may\" + 0.011*\"engine\" + 0.011*\"team\" + 0.011*\"right\" + 0.009*\"literally\" + 0.009*\"cola\" + 0.009*\"coca\" + 0.008*\"background\" + 0.008*\"600\" + 0.008*\"doug\" + 0.008*\"2017\" + 0.008*\"auto\" + 0.008*\"motor\" + 0.007*\"maker\" + 0.007*\"74\" + 0.007*\"speedway\" + 0.007*\"race\" + 0.007*\"ap\" + 0.006*\"pull\" + 0.006*\"director\"'),\n",
       " (6,\n",
       "  u'0.027*\"day\" + 0.023*\"coffee\" + 0.022*\"food\" + 0.014*\"hot\" + 0.012*\"ice\" + 0.011*\"caffeine\" + 0.011*\"ate\" + 0.010*\"chose\" + 0.010*\"cold\" + 0.009*\"get\" + 0.009*\"bar\" + 0.009*\"cream\" + 0.009*\"breakfast\" + 0.008*\"lunch\" + 0.008*\"coca\" + 0.008*\"time\" + 0.008*\"week\" + 0.007*\"cheese\" + 0.007*\"cola\" + 0.007*\"two\" + 0.007*\"said\" + 0.007*\"cooler\" + 0.006*\"card\" + 0.006*\"go\" + 0.006*\"chicken\" + 0.006*\"supportive\" + 0.006*\"water\" + 0.005*\"liter\" + 0.005*\"fries\" + 0.005*\"tea\"'),\n",
       " (7,\n",
       "  u'0.019*\"star\" + 0.018*\"million\" + 0.018*\"pepsi\" + 0.017*\"song\" + 0.017*\"deals\" + 0.016*\"johnson\" + 0.010*\"paid\" + 0.010*\"nestle\" + 0.010*\"variety\" + 0.010*\"retired\" + 0.010*\"several\" + 0.009*\"peak\" + 0.009*\"gallery\" + 0.009*\"two\" + 0.009*\"company\" + 0.009*\"good\" + 0.009*\"magic\" + 0.009*\"like\" + 0.009*\"go\" + 0.009*\"video\" + 0.009*\"music\" + 0.009*\"target\" + 0.009*\"year\" + 0.009*\"made\" + 0.009*\"12\" + 0.009*\"featuring\" + 0.009*\"twice\" + 0.009*\"los\" + 0.009*\"angeles\" + 0.009*\"return\"'),\n",
       " (8,\n",
       "  u'0.013*\"think\" + 0.012*\"get\" + 0.011*\"pepsi\" + 0.010*\"keep\" + 0.010*\"skippercifer\" + 0.010*\"life\" + 0.009*\"one\" + 0.009*\"really\" + 0.009*\"going\" + 0.009*\"also\" + 0.008*\"work\" + 0.008*\"see\" + 0.008*\"help\" + 0.008*\"try\" + 0.008*\"pop\" + 0.008*\"way\" + 0.007*\"never\" + 0.007*\"cola\" + 0.007*\"time\" + 0.007*\"know\" + 0.007*\"need\" + 0.007*\"go\" + 0.007*\"turn\" + 0.007*\"back\" + 0.006*\"true\" + 0.006*\"coca\" + 0.006*\"mind\" + 0.006*\"free\" + 0.006*\"like\" + 0.006*\"want\"'),\n",
       " (9,\n",
       "  u'0.049*\"2017\" + 0.044*\"october\" + 0.035*\"wwe\" + 0.027*\"pepsi\" + 0.026*\"center\" + 0.023*\"live\" + 0.021*\"denver\" + 0.020*\"smackdown\" + 0.015*\"show\" + 0.015*\"10\" + 0.015*\"raw\" + 0.013*\"week\" + 0.012*\"oct\" + 0.011*\"hell\" + 0.011*\"pm\" + 0.011*\"cell\" + 0.011*\"tonight\" + 0.010*\"new\" + 0.009*\"place\" + 0.009*\"night\" + 0.008*\"match\" + 0.008*\"mcmahon\" + 0.007*\"monday\" + 0.007*\"owens\" + 0.007*\"colorado\" + 0.007*\"results\" + 0.007*\"shane\" + 0.006*\"bob\" + 0.006*\"announced\" + 0.006*\"episode\"'),\n",
       " (10,\n",
       "  u'0.084*\"pepsi\" + 0.037*\"coke\" + 0.033*\"pizza\" + 0.020*\"decision\" + 0.016*\"fact\" + 0.014*\"cut\" + 0.013*\"page\" + 0.013*\"changed\" + 0.013*\"pre\" + 0.012*\"posted\" + 0.012*\"drink\" + 0.012*\"facebook\" + 0.011*\"get\" + 0.011*\"ad\" + 0.011*\"dominos\" + 0.010*\"coupon\" + 0.010*\"choice\" + 0.009*\"good\" + 0.009*\"selection\" + 0.009*\"quality\" + 0.009*\"quite\" + 0.009*\"sickens\" + 0.009*\"disappoints\" + 0.009*\"taken\" + 0.008*\"much\" + 0.008*\"tell\" + 0.008*\"whoever\" + 0.008*\"fired\" + 0.008*\"needs\" + 0.008*\"understand\"'),\n",
       " (11,\n",
       "  u'0.066*\"water\" + 0.057*\"topo\" + 0.054*\"chico\" + 0.038*\"cola\" + 0.037*\"coca\" + 0.031*\"brand\" + 0.030*\"sparkling\" + 0.020*\"mexico\" + 0.019*\"coke\" + 0.018*\"bottled\" + 0.017*\"brands\" + 0.012*\"emerging\" + 0.010*\"mineral\" + 0.010*\"premium\" + 0.010*\"unit\" + 0.009*\"mexican\" + 0.008*\"venturing\" + 0.007*\"texas\" + 0.007*\"company\" + 0.007*\"says\" + 0.007*\"veb\" + 0.007*\"hughes\" + 0.006*\"deal\" + 0.006*\"acquisition\" + 0.006*\"imported\" + 0.005*\"growing\" + 0.005*\"america\" + 0.005*\"dasani\" + 0.005*\"continue\" + 0.005*\"first\"'),\n",
       " (12,\n",
       "  u'0.021*\"pepsi\" + 0.016*\"nfl\" + 0.016*\"quaker\" + 0.011*\"boycott\" + 0.010*\"organization\" + 0.010*\"relief\" + 0.010*\"vintage\" + 0.009*\"microsoft\" + 0.009*\"red\" + 0.009*\"puerto\" + 0.009*\"company\" + 0.009*\"sponsors\" + 0.009*\"america\" + 0.008*\"soup\" + 0.008*\"companies\" + 0.008*\"busch\" + 0.008*\"gamble\" + 0.008*\"million\" + 0.008*\"oats\" + 0.008*\"anheuser\" + 0.008*\"procter\" + 0.008*\"rico\" + 0.007*\"supporting\" + 0.007*\"cross\" + 0.007*\"john\" + 0.006*\"disaster\" + 0.006*\"hurricane\" + 0.006*\"insurance\" + 0.006*\"verizon\" + 0.006*\"maria\"'),\n",
       " (13,\n",
       "  u'0.022*\"north\" + 0.021*\"sales\" + 0.021*\"third\" + 0.018*\"percent\" + 0.017*\"beverage\" + 0.017*\"business\" + 0.015*\"pepsi\" + 0.014*\"equifax\" + 0.014*\"quarter\" + 0.013*\"america\" + 0.013*\"said\" + 0.013*\"company\" + 0.012*\"hearing\" + 0.012*\"report\" + 0.011*\"earnings\" + 0.011*\"billion\" + 0.010*\"alabama\" + 0.009*\"revenue\" + 0.009*\"jobs\" + 0.009*\"google\" + 0.009*\"wednesday\" + 0.009*\"shift\" + 0.008*\"drop\" + 0.008*\"weak\" + 0.008*\"costs\" + 0.008*\"frito\" + 0.008*\"lay\" + 0.008*\"chairman\" + 0.007*\"first\" + 0.007*\"sodas\"'),\n",
       " (14,\n",
       "  u'0.067*\"kendall\" + 0.064*\"pepsi\" + 0.048*\"jenner\" + 0.042*\"ad\" + 0.029*\"commercial\" + 0.014*\"backlash\" + 0.012*\"kardashians\" + 0.011*\"keeping\" + 0.010*\"people\" + 0.009*\"black\" + 0.008*\"stupid\" + 0.008*\"felt\" + 0.008*\"premiere\" + 0.008*\"controversial\" + 0.008*\"controversy\" + 0.007*\"lives\" + 0.007*\"matter\" + 0.006*\"police\" + 0.006*\"year\" + 0.006*\"april\" + 0.006*\"pulled\" + 0.005*\"model\" + 0.005*\"kim\" + 0.005*\"said\" + 0.005*\"really\" + 0.005*\"season\" + 0.005*\"kardashian\" + 0.005*\"finally\" + 0.005*\"reality\" + 0.005*\"cries\"'),\n",
       " (15,\n",
       "  u'0.021*\"mississippi\" + 0.014*\"charlotte\" + 0.014*\"race\" + 0.011*\"cola\" + 0.011*\"coca\" + 0.008*\"39\" + 0.008*\"three\" + 0.008*\"first\" + 0.008*\"600\" + 0.008*\"nascar\" + 0.007*\"years\" + 0.007*\"21\" + 0.007*\"five\" + 0.007*\"commemorative\" + 0.007*\"last\" + 0.007*\"exclusive\" + 0.007*\"500\" + 0.006*\"bicentennial\" + 0.006*\"may\" + 0.006*\"cup\" + 0.006*\"closing\" + 0.006*\"series\" + 0.006*\"grand\" + 0.006*\"year\" + 0.005*\"led\" + 0.005*\"two\" + 0.005*\"season\" + 0.005*\"round\" + 0.005*\"points\" + 0.005*\"top\"'),\n",
       " (16,\n",
       "  u'0.026*\"sugar\" + 0.026*\"coke\" + 0.023*\"pepsi\" + 0.016*\"negros\" + 0.014*\"cola\" + 0.013*\"check\" + 0.012*\"planters\" + 0.011*\"claimed\" + 0.010*\"blocking\" + 0.010*\"sp\" + 0.010*\"coca\" + 0.010*\"blade\" + 0.010*\"runner\" + 0.010*\"also\" + 0.009*\"bacolod\" + 0.008*\"company\" + 0.008*\"would\" + 0.008*\"100\" + 0.007*\"proven\" + 0.007*\"place\" + 0.006*\"operation\" + 0.006*\"offer\" + 0.006*\"cane\" + 0.006*\"explained\" + 0.006*\"waistline\" + 0.006*\"simple\" + 0.006*\"uses\" + 0.005*\"teams\" + 0.005*\"using\" + 0.005*\"curse\"'),\n",
       " (17,\n",
       "  u'0.022*\"companies\" + 0.021*\"said\" + 0.012*\"business\" + 0.011*\"industry\" + 0.011*\"health\" + 0.010*\"market\" + 0.010*\"india\" + 0.009*\"estimates\" + 0.009*\"food\" + 0.008*\"officials\" + 0.007*\"told\" + 0.007*\"call\" + 0.007*\"provide\" + 0.007*\"control\" + 0.006*\"today\" + 0.006*\"tearful\" + 0.006*\"us\" + 0.006*\"success\" + 0.006*\"detailed\" + 0.006*\"needed\" + 0.006*\"big\" + 0.006*\"like\" + 0.006*\"chain\" + 0.006*\"including\" + 0.005*\"demand\" + 0.005*\"global\" + 0.005*\"products\" + 0.005*\"launched\" + 0.005*\"strategic\" + 0.005*\"country\"'),\n",
       " (18,\n",
       "  u'0.032*\"cola\" + 0.031*\"coca\" + 0.021*\"mobile\" + 0.018*\"restaurant\" + 0.016*\"ketchup\" + 0.012*\"phones\" + 0.011*\"french\" + 0.010*\"instead\" + 0.010*\"phone\" + 0.009*\"30\" + 0.009*\"banned\" + 0.008*\"france\" + 0.008*\"local\" + 0.008*\"bans\" + 0.008*\"bath\" + 0.008*\"table\" + 0.008*\"early\" + 0.007*\"50m\" + 0.007*\"3rd\" + 0.007*\"directed\" + 0.007*\"southern\" + 0.007*\"time\" + 0.006*\"blamed\" + 0.006*\"use\" + 0.006*\"largely\" + 0.006*\"yellow\" + 0.006*\"full\" + 0.006*\"dinner\" + 0.006*\"get\" + 0.006*\"material\"'),\n",
       " (19,\n",
       "  u'0.073*\"content\" + 0.063*\"post\" + 0.057*\"f_branding_on\" + 0.056*\"group\" + 0.028*\"pullquote\" + 0.023*\"first\" + 0.015*\"pullquote__helper\" + 0.014*\"pepper\" + 0.013*\"dr\" + 0.013*\"website\" + 0.012*\"deadspin\" + 0.011*\"type\" + 0.010*\"f_branding_fusion_on\" + 0.010*\"collaboration\" + 0.009*\"last\" + 0.009*\"discovered\" + 0.008*\"hover\" + 0.008*\"appeared\" + 0.007*\"fewer\" + 0.007*\"lgbti\" + 0.007*\"author\" + 0.006*\"data\" + 0.006*\"free\" + 0.006*\"f_branding_deadspin_on\" + 0.006*\"branded\" + 0.006*\"human\" + 0.006*\"light\" + 0.006*\"image\" + 0.005*\"rights\" + 0.005*\"svg\"'),\n",
       " (20,\n",
       "  u'0.026*\"00\" + 0.024*\"buy\" + 0.023*\"rating\" + 0.023*\"cola\" + 0.022*\"coca\" + 0.019*\"price\" + 0.017*\"hold\" + 0.016*\"10\" + 0.015*\"analysts\" + 0.013*\"oz\" + 0.013*\"stock\" + 0.012*\"thursday\" + 0.011*\"eps\" + 0.011*\"target\" + 0.010*\"12\" + 0.010*\"15\" + 0.010*\"de\" + 0.010*\"56\" + 0.009*\"2017\" + 0.008*\"markets\" + 0.008*\"17\" + 0.007*\"insider\" + 0.007*\"value\" + 0.007*\"19\" + 0.006*\"friday\" + 0.006*\"research\" + 0.006*\"week\" + 0.006*\"products\" + 0.006*\"average\" + 0.006*\"48\"'),\n",
       " (21,\n",
       "  u'0.025*\"country\" + 0.024*\"music\" + 0.021*\"vegas\" + 0.020*\"seem\" + 0.018*\"one\" + 0.018*\"cola\" + 0.017*\"love\" + 0.017*\"human\" + 0.017*\"get\" + 0.017*\"shooting\" + 0.017*\"fan\" + 0.016*\"coca\" + 0.015*\"different\" + 0.015*\"continue\" + 0.015*\"georgia\" + 0.015*\"race\" + 0.014*\"las\" + 0.014*\"make\" + 0.014*\"well\" + 0.014*\"fans\" + 0.014*\"way\" + 0.013*\"football\" + 0.013*\"scene\" + 0.013*\"stars\" + 0.013*\"team\" + 0.013*\"moved\" + 0.012*\"put\" + 0.012*\"biggest\" + 0.012*\"beyond\" + 0.011*\"subject\"'),\n",
       " (22,\n",
       "  u'0.025*\"cola\" + 0.022*\"coca\" + 0.010*\"people\" + 0.010*\"coke\" + 0.009*\"many\" + 0.009*\"brand\" + 0.009*\"product\" + 0.008*\"sugar\" + 0.008*\"festival\" + 0.008*\"drinks\" + 0.008*\"law\" + 0.007*\"organic\" + 0.007*\"santa\" + 0.007*\"products\" + 0.006*\"make\" + 0.006*\"start\" + 0.006*\"tax\" + 0.006*\"brands\" + 0.006*\"mcdonald\" + 0.006*\"also\" + 0.006*\"years\" + 0.005*\"sugary\" + 0.005*\"000\" + 0.005*\"food\" + 0.005*\"church\" + 0.005*\"daily\" + 0.005*\"companies\" + 0.005*\"claim\" + 0.005*\"city\" + 0.005*\"pop\"'),\n",
       " (23,\n",
       "  u'0.089*\"plastic\" + 0.081*\"bottles\" + 0.042*\"coca\" + 0.042*\"cola\" + 0.036*\"year\" + 0.032*\"production\" + 0.029*\"greenpeace\" + 0.025*\"billion\" + 0.020*\"single\" + 0.019*\"use\" + 0.017*\"last\" + 0.014*\"increased\" + 0.014*\"produced\" + 0.014*\"coke\" + 0.014*\"increase\" + 0.013*\"bottle\" + 0.013*\"oceans\" + 0.011*\"says\" + 0.011*\"puts\" + 0.010*\"110bn\" + 0.010*\"would\" + 0.007*\"growing\" + 0.007*\"every\" + 0.007*\"pollution\" + 0.006*\"said\" + 0.006*\"responsibility\" + 0.006*\"throwaway\" + 0.006*\"recycled\" + 0.006*\"crisis\" + 0.006*\"uk\"'),\n",
       " (24,\n",
       "  u'0.019*\"watch\" + 0.017*\"coca\" + 0.017*\"cola\" + 0.012*\"back\" + 0.011*\"two\" + 0.010*\"christmas\" + 0.009*\"happy\" + 0.008*\"groups\" + 0.007*\"clear\" + 0.007*\"used\" + 0.006*\"eat\" + 0.006*\"determine\" + 0.006*\"half\" + 0.006*\"tried\" + 0.006*\"could\" + 0.006*\"year\" + 0.006*\"1982\" + 0.005*\"lights\" + 0.005*\"london\" + 0.005*\"truck\" + 0.005*\"bring\" + 0.005*\"lose\" + 0.005*\"lake\" + 0.005*\"tax\" + 0.005*\"even\" + 0.005*\"11\" + 0.005*\"mr\" + 0.005*\"kombi\" + 0.004*\"van\" + 0.004*\"originally\"'),\n",
       " (25,\n",
       "  u'0.037*\"share\" + 0.017*\"pinterest\" + 0.011*\"facebook\" + 0.010*\"political\" + 0.010*\"former\" + 0.009*\"super\" + 0.009*\"bowl\" + 0.008*\"acid\" + 0.008*\"link\" + 0.008*\"president\" + 0.007*\"sponsored\" + 0.007*\"wrote\" + 0.007*\"cummings\" + 0.007*\"central\" + 0.007*\"candidates\" + 0.006*\"dollar\" + 0.006*\"taylor\" + 0.006*\"email\" + 0.006*\"trump\" + 0.006*\"boakai\" + 0.006*\"head\" + 0.006*\"brumskine\" + 0.006*\"presidential\" + 0.006*\"video\" + 0.006*\"liberia\" + 0.006*\"waitress\" + 0.005*\"videos\" + 0.005*\"man\" + 0.005*\"hate\" + 0.005*\"turned\"'),\n",
       " (26,\n",
       "  u'0.038*\"cola\" + 0.037*\"coca\" + 0.028*\"chico\" + 0.028*\"topo\" + 0.026*\"columbus\" + 0.022*\"texas\" + 0.016*\"rights\" + 0.016*\"gmt\" + 0.015*\"water\" + 0.015*\"favorite\" + 0.013*\"rolex\" + 0.013*\"news\" + 0.011*\"brand\" + 0.010*\"morning\" + 0.009*\"mineral\" + 0.009*\"add\" + 0.009*\"million\" + 0.009*\"stable\" + 0.009*\"original\" + 0.009*\"owns\" + 0.008*\"buys\" + 0.008*\"pepsi\" + 0.008*\"atlanta\" + 0.008*\"master\" + 0.008*\"announced\" + 0.008*\"eater\" + 0.007*\"220\" + 0.007*\"convinced\" + 0.007*\"wfaa\" + 0.007*\"watch\"'),\n",
       " (27,\n",
       "  u'0.017*\"star\" + 0.016*\"endorsement\" + 0.015*\"2004\" + 0.015*\"vending\" + 0.014*\"dropped\" + 0.014*\"case\" + 0.014*\"deal\" + 0.014*\"lost\" + 0.014*\"admitting\" + 0.013*\"machine\" + 0.013*\"eventually\" + 0.013*\"lakers\" + 0.012*\"cola\" + 0.012*\"coca\" + 0.011*\"player\" + 0.010*\"machines\" + 0.010*\"made\" + 0.010*\"deals\" + 0.009*\"company\" + 0.009*\"president\" + 0.009*\"court\" + 0.008*\"1997\" + 0.008*\"apology\" + 0.008*\"mcdonald\" + 0.008*\"john\" + 0.008*\"short\" + 0.008*\"george\" + 0.008*\"advertising\" + 0.008*\"celebrities\" + 0.008*\"september\"'),\n",
       " (28,\n",
       "  u'0.023*\"2013\" + 0.018*\"rapper\" + 0.014*\"contract\" + 0.013*\"also\" + 0.013*\"lost\" + 0.012*\"drug\" + 0.012*\"endorsement\" + 0.012*\"song\" + 0.012*\"without\" + 0.011*\"pepsi\" + 0.011*\"two\" + 0.009*\"may\" + 0.009*\"corn\" + 0.009*\"food\" + 0.008*\"deal\" + 0.008*\"games\" + 0.008*\"dropped\" + 0.008*\"hopeless\" + 0.008*\"described\" + 0.008*\"deals\" + 0.008*\"worth\" + 0.008*\"policy\" + 0.008*\"tab\" + 0.008*\"nearly\" + 0.007*\"wayne\" + 0.007*\"pay\" + 0.007*\"split\" + 0.007*\"major\" + 0.007*\"reportedly\" + 0.007*\"creative\"'),\n",
       " (29,\n",
       "  u'0.028*\"year\" + 0.020*\"growth\" + 0.017*\"schweppes\" + 0.016*\"company\" + 0.015*\"earnings\" + 0.014*\"per\" + 0.012*\"pepsi\" + 0.011*\"share\" + 0.011*\"market\" + 0.010*\"consolidated\" + 0.010*\"femsa\" + 0.010*\"stock\" + 0.010*\"quarter\" + 0.009*\"revenue\" + 0.009*\"portfolio\" + 0.009*\"new\" + 0.008*\"sales\" + 0.008*\"profits\" + 0.007*\"also\" + 0.007*\"last\" + 0.007*\"pep\" + 0.007*\"16\" + 0.007*\"2017\" + 0.007*\"investors\" + 0.007*\"strong\" + 0.007*\"operating\" + 0.006*\"stocks\" + 0.006*\"top\" + 0.006*\"billion\" + 0.006*\"investment\"'),\n",
       " (30,\n",
       "  u'0.039*\"marketing\" + 0.023*\"2016\" + 0.018*\"awards\" + 0.017*\"advan\" + 0.017*\"students\" + 0.016*\"nigeria\" + 0.013*\"industry\" + 0.012*\"cancer\" + 0.011*\"excellence\" + 0.011*\"event\" + 0.010*\"weekend\" + 0.010*\"last\" + 0.010*\"new\" + 0.010*\"unique\" + 0.010*\"major\" + 0.010*\"account\" + 0.009*\"education\" + 0.009*\"african\" + 0.009*\"association\" + 0.009*\"creative\" + 0.009*\"delta\" + 0.009*\"game\" + 0.009*\"november\" + 0.009*\"come\" + 0.009*\"director\" + 0.009*\"client\" + 0.009*\"young\" + 0.009*\"state\" + 0.008*\"faster\" + 0.008*\"rolled\"'),\n",
       " (31,\n",
       "  u'0.035*\"blog\" + 0.026*\"center\" + 0.021*\"today\" + 0.020*\"sports\" + 0.019*\"period\" + 0.019*\"usa\" + 0.017*\"editor\" + 0.014*\"inner\" + 0.012*\"child\" + 0.012*\"st\" + 0.011*\"avalanche\" + 0.011*\"right\" + 0.011*\"wing\" + 0.011*\"suzuki\" + 0.010*\"arena\" + 0.009*\"wild\" + 0.009*\"helps\" + 0.009*\"pepsi\" + 0.009*\"game\" + 0.009*\"colorado\" + 0.009*\"canada\" + 0.008*\"goal\" + 0.008*\"fullscreen\" + 0.007*\"third\" + 0.007*\"defends\" + 0.007*\"nick\" + 0.007*\"goalie\" + 0.007*\"lightning\" + 0.007*\"steve\" + 0.006*\"bay\"'),\n",
       " (32,\n",
       "  u'0.019*\"social\" + 0.019*\"media\" + 0.017*\"agency\" + 0.012*\"sports\" + 0.011*\"senior\" + 0.010*\"africa\" + 0.008*\"clients\" + 0.008*\"manufacturing\" + 0.008*\"football\" + 0.008*\"cover\" + 0.008*\"brand\" + 0.008*\"cola\" + 0.007*\"coca\" + 0.007*\"event\" + 0.007*\"south\" + 0.006*\"also\" + 0.006*\"world\" + 0.006*\"services\" + 0.006*\"sustainability\" + 0.006*\"kairos\" + 0.005*\"including\" + 0.005*\"several\" + 0.005*\"year\" + 0.005*\"annual\" + 0.005*\"new\" + 0.005*\"large\" + 0.005*\"carried\" + 0.005*\"positions\" + 0.005*\"include\" + 0.005*\"years\"'),\n",
       " (33,\n",
       "  u'0.012*\"business\" + 0.011*\"college\" + 0.011*\"leadership\" + 0.010*\"reduced\" + 0.010*\"company\" + 0.009*\"000\" + 0.008*\"mr\" + 0.008*\"financial\" + 0.008*\"companies\" + 0.008*\"points\" + 0.008*\"service\" + 0.008*\"ftse\" + 0.007*\"world\" + 0.007*\"program\" + 0.007*\"items\" + 0.007*\"supply\" + 0.007*\"shares\" + 0.007*\"changes\" + 0.006*\"solutions\" + 0.006*\"mid\" + 0.006*\"operations\" + 0.006*\"dies\" + 0.006*\"100\" + 0.006*\"tuesday\" + 0.006*\"following\" + 0.006*\"results\" + 0.006*\"2017\" + 0.006*\"new\" + 0.006*\"end\" + 0.006*\"poll\"'),\n",
       " (34,\n",
       "  u'0.015*\"long\" + 0.015*\"like\" + 0.014*\"marvel\" + 0.014*\"battle\" + 0.014*\"would\" + 0.013*\"dc\" + 0.013*\"one\" + 0.011*\"pepsi\" + 0.011*\"could\" + 0.010*\"proud\" + 0.010*\"years\" + 0.009*\"stores\" + 0.009*\"types\" + 0.009*\"jars\" + 0.009*\"turkey\" + 0.009*\"highly\" + 0.008*\"first\" + 0.008*\"coke\" + 0.008*\"camp\" + 0.008*\"grocery\" + 0.007*\"big\" + 0.007*\"dominance\" + 0.007*\"screen\" + 0.007*\"calls\" + 0.007*\"supremacy\" + 0.007*\"review\" + 0.007*\"book\" + 0.007*\"candy\" + 0.007*\"shops\" + 0.007*\"decades\"'),\n",
       " (35,\n",
       "  u'0.015*\"astros\" + 0.010*\"bottom\" + 0.008*\"winning\" + 0.008*\"help\" + 0.008*\"photos\" + 0.008*\"series\" + 0.008*\"game\" + 0.008*\"red\" + 0.008*\"fans\" + 0.007*\"exciting\" + 0.007*\"also\" + 0.007*\"sox\" + 0.007*\"win\" + 0.007*\"schools\" + 0.007*\"along\" + 0.007*\"packs\" + 0.007*\"heavy\" + 0.006*\"city\" + 0.006*\"organizations\" + 0.006*\"vehicles\" + 0.006*\"winner\" + 0.006*\"enjoying\" + 0.006*\"orange\" + 0.006*\"face\" + 0.006*\"world\" + 0.006*\"write\" + 0.006*\"lucky\" + 0.006*\"houston\" + 0.006*\"games\" + 0.006*\"championship\"'),\n",
       " (36,\n",
       "  u'0.075*\"cola\" + 0.073*\"coca\" + 0.060*\"united\" + 0.025*\"company\" + 0.022*\"new\" + 0.022*\"bottling\" + 0.018*\"states\" + 0.014*\"customers\" + 0.014*\"said\" + 0.014*\"distribution\" + 0.013*\"serving\" + 0.013*\"territory\" + 0.012*\"community\" + 0.012*\"associates\" + 0.011*\"sales\" + 0.009*\"facility\" + 0.009*\"serve\" + 0.009*\"million\" + 0.009*\"10\" + 0.009*\"acquires\" + 0.008*\"000\" + 0.008*\"across\" + 0.008*\"part\" + 0.008*\"100\" + 0.008*\"customer\" + 0.007*\"acquired\" + 0.007*\"center\" + 0.007*\"work\" + 0.007*\"local\" + 0.007*\"four\"'),\n",
       " (37,\n",
       "  u'0.058*\"pepsico\" + 0.038*\"pepsi\" + 0.030*\"file\" + 0.025*\"sales\" + 0.023*\"photo\" + 0.023*\"2017\" + 0.019*\"wednesday\" + 0.016*\"inc\" + 0.015*\"healthy\" + 0.015*\"ap\" + 0.014*\"earnings\" + 0.013*\"sale\" + 0.013*\"dew\" + 0.013*\"mountain\" + 0.013*\"profit\" + 0.012*\"oct\" + 0.012*\"3q\" + 0.012*\"2015\" + 0.012*\"reports\" + 0.012*\"company\" + 0.011*\"quarter\" + 0.011*\"mass\" + 0.011*\"drinks\" + 0.011*\"bottles\" + 0.011*\"july\" + 0.010*\"display\" + 0.010*\"much\" + 0.010*\"purchase\" + 0.010*\"04\" + 0.010*\"supermarket\"'),\n",
       " (38,\n",
       "  u'0.060*\"pepsi\" + 0.033*\"would\" + 0.027*\"like\" + 0.019*\"never\" + 0.015*\"first\" + 0.014*\"ok\" + 0.014*\"show\" + 0.013*\"knew\" + 0.013*\"got\" + 0.012*\"decisions\" + 0.012*\"huge\" + 0.011*\"something\" + 0.011*\"came\" + 0.009*\"forget\" + 0.009*\"done\" + 0.009*\"gonna\" + 0.009*\"hour\" + 0.008*\"know\" + 0.008*\"felt\" + 0.007*\"commercials\" + 0.007*\"mean\" + 0.007*\"ever\" + 0.007*\"entire\" + 0.007*\"time\" + 0.007*\"moving\" + 0.006*\"said\" + 0.006*\"obviously\" + 0.006*\"chicago\" + 0.006*\"iconic\" + 0.006*\"appeared\"'),\n",
       " (39,\n",
       "  u'0.056*\"coca\" + 0.054*\"cola\" + 0.038*\"ko\" + 0.034*\"co\" + 0.023*\"shares\" + 0.019*\"18\" + 0.019*\"nyse\" + 0.015*\"million\" + 0.013*\"capital\" + 0.012*\"inc\" + 0.011*\"point\" + 0.011*\"high\" + 0.011*\"stake\" + 0.010*\"16\" + 0.009*\"bank\" + 0.009*\"110\" + 0.009*\"stock\" + 0.008*\"increased\" + 0.008*\"observer\" + 0.007*\"award\" + 0.007*\"reported\" + 0.007*\"popularity\" + 0.007*\"47\" + 0.007*\"2017\" + 0.007*\"management\" + 0.007*\"holdings\" + 0.006*\"06\" + 0.006*\"design\" + 0.006*\"ltd\" + 0.006*\"dst\"'),\n",
       " (40,\n",
       "  u'0.016*\"pack\" + 0.015*\"life\" + 0.013*\"votes\" + 0.012*\"esports\" + 0.012*\"tv\" + 0.012*\"best\" + 0.011*\"season\" + 0.010*\"family\" + 0.010*\"time\" + 0.010*\"fashion\" + 0.009*\"mildenhall\" + 0.008*\"parts\" + 0.007*\"les\" + 0.007*\"airbnb\" + 0.007*\"back\" + 0.006*\"career\" + 0.006*\"reporters\" + 0.006*\"job\" + 0.006*\"cleveland\" + 0.006*\"home\" + 0.006*\"promotion\" + 0.006*\"first\" + 0.006*\"david\" + 0.006*\"la\" + 0.006*\"security\" + 0.005*\"three\" + 0.005*\"arby\" + 0.005*\"junior\" + 0.005*\"solid\" + 0.005*\"increasingly\"'),\n",
       " (41,\n",
       "  u'0.032*\"buffett\" + 0.030*\"cola\" + 0.029*\"coca\" + 0.013*\"said\" + 0.012*\"warren\" + 0.009*\"copa\" + 0.008*\"team\" + 0.008*\"girls\" + 0.007*\"development\" + 0.006*\"business\" + 0.006*\"taking\" + 0.006*\"high\" + 0.006*\"one\" + 0.006*\"five\" + 0.006*\"would\" + 0.006*\"take\" + 0.006*\"like\" + 0.005*\"american\" + 0.005*\"says\" + 0.005*\"remain\" + 0.005*\"fortune\" + 0.005*\"marketing\" + 0.005*\"football\" + 0.005*\"cup\" + 0.005*\"global\" + 0.005*\"part\" + 0.005*\"talent\" + 0.005*\"less\" + 0.004*\"tournament\" + 0.004*\"youth\"'),\n",
       " (42,\n",
       "  u'0.026*\"cola\" + 0.022*\"coca\" + 0.017*\"yum\" + 0.017*\"mine\" + 0.015*\"used\" + 0.015*\"consider\" + 0.013*\"hotel\" + 0.013*\"fudgesickles\" + 0.013*\"cased\" + 0.011*\"room\" + 0.009*\"day\" + 0.008*\"pepsi\" + 0.007*\"wars\" + 0.007*\"like\" + 0.006*\"fall\" + 0.006*\"alone\" + 0.006*\"cheap\" + 0.006*\"challenge\" + 0.006*\"jordan\" + 0.006*\"seeing\" + 0.006*\"shop\" + 0.006*\"strike\" + 0.006*\"1983\" + 0.005*\"run\" + 0.005*\"eric\" + 0.005*\"series\" + 0.005*\"doctor\" + 0.005*\"collective\" + 0.005*\"staff\" + 0.005*\"country\"'),\n",
       " (43,\n",
       "  u'0.124*\"cola\" + 0.120*\"coca\" + 0.040*\"company\" + 0.018*\"drinks\" + 0.017*\"new\" + 0.017*\"beverage\" + 0.016*\"drink\" + 0.014*\"beverages\" + 0.012*\"soda\" + 0.011*\"coke\" + 0.011*\"consumers\" + 0.010*\"soft\" + 0.009*\"bottle\" + 0.008*\"glass\" + 0.008*\"brands\" + 0.008*\"sales\" + 0.008*\"tea\" + 0.008*\"brand\" + 0.008*\"non\" + 0.007*\"long\" + 0.007*\"produces\" + 0.006*\"carbonated\" + 0.006*\"world\" + 0.006*\"one\" + 0.006*\"calorie\" + 0.006*\"launched\" + 0.005*\"launch\" + 0.005*\"product\" + 0.005*\"available\" + 0.004*\"sprite\"'),\n",
       " (44,\n",
       "  u'0.021*\"weaker\" + 0.019*\"mixed\" + 0.018*\"expected\" + 0.015*\"stocks\" + 0.014*\"start\" + 0.013*\"percent\" + 0.013*\"markets\" + 0.012*\"coca\" + 0.012*\"sale\" + 0.012*\"cola\" + 0.012*\"cent\" + 0.012*\"retailers\" + 0.011*\"forecast\" + 0.010*\"gains\" + 0.009*\"grill\" + 0.009*\"right\" + 0.009*\"presented\" + 0.009*\"oza\" + 0.009*\"new\" + 0.009*\"justin\" + 0.009*\"early\" + 0.009*\"latest\" + 0.009*\"billion\" + 0.008*\"milk\" + 0.008*\"reported\" + 0.008*\"office\" + 0.008*\"life\" + 0.008*\"financial\" + 0.008*\"hollywood\" + 0.008*\"buy\"'),\n",
       " (45,\n",
       "  u'0.025*\"eat\" + 0.011*\"board\" + 0.009*\"filled\" + 0.009*\"pepsi\" + 0.009*\"food\" + 0.009*\"bacon\" + 0.008*\"dog\" + 0.008*\"big\" + 0.008*\"uber\" + 0.006*\"mcdonalds\" + 0.006*\"human\" + 0.006*\"hole\" + 0.006*\"fat\" + 0.006*\"clout\" + 0.006*\"reduces\" + 0.006*\"etc\" + 0.005*\"birthday\" + 0.005*\"coastal\" + 0.005*\"trending\" + 0.005*\"also\" + 0.005*\"west\" + 0.004*\"eclectic\" + 0.004*\"chili\" + 0.004*\"israeli\" + 0.004*\"using\" + 0.004*\"theatre\" + 0.004*\"ford\" + 0.004*\"surprise\" + 0.004*\"mccann\" + 0.004*\"shreveport\"'),\n",
       " (46,\n",
       "  u'0.039*\"sugar\" + 0.028*\"zero\" + 0.025*\"calorie\" + 0.016*\"pushing\" + 0.016*\"snack\" + 0.013*\"cola\" + 0.013*\"coca\" + 0.013*\"game\" + 0.012*\"coke\" + 0.011*\"walk\" + 0.010*\"tastes\" + 0.007*\"another\" + 0.007*\"name\" + 0.007*\"real\" + 0.007*\"chicken\" + 0.007*\"cars\" + 0.006*\"company\" + 0.006*\"baked\" + 0.006*\"would\" + 0.006*\"recipe\" + 0.006*\"165\" + 0.006*\"experience\" + 0.005*\"tasting\" + 0.005*\"time\" + 0.005*\"future\" + 0.005*\"workers\" + 0.005*\"corporate\" + 0.005*\"credit\" + 0.005*\"many\" + 0.005*\"salt\"'),\n",
       " (47,\n",
       "  u'0.041*\"2016\" + 0.032*\"packaging\" + 0.030*\"2015\" + 0.023*\"analysis\" + 0.023*\"company\" + 0.019*\"billion\" + 0.017*\"according\" + 0.017*\"pet\" + 0.017*\"group\" + 0.016*\"coca\" + 0.016*\"campaign\" + 0.015*\"cola\" + 0.015*\"drinks\" + 0.014*\"global\" + 0.014*\"soft\" + 0.012*\"market\" + 0.012*\"say\" + 0.012*\"much\" + 0.012*\"well\" + 0.012*\"increases\" + 0.011*\"recycling\" + 0.011*\"reveals\" + 0.010*\"months\" + 0.009*\"12\" + 0.009*\"compared\" + 0.009*\"found\" + 0.009*\"sold\" + 0.008*\"59\" + 0.008*\"world\" + 0.007*\"made\"'),\n",
       " (48,\n",
       "  u'0.021*\"juice\" + 0.016*\"apple\" + 0.015*\"minute\" + 0.011*\"wine\" + 0.011*\"ordered\" + 0.011*\"cola\" + 0.011*\"maid\" + 0.010*\"coca\" + 0.009*\"food\" + 0.009*\"orange\" + 0.008*\"tacos\" + 0.007*\"kids\" + 0.007*\"pool\" + 0.007*\"one\" + 0.007*\"want\" + 0.007*\"del\" + 0.007*\"requested\" + 0.007*\"ford\" + 0.007*\"taco\" + 0.007*\"class\" + 0.007*\"location\" + 0.006*\"like\" + 0.006*\"flavor\" + 0.006*\"white\" + 0.006*\"drive\" + 0.006*\"hand\" + 0.006*\"masters\" + 0.006*\"clean\" + 0.006*\"crawford\" + 0.005*\"offers\"'),\n",
       " (49,\n",
       "  u'0.015*\"site\" + 0.012*\"yesterday\" + 0.012*\"trouble\" + 0.011*\"company\" + 0.010*\"wilson\" + 0.010*\"lovers\" + 0.010*\"crystal\" + 0.010*\"firms\" + 0.009*\"economic\" + 0.008*\"express\" + 0.008*\"university\" + 0.008*\"outrage\" + 0.008*\"change\" + 0.008*\"maker\" + 0.008*\"500\" + 0.007*\"domino\" + 0.007*\"disgust\" + 0.007*\"5pm\" + 0.007*\"liam\" + 0.007*\"abvout\" + 0.007*\"development\" + 0.007*\"et\" + 0.007*\"thoughts\" + 0.007*\"customers\" + 0.007*\"kenya\" + 0.006*\"beat\" + 0.006*\"projects\" + 0.006*\"selectors\" + 0.006*\"open\" + 0.006*\"10\"')]"
      ]
     },
     "execution_count": 19,
     "metadata": {},
     "output_type": "execute_result"
    }
   ],
   "source": [
    "model.print_topics(50,num_words=30)"
   ]
  },
  {
   "cell_type": "markdown",
   "metadata": {},
   "source": [
    "### Word Cloud generator"
   ]
  },
  {
   "cell_type": "code",
   "execution_count": 26,
   "metadata": {
    "collapsed": false
   },
   "outputs": [],
   "source": [
    "from wordcloud import WordCloud\n",
    "import matplotlib.pyplot as plt"
   ]
  },
  {
   "cell_type": "code",
   "execution_count": 36,
   "metadata": {
    "collapsed": false
   },
   "outputs": [
    {
     "data": {
      "text/plain": [
       "[(u'site', 0.014983821279120497),\n",
       " (u'yesterday', 0.01183816100439467),\n",
       " (u'trouble', 0.01158937841509413),\n",
       " (u'company', 0.010783458795416936),\n",
       " (u'wilson', 0.0099304134721445152),\n",
       " (u'lovers', 0.0097902670140358299),\n",
       " (u'crystal', 0.0097256937426929233),\n",
       " (u'firms', 0.0096674264838248498),\n",
       " (u'economic', 0.009141099590046501),\n",
       " (u'express', 0.0081357200695404003),\n",
       " (u'university', 0.0081194580955995712),\n",
       " (u'outrage', 0.007993943055520078),\n",
       " (u'change', 0.0077642629174669488),\n",
       " (u'maker', 0.0077629509817032181),\n",
       " (u'500', 0.0076808263194903144),\n",
       " (u'domino', 0.00742928761039853),\n",
       " (u'5pm', 0.0073811407468133061),\n",
       " (u'disgust', 0.0073811407468133061),\n",
       " (u'liam', 0.0073391522786951284),\n",
       " (u'abvout', 0.0073063416609719101)]"
      ]
     },
     "execution_count": 36,
     "metadata": {},
     "output_type": "execute_result"
    }
   ],
   "source": [
    "temp"
   ]
  },
  {
   "cell_type": "code",
   "execution_count": 27,
   "metadata": {
    "collapsed": false
   },
   "outputs": [
    {
     "ename": "ValueError",
     "evalue": "could not convert string to float: years",
     "output_type": "error",
     "traceback": [
      "\u001b[0;31m---------------------------------------------------------------------------\u001b[0m",
      "\u001b[0;31mValueError\u001b[0m                                Traceback (most recent call last)",
      "\u001b[0;32m<ipython-input-27-b1c322d266e8>\u001b[0m in \u001b[0;36m<module>\u001b[0;34m()\u001b[0m\n\u001b[1;32m      2\u001b[0m \u001b[0mtemp\u001b[0m \u001b[0;34m=\u001b[0m \u001b[0mldamodel\u001b[0m\u001b[0;34m.\u001b[0m\u001b[0mshow_topic\u001b[0m\u001b[0;34m(\u001b[0m\u001b[0;36m3\u001b[0m\u001b[0;34m,\u001b[0m \u001b[0;36m50\u001b[0m\u001b[0;34m)\u001b[0m\u001b[0;34m\u001b[0m\u001b[0m\n\u001b[1;32m      3\u001b[0m \u001b[0mtemp\u001b[0m \u001b[0;34m=\u001b[0m \u001b[0mmap\u001b[0m\u001b[0;34m(\u001b[0m\u001b[0;32mlambda\u001b[0m \u001b[0mx\u001b[0m\u001b[0;34m:\u001b[0m \u001b[0mx\u001b[0m\u001b[0;34m[\u001b[0m\u001b[0;34m:\u001b[0m\u001b[0;34m:\u001b[0m\u001b[0;34m-\u001b[0m\u001b[0;36m1\u001b[0m\u001b[0;34m]\u001b[0m\u001b[0;34m,\u001b[0m\u001b[0mtemp\u001b[0m\u001b[0;34m)\u001b[0m\u001b[0;34m\u001b[0m\u001b[0m\n\u001b[0;32m----> 4\u001b[0;31m \u001b[0mplt\u001b[0m\u001b[0;34m.\u001b[0m\u001b[0mimshow\u001b[0m\u001b[0;34m(\u001b[0m\u001b[0mWordCloud\u001b[0m\u001b[0;34m(\u001b[0m\u001b[0;34m)\u001b[0m\u001b[0;34m.\u001b[0m\u001b[0mfit_words\u001b[0m\u001b[0;34m(\u001b[0m\u001b[0mtemp\u001b[0m\u001b[0;34m)\u001b[0m\u001b[0;34m)\u001b[0m\u001b[0;34m\u001b[0m\u001b[0m\n\u001b[0m\u001b[1;32m      5\u001b[0m \u001b[0mplt\u001b[0m\u001b[0;34m.\u001b[0m\u001b[0maxis\u001b[0m\u001b[0;34m(\u001b[0m\u001b[0;34m\"off\"\u001b[0m\u001b[0;34m)\u001b[0m\u001b[0;34m\u001b[0m\u001b[0m\n\u001b[1;32m      6\u001b[0m \u001b[0mplt\u001b[0m\u001b[0;34m.\u001b[0m\u001b[0mtitle\u001b[0m\u001b[0;34m(\u001b[0m\u001b[0;34m\"Topic #\"\u001b[0m \u001b[0;34m+\u001b[0m \u001b[0mstr\u001b[0m\u001b[0;34m(\u001b[0m\u001b[0;36m3\u001b[0m\u001b[0;34m)\u001b[0m\u001b[0;34m)\u001b[0m\u001b[0;34m\u001b[0m\u001b[0m\n",
      "\u001b[0;32m/Users/Taran/anaconda/lib/python2.7/site-packages/wordcloud/wordcloud.pyc\u001b[0m in \u001b[0;36mfit_words\u001b[0;34m(self, frequencies)\u001b[0m\n\u001b[1;32m    250\u001b[0m         \u001b[0mself\u001b[0m\u001b[0;34m\u001b[0m\u001b[0m\n\u001b[1;32m    251\u001b[0m         \"\"\"\n\u001b[0;32m--> 252\u001b[0;31m         \u001b[0;32mreturn\u001b[0m \u001b[0mself\u001b[0m\u001b[0;34m.\u001b[0m\u001b[0mgenerate_from_frequencies\u001b[0m\u001b[0;34m(\u001b[0m\u001b[0mfrequencies\u001b[0m\u001b[0;34m)\u001b[0m\u001b[0;34m\u001b[0m\u001b[0m\n\u001b[0m\u001b[1;32m    253\u001b[0m \u001b[0;34m\u001b[0m\u001b[0m\n\u001b[1;32m    254\u001b[0m     \u001b[0;32mdef\u001b[0m \u001b[0mgenerate_from_frequencies\u001b[0m\u001b[0;34m(\u001b[0m\u001b[0mself\u001b[0m\u001b[0;34m,\u001b[0m \u001b[0mfrequencies\u001b[0m\u001b[0;34m)\u001b[0m\u001b[0;34m:\u001b[0m\u001b[0;34m\u001b[0m\u001b[0m\n",
      "\u001b[0;32m/Users/Taran/anaconda/lib/python2.7/site-packages/wordcloud/wordcloud.pyc\u001b[0m in \u001b[0;36mgenerate_from_frequencies\u001b[0;34m(self, frequencies)\u001b[0m\n\u001b[1;32m    269\u001b[0m         \u001b[0mfrequencies\u001b[0m \u001b[0;34m=\u001b[0m \u001b[0mfrequencies\u001b[0m\u001b[0;34m[\u001b[0m\u001b[0;34m:\u001b[0m\u001b[0mself\u001b[0m\u001b[0;34m.\u001b[0m\u001b[0mmax_words\u001b[0m\u001b[0;34m]\u001b[0m\u001b[0;34m\u001b[0m\u001b[0m\n\u001b[1;32m    270\u001b[0m         \u001b[0;31m# largest entry will be 1\u001b[0m\u001b[0;34m\u001b[0m\u001b[0;34m\u001b[0m\u001b[0m\n\u001b[0;32m--> 271\u001b[0;31m         \u001b[0mmax_frequency\u001b[0m \u001b[0;34m=\u001b[0m \u001b[0mfloat\u001b[0m\u001b[0;34m(\u001b[0m\u001b[0mfrequencies\u001b[0m\u001b[0;34m[\u001b[0m\u001b[0;36m0\u001b[0m\u001b[0;34m]\u001b[0m\u001b[0;34m[\u001b[0m\u001b[0;36m1\u001b[0m\u001b[0;34m]\u001b[0m\u001b[0;34m)\u001b[0m\u001b[0;34m\u001b[0m\u001b[0m\n\u001b[0m\u001b[1;32m    272\u001b[0m \u001b[0;34m\u001b[0m\u001b[0m\n\u001b[1;32m    273\u001b[0m         \u001b[0mfrequencies\u001b[0m \u001b[0;34m=\u001b[0m \u001b[0;34m[\u001b[0m\u001b[0;34m(\u001b[0m\u001b[0mword\u001b[0m\u001b[0;34m,\u001b[0m \u001b[0mfreq\u001b[0m \u001b[0;34m/\u001b[0m \u001b[0mmax_frequency\u001b[0m\u001b[0;34m)\u001b[0m \u001b[0;32mfor\u001b[0m \u001b[0mword\u001b[0m\u001b[0;34m,\u001b[0m \u001b[0mfreq\u001b[0m \u001b[0;32min\u001b[0m \u001b[0mfrequencies\u001b[0m\u001b[0;34m]\u001b[0m\u001b[0;34m\u001b[0m\u001b[0m\n",
      "\u001b[0;31mValueError\u001b[0m: could not convert string to float: years"
     ]
    }
   ],
   "source": [
    "plt.figure()\n",
    "temp = ldamodel.show_topic(3, 50)\n",
    "temp = map(lambda x: x[::-1],temp)\n",
    "plt.imshow(WordCloud().fit_words(temp))\n",
    "plt.axis(\"off\")\n",
    "plt.title(\"Topic #\" + str(3))\n",
    "plt.show()"
   ]
  },
  {
   "cell_type": "code",
   "execution_count": 27,
   "metadata": {
    "collapsed": true
   },
   "outputs": [
    {
     "data": {
      "text/plain": [
       "['0.231*pork + 0.082*pull + 0.059*belli + 0.043*meatbal + 0.023*rotat + 0.022*honey + 0.018*parm + 0.014*southern + 0.014*board + 0.013*casbah + 0.012*brule + 0.011*casa + 0.010*mustard + 0.010*stout + 0.010*salumi + 0.010*alfredo + 0.009*bbq + 0.009*beef + 0.009*adana + 0.008*path + 0.008*pricier + 0.008*wagyu + 0.007*chalk + 0.007*satay + 0.007*micro + 0.007*elbow + 0.007*imo + 0.006*sauc + 0.006*beaten + 0.005*fatti',\n",
       " '0.120*lunch + 0.030*salad + 0.025*sandwich + 0.020*soup + 0.018*quick + 0.017*stop + 0.016*work + 0.015*fresh + 0.015*day + 0.013*chicken + 0.012*today + 0.012*option + 0.011*healthi + 0.011*downtown + 0.010*special + 0.010*worker + 0.009*order + 0.008*look + 0.008*place + 0.008*menu + 0.007*dinner + 0.007*grab + 0.007*side + 0.007*spot + 0.007*cafe + 0.007*fast + 0.007*great + 0.007*wrap + 0.007*co + 0.006*eat',\n",
       " '0.031*food + 0.022*order + 0.021*ask + 0.021*servic + 0.014*never + 0.012*time + 0.012*back + 0.011*manag + 0.011*go + 0.010*said + 0.010*one + 0.010*u + 0.010*waitress + 0.009*server + 0.009*even + 0.009*want + 0.008*would + 0.008*custom + 0.008*bad + 0.008*experi + 0.007*get + 0.006*place + 0.006*came + 0.006*told + 0.006*restaur + 0.006*ever + 0.006*rude + 0.006*could + 0.005*eat + 0.005*terribl',\n",
       " '0.065*thai + 0.044*tea + 0.039*curri + 0.032*spici + 0.031*noodl + 0.021*pad + 0.020*dish + 0.018*order + 0.018*spice + 0.015*chicken + 0.015*pho + 0.014*flavor + 0.014*soup + 0.013*green + 0.013*roll + 0.013*spring + 0.012*level + 0.012*rice + 0.011*good + 0.011*restaur + 0.011*bubbl + 0.009*broth + 0.009*sauc + 0.009*delici + 0.009*tri + 0.008*also + 0.008*ramen + 0.007*basil + 0.007*food + 0.007*bowl',\n",
       " '0.090*buffet + 0.049*indian + 0.034*food + 0.028*chicken + 0.026*wide + 0.023*select + 0.022*dish + 0.015*naan + 0.015*varieti + 0.015*enchilada + 0.014*spice + 0.013*produc + 0.012*west + 0.012*fajita + 0.012*meat + 0.012*verd + 0.011*restaur + 0.011*masala + 0.011*india + 0.010*vegetarian + 0.009*coast + 0.009*east + 0.009*paneer + 0.008*tikka + 0.008*fresh + 0.007*spici + 0.007*frill + 0.006*quantiti + 0.006*tast + 0.006*includ',\n",
       " '0.065*hill + 0.041*penn + 0.037*garden + 0.036*squirrel + 0.031*grit + 0.024*ave + 0.022*avenu + 0.019*boy + 0.018*rais + 0.015*carnivor + 0.014*china + 0.013*test + 0.012*popcorn + 0.012*chalkboard + 0.012*mineo + 0.012*jazz + 0.011*po + 0.011*murray + 0.010*nativ + 0.010*scallion + 0.009*tripl + 0.009*bangkok + 0.009*carnegi + 0.008*amongst + 0.008*fiori + 0.008*grown + 0.007*angel + 0.007*born + 0.007*inclin + 0.007*measur',\n",
       " '0.041*like + 0.020*tast + 0.015*star + 0.015*food + 0.014*place + 0.013*would + 0.013*much + 0.012*better + 0.011*look + 0.011*seem + 0.009*think + 0.008*way + 0.008*feel + 0.008*review + 0.007*could + 0.007*expect + 0.007*one + 0.007*mayb + 0.007*even + 0.007*realli + 0.007*bland + 0.007*bad + 0.007*give + 0.007*restaur + 0.007*thing + 0.007*someth + 0.006*eat + 0.006*noth + 0.006*use + 0.006*qualiti',\n",
       " '0.066*station + 0.037*rock + 0.029*jerk + 0.029*blown + 0.024*away + 0.021*dream + 0.020*gaucho + 0.019*tonight + 0.018*rough + 0.016*indulg + 0.015*soooo + 0.015*fritter + 0.013*reheat + 0.012*caribbean + 0.012*freez + 0.011*construct + 0.011*peruvian + 0.011*michael + 0.010*critic + 0.010*gas + 0.010*hat + 0.010*jamaican + 0.010*tomorrow + 0.009*sweat + 0.008*abay + 0.008*wind + 0.008*vast + 0.008*mama + 0.007*glanc + 0.007*deter',\n",
       " '0.076*good + 0.052*food + 0.031*price + 0.028*place + 0.026*pretti + 0.026*servic + 0.023*realli + 0.020*great + 0.015*nice + 0.014*go + 0.014*get + 0.013*would + 0.013*like + 0.013*littl + 0.011*bit + 0.010*portion + 0.010*decent + 0.009*friend + 0.009*overal + 0.009*definit + 0.009*though + 0.009*special + 0.008*better + 0.008*reason + 0.008*much + 0.008*noth + 0.007*also + 0.007*drink + 0.007*back + 0.007*lot',\n",
       " '0.085*sandwich + 0.079*fri + 0.025*chees + 0.023*bread + 0.015*meat + 0.015*order + 0.013*good + 0.012*steak + 0.012*potato + 0.011*beef + 0.011*slaw + 0.011*primanti + 0.010*french + 0.010*pittsburgh + 0.009*side + 0.008*grill + 0.008*got + 0.007*also + 0.007*coleslaw + 0.007*pickl + 0.006*tomato + 0.006*onion + 0.006*brisket + 0.006*chip + 0.006*top + 0.006*like + 0.006*tri + 0.006*corn + 0.006*cut + 0.005*turkey',\n",
       " '0.062*dessert + 0.057*cream + 0.056*cake + 0.052*chocol + 0.051*ice + 0.023*crab + 0.017*butter + 0.017*cooki + 0.015*cheesecak + 0.013*bread + 0.013*pastri + 0.013*german + 0.011*appl + 0.011*peanut + 0.011*sweet + 0.011*pud + 0.010*strawberri + 0.009*almond + 0.009*whip + 0.009*vanilla + 0.009*banana + 0.008*bakeri + 0.008*pie + 0.008*delici + 0.007*creme + 0.007*fruit + 0.007*caramel + 0.007*sugar + 0.007*ricotta + 0.007*cone',\n",
       " '0.244*beer + 0.118*select + 0.029*great + 0.029*bar + 0.028*draft + 0.026*tap + 0.022*list + 0.022*brew + 0.019*craft + 0.017*bottl + 0.012*local + 0.011*tapa + 0.011*pub + 0.010*menu + 0.009*wine + 0.006*ale + 0.006*bartend + 0.006*ipa + 0.006*head + 0.005*good + 0.005*glass + 0.005*awesom + 0.005*extens + 0.005*offer + 0.005*includ + 0.005*pint + 0.004*huge + 0.004*hous + 0.004*drink + 0.004*hofbrauhaus',\n",
       " '0.100*strip + 0.073*store + 0.052*pretzel + 0.051*shop + 0.042*district + 0.036*milkshak + 0.033*patti + 0.023*buy + 0.021*sell + 0.020*groceri + 0.016*deli + 0.012*biscotti + 0.012*product + 0.011*giant + 0.011*tessaro + 0.011*local + 0.011*john + 0.011*frozen + 0.010*bakeri + 0.010*loaf + 0.010*yard + 0.009*everyday + 0.008*jimmi + 0.008*class + 0.008*organ + 0.008*sale + 0.007*brand + 0.007*pound + 0.006*bread + 0.006*soft',\n",
       " '0.064*breakfast + 0.052*brunch + 0.049*egg + 0.037*coffe + 0.033*pancak + 0.025*toast + 0.022*diner + 0.020*sunday + 0.019*potato + 0.018*bacon + 0.018*crepe + 0.018*morn + 0.017*french + 0.014*sausag + 0.011*wait + 0.010*pamela + 0.010*omelet + 0.009*order + 0.008*delici + 0.008*hash + 0.008*side + 0.008*bagel + 0.008*omelett + 0.007*chees + 0.007*weekend + 0.007*cafe + 0.006*also + 0.006*home + 0.006*ham + 0.005*serv',\n",
       " '0.068*salad + 0.023*pasta + 0.022*sauc + 0.019*chees + 0.018*bread + 0.017*chicken + 0.017*tomato + 0.016*dress + 0.015*order + 0.014*soup + 0.013*green + 0.012*good + 0.012*italian + 0.011*side + 0.011*dish + 0.010*meal + 0.009*pepper + 0.009*came + 0.008*oliv + 0.008*also + 0.008*mushroom + 0.008*fresh + 0.008*red + 0.008*grill + 0.008*lettuc + 0.008*potato + 0.007*serv + 0.007*oil + 0.006*goat + 0.006*onion',\n",
       " '0.013*com + 0.012*legum + 0.011*breweri + 0.011*http + 0.010*kay + 0.009*watch + 0.009*www + 0.008*former + 0.007*mapl + 0.007*recal + 0.007*la + 0.006*root + 0.006*regret + 0.006*yelp + 0.006*lebanon + 0.006*bodi + 0.006*contrast + 0.005*uncl + 0.005*arugula + 0.005*name + 0.005*dust + 0.005*float + 0.005*gourmandin + 0.005*exot + 0.005*latin + 0.005*cube + 0.005*youtub + 0.005*mere + 0.005*yet + 0.005*burst',\n",
       " '0.117*smoke + 0.078*smell + 0.050*fire + 0.035*groupon + 0.027*con + 0.025*pro + 0.023*insan + 0.022*wood + 0.021*rub + 0.019*smoki + 0.016*mr + 0.016*imposs + 0.013*consum + 0.013*smokey + 0.012*lemonad + 0.012*gold + 0.011*drunk + 0.010*burn + 0.009*dairi + 0.009*freezer + 0.009*mass + 0.009*toler + 0.009*win + 0.008*ear + 0.008*spicier + 0.007*health + 0.007*basement + 0.007*kevin + 0.007*row + 0.006*allow',\n",
       " '0.055*mom + 0.036*sister + 0.034*00 + 0.029*fee + 0.019*cider + 0.015*charg + 0.015*secur + 0.014*byob + 0.014*corkag + 0.012*id + 0.011*rain + 0.011*storm + 0.011*freak + 0.010*booz + 0.010*tour + 0.010*casino + 0.009*concert + 0.009*nine + 0.009*outrag + 0.009*bottl + 0.009*ador + 0.009*wed + 0.008*cousin + 0.008*latter + 0.008*cork + 0.008*edg + 0.008*shock + 0.008*juli + 0.008*yuengl + 0.007*bed',\n",
       " '0.036*place + 0.034*get + 0.028*go + 0.021*best + 0.020*pittsburgh + 0.019*one + 0.018*make + 0.016*like + 0.014*know + 0.014*eat + 0.012*want + 0.011*food + 0.011*peopl + 0.010*ever + 0.009*come + 0.009*take + 0.008*good + 0.008*think + 0.008*thing + 0.008*say + 0.007*way + 0.007*citi + 0.007*even + 0.007*everi + 0.006*sure + 0.006*find + 0.006*need + 0.006*right + 0.006*home + 0.005*around',\n",
       " '0.039*leaf + 0.024*tom + 0.024*scale + 0.023*bf + 0.021*nicki + 0.019*smoothi + 0.018*spoon + 0.018*smile + 0.017*banana + 0.016*ball + 0.016*poutin + 0.013*gravi + 0.013*tamari + 0.011*fishi + 0.010*noodlehead + 0.010*wipe + 0.009*boat + 0.009*desir + 0.009*kim + 0.009*drag + 0.008*towel + 0.007*assist + 0.007*curd + 0.007*panang + 0.007*skimpi + 0.007*rainbow + 0.007*chi + 0.007*blew + 0.007*silk + 0.007*coca',\n",
       " '0.120*kid + 0.107*waffl + 0.084*old + 0.047*chicken + 0.044*daughter + 0.022*school + 0.021*fashion + 0.019*superb + 0.019*adult + 0.018*finger + 0.018*year + 0.017*belgian + 0.016*cent + 0.015*meatloaf + 0.014*bewar + 0.012*lick + 0.012*famili + 0.012*wife + 0.011*chile + 0.010*din + 0.009*scoop + 0.008*boneless + 0.008*nicest + 0.006*17 + 0.006*relleno + 0.005*greater + 0.005*timer + 0.005*syrup + 0.005*breast + 0.005*mighti',\n",
       " '0.111*wing + 0.095*chees + 0.073*chicken + 0.065*sauc + 0.045*mac + 0.039*rib + 0.036*bbq + 0.027*order + 0.026*buffalo + 0.022*flavor + 0.020*side + 0.013*ranch + 0.013*dri + 0.011*dip + 0.011*meat + 0.011*spici + 0.010*tender + 0.010*blue + 0.010*short + 0.009*bone + 0.009*grill + 0.008*good + 0.008*also + 0.008*cornbread + 0.007*crispi + 0.007*tri + 0.006*green + 0.006*barbecu + 0.006*prime + 0.006*sam',\n",
       " '0.111*taco + 0.042*chip + 0.038*mexican + 0.035*salsa + 0.030*burrito + 0.026*margarita + 0.018*bean + 0.017*tortilla + 0.016*chicken + 0.015*guacamol + 0.014*mex + 0.013*order + 0.012*chipotl + 0.011*corn + 0.010*flavor + 0.010*fish + 0.010*rice + 0.010*chorizo + 0.009*fresh + 0.009*quesadilla + 0.009*queso + 0.009*guac + 0.009*lime + 0.008*spici + 0.008*authent + 0.008*also + 0.008*cilantro + 0.007*nacho + 0.007*dip + 0.006*good',\n",
       " '0.061*great + 0.058*food + 0.032*servic + 0.028*place + 0.026*friend + 0.021*best + 0.021*delici + 0.021*recommend + 0.019*amaz + 0.019*pittsburgh + 0.017*staff + 0.016*definit + 0.016*excel + 0.016*back + 0.015*love + 0.014*restaur + 0.013*atmospher + 0.012*high + 0.011*go + 0.011*good + 0.010*awesom + 0.009*fantast + 0.009*perfect + 0.009*everyth + 0.009*time + 0.008*ever + 0.008*tri + 0.008*wonder + 0.008*experi + 0.008*well',\n",
       " '0.076*sub + 0.047*kinda + 0.032*gourmet + 0.027*dont + 0.027*par + 0.021*brother + 0.019*crap + 0.018*oh + 0.018*suck + 0.018*sold + 0.017*didnt + 0.015*bc + 0.014*yeah + 0.014*subway + 0.014*moon + 0.014*ya + 0.012*minim + 0.012*god + 0.012*garbag + 0.011*holi + 0.010*seven + 0.009*crusti + 0.009*hell + 0.008*trash + 0.008*jersey + 0.008*salami + 0.008*cheapest + 0.007*ranchero + 0.007*gal + 0.007*mount',\n",
       " '0.043*cocktail + 0.042*vibe + 0.040*ambienc + 0.033*bourbon + 0.030*countri + 0.017*farm + 0.016*killer + 0.015*cool + 0.014*funki + 0.014*sourc + 0.013*local + 0.012*manhattan + 0.012*thanksgiv + 0.012*knock + 0.012*histori + 0.012*memori + 0.012*mule + 0.010*scotch + 0.010*defin + 0.009*visitor + 0.009*vacat + 0.009*superior + 0.009*variat + 0.009*papa + 0.009*classic + 0.008*industri + 0.008*dig + 0.007*grandmoth + 0.007*signatur + 0.007*chutney',\n",
       " '0.032*mt + 0.029*hamburg + 0.026*washington + 0.024*neat + 0.020*view + 0.019*wild + 0.018*carn + 0.018*pit + 0.018*neighbor + 0.015*bay + 0.014*ew + 0.013*smallman + 0.013*asada + 0.012*overr + 0.012*em + 0.012*express + 0.011*da + 0.011*butler + 0.011*enthusiast + 0.010*spoil + 0.009*savor + 0.009*warehous + 0.008*quarter + 0.008*button + 0.008*dave + 0.008*brooklin + 0.007*boar + 0.007*mile + 0.007*yellow + 0.007*dock',\n",
       " '0.055*hotel + 0.046*pierogi + 0.024*cater + 0.023*church + 0.022*stay + 0.017*truck + 0.016*hospit + 0.016*steel + 0.016*polish + 0.012*nasti + 0.011*screw + 0.011*old + 0.010*site + 0.010*room + 0.010*highland + 0.009*center + 0.009*weeknight + 0.008*event + 0.008*region + 0.008*bustl + 0.007*craig + 0.007*partial + 0.007*hall + 0.007*gumbo + 0.007*resid + 0.007*child + 0.007*tremend + 0.006*built + 0.006*rout + 0.006*nevertheless',\n",
       " '0.276*burger + 0.069*fri + 0.027*bacon + 0.023*bun + 0.022*onion + 0.022*top + 0.020*medium + 0.020*order + 0.018*well + 0.018*cook + 0.016*burgatori + 0.014*chees + 0.012*brgr + 0.011*rare + 0.011*side + 0.011*cajun + 0.011*ring + 0.010*tot + 0.009*done + 0.009*dad + 0.009*beef + 0.009*grill + 0.008*meat + 0.008*chip + 0.007*bomb + 0.007*cheeseburg + 0.006*truffl + 0.006*tater + 0.006*cheddar + 0.006*mushroom',\n",
       " '0.022*restaur + 0.022*menu + 0.014*tabl + 0.013*meal + 0.013*dine + 0.012*u + 0.012*one + 0.011*dinner + 0.010*order + 0.010*experi + 0.009*two + 0.009*dish + 0.008*small + 0.008*enjoy + 0.008*would + 0.007*larg + 0.007*plate + 0.007*even + 0.007*reserv + 0.007*group + 0.007*entre + 0.007*server + 0.006*parti + 0.006*room + 0.006*appet + 0.006*made + 0.006*serv + 0.006*well + 0.006*also + 0.005*offer',\n",
       " '0.028*tri + 0.026*time + 0.021*place + 0.021*realli + 0.020*good + 0.020*go + 0.020*like + 0.020*back + 0.017*first + 0.017*got + 0.015*would + 0.012*went + 0.012*review + 0.011*want + 0.011*one + 0.010*look + 0.010*thing + 0.009*say + 0.009*think + 0.008*get + 0.008*love + 0.008*order + 0.008*next + 0.008*sinc + 0.008*give + 0.008*definit + 0.007*know + 0.007*friend + 0.007*someth + 0.007*decid',\n",
       " '0.222*hot + 0.107*dog + 0.049*chili + 0.042*shake + 0.024*pig + 0.021*chicago + 0.020*omg + 0.014*pot + 0.012*texa + 0.012*pittsburg + 0.011*song + 0.010*bench + 0.009*chilli + 0.009*union + 0.009*rack + 0.009*legit + 0.009*9pm + 0.009*bun + 0.008*ive + 0.008*hotdog + 0.007*snap + 0.007*bobbi + 0.006*nation + 0.006*style + 0.006*henc + 0.005*picnic + 0.005*fudg + 0.005*cow + 0.005*holi + 0.005*mustard',\n",
       " '0.019*flight + 0.017*benedict + 0.016*drive + 0.016*man + 0.015*fli + 0.014*counter + 0.014*biscuit + 0.013*behind + 0.012*woman + 0.011*robinson + 0.011*system + 0.010*ride + 0.010*deluca + 0.010*car + 0.010*young + 0.010*text + 0.009*thru + 0.009*soul + 0.009*drove + 0.009*door + 0.009*fave + 0.008*as + 0.008*shoulder + 0.007*bank + 0.007*harri + 0.007*pecan + 0.006*folk + 0.006*crew + 0.006*lamp + 0.006*run',\n",
       " '0.227*pizza + 0.031*crust + 0.031*chees + 0.028*order + 0.022*slice + 0.020*pie + 0.020*top + 0.019*sauc + 0.018*good + 0.018*hoagi + 0.014*pepperoni + 0.012*deliveri + 0.012*oven + 0.009*best + 0.008*italian + 0.008*dough + 0.008*larg + 0.007*great + 0.006*fresh + 0.006*place + 0.006*also + 0.006*deliv + 0.006*tast + 0.005*tri + 0.005*sausag + 0.005*shop + 0.005*like + 0.005*style + 0.004*mushroom + 0.004*calzon',\n",
       " '0.041*wait + 0.030*minut + 0.029*u + 0.028*tabl + 0.027*order + 0.017*seat + 0.016*time + 0.015*get + 0.014*came + 0.012*got + 0.011*took + 0.011*food + 0.010*hour + 0.010*walk + 0.010*long + 0.010*arriv + 0.009*back + 0.009*10 + 0.009*around + 0.009*would + 0.008*30 + 0.008*take + 0.008*even + 0.008*went + 0.008*peopl + 0.007*waitress + 0.007*15 + 0.007*one + 0.007*told + 0.007*drink',\n",
       " '0.046*nice + 0.027*place + 0.025*seat + 0.023*great + 0.023*good + 0.022*outsid + 0.018*insid + 0.018*littl + 0.017*realli + 0.016*tabl + 0.013*coffe + 0.013*area + 0.013*space + 0.013*sit + 0.013*atmospher + 0.012*decor + 0.012*like + 0.012*patio + 0.012*love + 0.012*outdoor + 0.011*look + 0.011*friend + 0.010*food + 0.010*open + 0.010*small + 0.010*cool + 0.009*feel + 0.009*also + 0.009*cute + 0.008*peopl',\n",
       " '0.045*flavor + 0.027*perfect + 0.022*sweet + 0.016*tast + 0.014*sauc + 0.013*well + 0.012*bit + 0.012*delici + 0.011*fresh + 0.010*littl + 0.009*top + 0.009*crispi + 0.009*tri + 0.009*light + 0.009*textur + 0.008*salt + 0.008*made + 0.008*cook + 0.008*bite + 0.007*season + 0.006*right + 0.006*combin + 0.006*tender + 0.006*creami + 0.006*balanc + 0.006*spice + 0.006*like + 0.006*soft + 0.005*could + 0.005*mouth',\n",
       " '0.159*sushi + 0.126*roll + 0.097*fish + 0.039*tuna + 0.033*fresh + 0.026*salmon + 0.019*japanes + 0.017*sashimi + 0.014*hibachi + 0.014*piec + 0.014*spici + 0.013*miso + 0.012*california + 0.011*avocado + 0.010*chef + 0.009*donut + 0.009*cevich + 0.008*rice + 0.008*qualiti + 0.007*raw + 0.007*sake + 0.007*soup + 0.007*seafood + 0.006*bike + 0.006*maki + 0.006*tokyo + 0.005*order + 0.005*eel + 0.005*ginger + 0.005*wasabi',\n",
       " '0.041*cure + 0.040*pgh + 0.024*pa + 0.022*cuban + 0.018*fianc\\xc3\\xa9 + 0.017*spanish + 0.016*attend + 0.016*skeptic + 0.016*complex + 0.015*im + 0.015*buddi + 0.014*birthday + 0.014*colleagu + 0.013*plantain + 0.013*ethiopian + 0.012*de + 0.012*fellow + 0.011*ensur + 0.011*yelper + 0.011*advic + 0.011*substanti + 0.010*tune + 0.010*celebr + 0.010*renov + 0.010*wooden + 0.010*holiday + 0.009*airi + 0.009*cap + 0.009*joy + 0.008*cuisin',\n",
       " '0.049*love + 0.048*alway + 0.028*place + 0.026*get + 0.025*favorit + 0.025*great + 0.022*delici + 0.021*go + 0.021*menu + 0.021*also + 0.019*tri + 0.018*food + 0.017*option + 0.016*time + 0.016*vegetarian + 0.014*never + 0.013*one + 0.013*realli + 0.012*eat + 0.012*good + 0.012*like + 0.012*friend + 0.012*come + 0.011*amaz + 0.010*vegan + 0.010*usual + 0.010*make + 0.009*everi + 0.009*thing + 0.008*veggi',\n",
       " '0.028*steak + 0.027*wine + 0.017*dinner + 0.017*appet + 0.016*dish + 0.015*cook + 0.015*order + 0.014*shrimp + 0.013*entre + 0.013*duck + 0.013*perfect + 0.013*good + 0.012*scallop + 0.011*meal + 0.011*lobster + 0.011*seafood + 0.010*delici + 0.010*night + 0.010*plate + 0.009*well + 0.009*dessert + 0.009*also + 0.009*meat + 0.008*mussel + 0.008*start + 0.008*cours + 0.008*great + 0.008*oyster + 0.008*restaur + 0.007*salmon',\n",
       " '0.145*park + 0.075*street + 0.045*squar + 0.044*across + 0.044*market + 0.027*locat + 0.020*lot + 0.019*pastrami + 0.014*caesar + 0.013*joe + 0.013*right + 0.013*find + 0.012*valet + 0.011*soba + 0.011*walk + 0.011*car + 0.010*easi + 0.008*block + 0.007*sloppi + 0.006*key + 0.006*plum + 0.006*downtown + 0.006*liberti + 0.006*dc + 0.006*regent + 0.005*challeng + 0.005*breez + 0.005*lidia + 0.005*downsid + 0.005*bolognes',\n",
       " '0.068*free + 0.053*call + 0.039*order + 0.031*card + 0.021*phone + 0.019*gluten + 0.019*deliveri + 0.017*cash + 0.017*credit + 0.014*take + 0.014*use + 0.014*onlin + 0.013*owner + 0.012*deliv + 0.010*custom + 0.010*coupon + 0.009*pick + 0.009*gift + 0.009*accept + 0.009*websit + 0.008*guy + 0.008*pay + 0.008*answer + 0.008*offer + 0.008*hour + 0.007*thank + 0.007*number + 0.007*close + 0.006*ahead + 0.006*purchas',\n",
       " '0.061*gyro + 0.056*lamb + 0.052*hummus + 0.052*pita + 0.030*platter + 0.027*greek + 0.024*middl + 0.021*baklava + 0.021*eastern + 0.020*mediterranean + 0.020*meat + 0.020*feta + 0.018*baba + 0.016*wrap + 0.016*spinach + 0.015*ny + 0.015*eleven + 0.015*leaf + 0.013*istanbul + 0.011*owner + 0.010*cant + 0.010*grill + 0.010*eagl + 0.009*western + 0.008*dip + 0.008*lunchtim + 0.008*energi + 0.007*hockey + 0.007*naya + 0.007*aladdin',\n",
       " '0.055*new + 0.035*sangria + 0.028*octopus + 0.025*south + 0.025*york + 0.024*river + 0.022*san + 0.020*pitcher + 0.019*bloomfield + 0.018*empanada + 0.017*stumbl + 0.016*expand + 0.015*upon + 0.015*lasagna + 0.014*cultur + 0.013*mid + 0.011*mike + 0.011*itali + 0.011*dan + 0.011*midnight + 0.010*side + 0.010*il + 0.010*festiv + 0.010*entertain + 0.009*francisco + 0.009*urban + 0.008*rabbit + 0.008*expos + 0.008*bear + 0.008*obnoxi',\n",
       " '0.058*airport + 0.047*son + 0.046*turkish + 0.041*famili + 0.037*danc + 0.034*own + 0.031*kebab + 0.026*fianc + 0.022*island + 0.019*mi + 0.018*sofra + 0.017*pleasur + 0.016*wet + 0.012*everybodi + 0.012*innov + 0.012*refund + 0.012*tie + 0.011*bucket + 0.011*banh + 0.010*us + 0.010*premium + 0.010*standout + 0.009*support + 0.008*repres + 0.008*guid + 0.007*novelti + 0.006*exagger + 0.006*toddler + 0.006*player + 0.006*bahn',\n",
       " '0.084*bar + 0.052*drink + 0.032*night + 0.020*bartend + 0.017*game + 0.014*music + 0.012*friend + 0.012*hour + 0.011*cocktail + 0.011*place + 0.010*crowd + 0.010*happi + 0.010*fun + 0.010*watch + 0.009*great + 0.008*play + 0.007*tv + 0.007*loud + 0.006*area + 0.006*upstair + 0.006*late + 0.006*even + 0.006*sit + 0.005*peopl + 0.005*atmospher + 0.005*friday + 0.005*floor + 0.005*sport + 0.005*one + 0.005*room',\n",
       " '0.041*time + 0.035*locat + 0.023*restaur + 0.023*year + 0.022*food + 0.021*alway + 0.019*visit + 0.017*one + 0.015*pittsburgh + 0.012*last + 0.012*mani + 0.011*sinc + 0.010*area + 0.009*servic + 0.009*never + 0.009*qualiti + 0.008*new + 0.008*consist + 0.008*use + 0.008*usual + 0.008*live + 0.008*busi + 0.008*still + 0.008*recent + 0.008*ago + 0.007*chang + 0.007*sever + 0.007*everi + 0.007*open + 0.007*chain',\n",
       " '0.040*chicken + 0.030*rice + 0.030*dish + 0.029*chines + 0.023*order + 0.022*fri + 0.022*food + 0.020*sauc + 0.018*soup + 0.015*tofu + 0.015*shrimp + 0.013*noodl + 0.013*beef + 0.013*restaur + 0.011*dumpl + 0.010*asian + 0.010*veget + 0.010*good + 0.010*egg + 0.009*pork + 0.009*hot + 0.009*general + 0.008*spici + 0.008*also + 0.007*authent + 0.007*menu + 0.007*american + 0.007*tast + 0.007*like + 0.007*flavor',\n",
       " '0.029*mother + 0.021*sun + 0.020*christma + 0.019*wear + 0.017*samosa + 0.017*bob + 0.017*drunken + 0.016*nicer + 0.016*dress + 0.016*shirt + 0.016*attract + 0.015*liver + 0.014*pan + 0.013*iron + 0.013*hub + 0.012*eve + 0.011*jean + 0.011*parent + 0.010*dare + 0.010*central + 0.010*score + 0.010*rank + 0.010*endless + 0.009*paella + 0.009*categori + 0.009*denni + 0.009*capit + 0.009*sink + 0.008*suit + 0.008*sugari']"
      ]
     },
     "execution_count": 27,
     "metadata": {},
     "output_type": "execute_result"
    }
   ],
   "source": [
    "ldamodel.print_topics(50,topn=30)"
   ]
  },
  {
   "cell_type": "markdown",
   "metadata": {},
   "source": [
    "### Trying more viz"
   ]
  },
  {
   "cell_type": "code",
   "execution_count": 52,
   "metadata": {
    "collapsed": true
   },
   "outputs": [],
   "source": [
    "model =  gensim.models.LdaModel.load('../../corpus/lda.model_20')"
   ]
  },
  {
   "cell_type": "code",
   "execution_count": 53,
   "metadata": {
    "collapsed": true
   },
   "outputs": [],
   "source": [
    "lda = model\n",
    "n_topics = 20"
   ]
  },
  {
   "cell_type": "code",
   "execution_count": 54,
   "metadata": {
    "collapsed": false
   },
   "outputs": [
    {
     "name": "stdout",
     "output_type": "stream",
     "text": [
      "Top 10 terms for topic #0: cola, coca, company, united, new, bottling, customers, states, sales, said, territories, distribution, territory, based, 000, 100, associates, columbus, community, serving\n",
      "Top 10 terms for topic #1: pepsi, kendall, jenner, ad, commercial, backlash, kardashians, keeping, people, premiere, felt, controversial, stupid, controversy, black, like, matter, lives, police, season\n",
      "Top 10 terms for topic #2: people, would, see, else, got, pepsi, friends, man, said, las, skippercifer, fact, around, ran, scene, vegas, made, time, ok, night\n",
      "Top 10 terms for topic #3: cola, coca, brand, business, make, one, companies, country, well, also, way, world, marketing, people, products, football, team, apple, human, get\n",
      "Top 10 terms for topic #4: pepsi, share, time, like, one, could, get, eat, used, pinterest, days, twitter, think, watch, two, work, little, gmt, see, money\n",
      "Top 10 terms for topic #5: lost, endorsement, 2013, food, company, contract, dropped, pepsi, rapper, deal, president, star, deals, two, drug, john, may, song, 2004, agency\n",
      "Top 10 terms for topic #6: pepsi, pepsico, file, earnings, 2017, wednesday, photo, sales, third, inc, ap, healthy, quarter, sale, lay, 3q, reports, oct, 2015, profit\n",
      "Top 10 terms for topic #7: cola, coca, sports, today, center, company, usa, favorite, copa, pet, youth, period, life, bottling, nigerian, right, wing, new, million, established\n",
      "Top 10 terms for topic #8: plastic, bottles, coca, cola, year, production, billion, greenpeace, bottle, use, last, single, increased, increase, coke, packaging, company, says, 2016, produced\n",
      "Top 10 terms for topic #9: topo, chico, cola, water, coca, brand, sparkling, brands, mexico, coke, texas, marketing, bottled, mineral, company, unit, premium, emerging, new, america\n",
      "Top 10 terms for topic #10: 2017, october, wwe, 10, pepsi, live, center, denver, week, smackdown, raw, oct, 00, show, place, tonight, hell, pm, femsa, cell\n",
      "Top 10 terms for topic #11: cola, coca, new, first, city, santa, one, art, festival, school, time, little, light, atlanta, many, college, way, pepsi, world, st\n",
      "Top 10 terms for topic #12: pepsi, coke, pizza, color, blue, machine, vending, decision, good, crystal, customers, cut, yesterday, drink, machines, court, selection, fact, page, changed\n",
      "Top 10 terms for topic #13: brands, cola, coca, pepsi, like, online, site, time, world, social, advertising, ads, digital, hollywood, food, media, free, first, justin, 50\n",
      "Top 10 terms for topic #14: cola, coca, restaurant, fusion, mobile, ketchup, french, child, estimates, phones, instead, local, time, france, dinner, bans, welcome, early, image, fizzle\n",
      "Top 10 terms for topic #15: company, cola, coca, sales, percent, beverage, billion, year, shares, ko, buffett, market, stock, north, said, revenue, co, pepsico, business, drinks\n",
      "Top 10 terms for topic #16: pepsi, star, million, deals, johnson, song, two, like, go, music, year, 12, several, nestle, made, paid, video, came, saw, although\n",
      "Top 10 terms for topic #17: cola, coca, said, chief, executive, hbc, yates, nascar, lois, file, ceo, photo, dimitris, robert, company, london, owner, team, death, statement\n",
      "Top 10 terms for topic #18: coke, diet, cola, sugar, coca, drink, like, zero, soda, pepsi, day, one, drinks, would, cherry, taste, coffee, new, much, water\n",
      "Top 10 terms for topic #19: post, content, f_branding_on, group, blog, pullquote, entry, editor, inner, first, pullquote__helper, last, deadspin, f_branding_fusion_on, reigns, author, hover, popularity, item, filled\n"
     ]
    }
   ],
   "source": [
    "term_list = []\n",
    "for i in range(0, n_topics):\n",
    "    temp = lda.show_topic(i, 20)\n",
    "    terms = []\n",
    "    for term in temp:\n",
    "        terms.append(term)\n",
    "    term_list.append(terms)\n",
    "    print \"Top 10 terms for topic #\" + str(i) + \": \"+ \", \".join([i[0] for i in terms])"
   ]
  },
  {
   "cell_type": "code",
   "execution_count": 60,
   "metadata": {
    "collapsed": true
   },
   "outputs": [],
   "source": [
    "from os import path\n",
    "import matplotlib.pyplot as plt\n",
    "from wordcloud import WordCloud"
   ]
  },
  {
   "cell_type": "code",
   "execution_count": 37,
   "metadata": {
    "collapsed": false
   },
   "outputs": [],
   "source": [
    "K=14\n",
    "\n",
    "def terms_to_wordcounts(terms, multiplier=1000):\n",
    "    return  \" \".join([\" \".join(int(multiplier*i[1]) * [i[0]]) for i in terms])\n",
    "\n",
    "\n",
    "\n",
    "wordcloud = WordCloud().generate(terms_to_wordcounts(term_list[K]))\n",
    "\n",
    "\n",
    "plt.imshow(wordcloud)\n",
    "plt.axis(\"off\")\n",
    "plt.savefig(\"terms\" + str(K))\n",
    "plt.close()"
   ]
  },
  {
   "cell_type": "code",
   "execution_count": 55,
   "metadata": {
    "collapsed": true
   },
   "outputs": [],
   "source": [
    "data_path = \"../../corpus/WordCloud_20/\"\n",
    "def wordcloudgen():\n",
    "    for K in range(0,20):\n",
    "        wordcloud = WordCloud().generate(terms_to_wordcounts(term_list[K]))\n",
    "        plt.imshow(wordcloud)\n",
    "        plt.axis(\"off\")\n",
    "        plt.savefig(data_path + \"terms\" + str(K))\n",
    "        plt.close()\n"
   ]
  },
  {
   "cell_type": "code",
   "execution_count": 56,
   "metadata": {
    "collapsed": false
   },
   "outputs": [],
   "source": [
    "wordcloudgen()"
   ]
  },
  {
   "cell_type": "code",
   "execution_count": 16,
   "metadata": {
    "collapsed": true
   },
   "outputs": [],
   "source": [
    "from sklearn.feature_extraction import DictVectorizer"
   ]
  },
  {
   "cell_type": "code",
   "execution_count": 18,
   "metadata": {
    "collapsed": true
   },
   "outputs": [],
   "source": [
    "def topics_to_vectorspace(n_topics, n_words=100):\n",
    "    rows = []\n",
    "    for i in xrange(n_topics):\n",
    "            temp = lda.show_topic(i, n_words)\n",
    "            row = dict(((i[1],i[0]) for i in temp))\n",
    "            rows.append(row)\n",
    "    return rows    "
   ]
  },
  {
   "cell_type": "code",
   "execution_count": 19,
   "metadata": {
    "collapsed": false
   },
   "outputs": [
    {
     "data": {
      "text/plain": [
       "(50, 3092)"
      ]
     },
     "execution_count": 19,
     "metadata": {},
     "output_type": "execute_result"
    }
   ],
   "source": [
    "vec = DictVectorizer()\n",
    "X = vec.fit_transform(topics_to_vectorspace(n_topics))\n",
    "X.shape"
   ]
  },
  {
   "cell_type": "code",
   "execution_count": 22,
   "metadata": {
    "collapsed": true
   },
   "outputs": [],
   "source": [
    "from sklearn.decomposition import PCA\n",
    "pca = PCA(n_components=2)\n",
    "X_pca = pca.fit(X.toarray()).transform(X.toarray())\n",
    "plt.figure()\n",
    "for i in xrange(X_pca.shape[0]):\n",
    "    plt.scatter(X_pca[i, 0], X_pca[i, 1], alpha=.5)\n",
    "    plt.text(X_pca[i, 0], X_pca[i, 1], s=' ' + str(i),fontsize=8)    \n",
    "plt.title('PCA Topics of Yelp restaurant')\n",
    "plt.savefig(\"pca_topic\")\n",
    "plt.close()"
   ]
  },
  {
   "cell_type": "code",
   "execution_count": 23,
   "metadata": {
    "collapsed": true
   },
   "outputs": [],
   "source": [
    "from scipy.cluster.hierarchy import linkage, dendrogram\n",
    "plt.figure(figsize=(12,6))\n",
    "R = dendrogram(linkage(X_pca))\n",
    "plt.savefig(\"dendro\")\n",
    "plt.close()"
   ]
  },
  {
   "cell_type": "code",
   "execution_count": 26,
   "metadata": {
    "collapsed": false,
    "scrolled": true
   },
   "outputs": [
    {
     "name": "stderr",
     "output_type": "stream",
     "text": [
      "/Users/Taran/anaconda2/lib/python2.7/site-packages/ipykernel/__main__.py:7: ClusterWarning: scipy.cluster: The symmetric non-negative hollow observation matrix looks suspiciously like an uncondensed distance matrix\n"
     ]
    }
   ],
   "source": [
    "## correlation matrix\n",
    "from scipy.spatial.distance import pdist, squareform\n",
    "\n",
    "cor = squareform(pdist(X.toarray(), metric=\"euclidean\"))\n",
    "\n",
    "plt.figure(figsize=(12,6))\n",
    "R = dendrogram(linkage(cor))\n",
    "plt.savefig(\"corr\")\n",
    "\n",
    "plt.close()\n",
    "\n",
    "## network\n",
    "import networkx as nx\n",
    "from sklearn.pipeline import make_pipeline\n",
    "from sklearn.preprocessing import Normalizer\n",
    "pca_norm = make_pipeline(PCA(n_components=20), Normalizer(copy=False))\n",
    "X_pca_norm = pca_norm.fit(X.toarray()).transform(X.toarray())\n",
    "cor = squareform(pdist(X_pca_norm, metric=\"euclidean\"))\n",
    "G = nx.Graph()\n",
    "for i in xrange(cor.shape[0]):\n",
    "    for j in xrange(cor.shape[1]):\n",
    "        if i == j:\n",
    "            G.add_edge(i, j, {\"weight\":0})\n",
    "        else:\n",
    "            G.add_edge(i, j, {\"weight\":1.0/cor[i,j]})\n",
    "\n",
    "edges = [(i, j) for i, j, w in G.edges(data=True) if w['weight'] > .8]\n",
    "\n",
    "edge_weight=dict([((u,v,),int(d['weight'])) for u,v,d in G.edges(data=True)])\n",
    "#pos = nx.graphviz_layout(G, prog=\"twopi\") # twopi, neato, circo\n",
    "pos = nx.spring_layout(G)\n",
    "nx.draw_networkx_nodes(G, pos, node_size=100, alpha=.5)\n",
    "nx.draw_networkx_edges(G, pos, edgelist=edges, width=1)\n",
    "#nx.draw_networkx_edge_labels(G, pos ,edge_labels=edge_weight)\n",
    "nx.draw_networkx_labels(G, pos, font_size=8, font_family='sans-serif')\n",
    "plt.savefig(\"network\")\n",
    "plt.close()"
   ]
  },
  {
   "cell_type": "code",
   "execution_count": 35,
   "metadata": {
    "collapsed": true
   },
   "outputs": [],
   "source": [
    "def printhello():\n",
    "    a = 2+3\n",
    "    return a"
   ]
  },
  {
   "cell_type": "code",
   "execution_count": 39,
   "metadata": {
    "collapsed": false
   },
   "outputs": [
    {
     "name": "stdout",
     "output_type": "stream",
     "text": [
      "1 loop, best of 3: 0 ns per loop\n"
     ]
    }
   ],
   "source": [
    "%timeit -n 1 a=printhello()"
   ]
  },
  {
   "cell_type": "code",
   "execution_count": 37,
   "metadata": {
    "collapsed": false
   },
   "outputs": [
    {
     "ename": "NameError",
     "evalue": "name 'a' is not defined",
     "output_type": "error",
     "traceback": [
      "\u001b[0;31m---------------------------------------------------------------------------\u001b[0m",
      "\u001b[0;31mNameError\u001b[0m                                 Traceback (most recent call last)",
      "\u001b[0;32m<ipython-input-37-60b725f10c9c>\u001b[0m in \u001b[0;36m<module>\u001b[0;34m()\u001b[0m\n\u001b[0;32m----> 1\u001b[0;31m \u001b[0ma\u001b[0m\u001b[0;34m\u001b[0m\u001b[0m\n\u001b[0m",
      "\u001b[0;31mNameError\u001b[0m: name 'a' is not defined"
     ]
    }
   ],
   "source": [
    "In [51]: import matplotlib.pyplot as plt\n",
    "\n",
    "In [52]: num_top_words = 10\n",
    "\n",
    "In [53]: fontsize_base = 70 / np.max(word_topic) # font size for word with largest share in corpus\n",
    "\n",
    "In [54]: for t in range(num_topics):\n",
    "        plt.subplot(1, num_topics, t + 1)  # plot numbering starts with 1\n",
    "        plt.ylim(0, num_top_words + 0.5)  # stretch the y-axis to accommodate the words\n",
    "   ....:     plt.xticks([])  # remove x-axis markings ('ticks')\n",
    "   ....:     plt.yticks([]) # remove y-axis markings ('ticks')\n",
    "   ....:     plt.title('Topic #{}'.format(t))\n",
    "   ....:     top_words_idx = np.argsort(word_topic[:,t])[::-1]  # descending order\n",
    "   ....:     top_words_idx = top_words_idx[:num_top_words]\n",
    "   ....:     top_words = mallet_vocab[top_words_idx]\n",
    "   ....:     top_words_shares = word_topic[top_words_idx, t]\n",
    "   ....:     for i, (word, share) in enumerate(zip(top_words, top_words_shares)):\n",
    "   ....:         plt.text(0.3, num_top_words-i-0.5, word, fontsize=fontsize_base*share)\n",
    "   ....: \n",
    "\n",
    "In [55]: plt.tight_layout()"
   ]
  },
  {
   "cell_type": "code",
   "execution_count": 43,
   "metadata": {
    "collapsed": false
   },
   "outputs": [],
   "source": [
    "predict = [7,1,4,2,5,9,23,13]\n",
    "k=5\n",
    "I = sorted(range(len(predict)), key=lambda k: predict[k], reverse = True)\n",
    "I = I[:k]"
   ]
  },
  {
   "cell_type": "code",
   "execution_count": 44,
   "metadata": {
    "collapsed": false
   },
   "outputs": [
    {
     "data": {
      "text/plain": [
       "[6, 7, 5, 0, 4]"
      ]
     },
     "execution_count": 44,
     "metadata": {},
     "output_type": "execute_result"
    }
   ],
   "source": [
    "I"
   ]
  },
  {
   "cell_type": "code",
   "execution_count": null,
   "metadata": {
    "collapsed": true
   },
   "outputs": [],
   "source": []
  }
 ],
 "metadata": {
  "kernelspec": {
   "display_name": "Python 2",
   "language": "python",
   "name": "python2"
  },
  "language_info": {
   "codemirror_mode": {
    "name": "ipython",
    "version": 2
   },
   "file_extension": ".py",
   "mimetype": "text/x-python",
   "name": "python",
   "nbconvert_exporter": "python",
   "pygments_lexer": "ipython2",
   "version": "2.7.13"
  }
 },
 "nbformat": 4,
 "nbformat_minor": 0
}
